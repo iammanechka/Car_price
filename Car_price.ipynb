{
 "cells": [
  {
   "cell_type": "markdown",
   "metadata": {},
   "source": [
    "# Определение стоимости автомобилей"
   ]
  },
  {
   "cell_type": "markdown",
   "metadata": {},
   "source": [
    "Сервис по продаже автомобилей с пробегом «Не бит, не крашен» разрабатывает приложение для привлечения новых клиентов. В нём можно быстро узнать рыночную стоимость своего автомобиля. В вашем распоряжении исторические данные: технические характеристики, комплектации и цены автомобилей. Вам нужно построить модель для определения стоимости. \n",
    "\n",
    "Заказчику важны:\n",
    "\n",
    "- качество предсказания;\n",
    "- скорость предсказания;\n",
    "- время обучения."
   ]
  },
  {
   "cell_type": "markdown",
   "metadata": {},
   "source": [
    "## Подготовка данных"
   ]
  },
  {
   "cell_type": "code",
   "execution_count": 1,
   "metadata": {},
   "outputs": [],
   "source": [
    "import matplotlib.pyplot as plt\n",
    "import seaborn as sns\n",
    "import numpy as np\n",
    "import pandas as pd\n",
    "import sklearn\n",
    "\n",
    "from sklearn.tree import DecisionTreeRegressor\n",
    "from sklearn.ensemble import RandomForestRegressor\n",
    "from sklearn.linear_model import LinearRegression\n",
    "\n",
    "from sklearn.model_selection import train_test_split\n",
    "from sklearn.model_selection import GridSearchCV\n",
    "from sklearn.preprocessing import StandardScaler\n",
    "from sklearn.preprocessing import OrdinalEncoder\n",
    "from sklearn.metrics import mean_squared_error as mse\n",
    "from sklearn.model_selection import cross_val_score\n",
    "\n",
    "from catboost import CatBoostRegressor\n",
    "from lightgbm import LGBMRegressor\n",
    "import lightgbm as lgb\n",
    "import warnings\n",
    "warnings.filterwarnings('ignore')\n",
    "\n",
    "RANDOM_STATE = 12345"
   ]
  },
  {
   "cell_type": "code",
   "execution_count": 2,
   "metadata": {},
   "outputs": [],
   "source": [
    "def study(data): \n",
    "    info = display(data.head(10)), data.info(), display(data.describe())"
   ]
  },
  {
   "cell_type": "code",
   "execution_count": 3,
   "metadata": {},
   "outputs": [],
   "source": [
    "#Загружаем данные\n",
    "\n",
    "data = pd.read_csv('/datasets/autos.csv')"
   ]
  },
  {
   "cell_type": "code",
   "execution_count": 4,
   "metadata": {
    "scrolled": true
   },
   "outputs": [
    {
     "data": {
      "text/html": [
       "<div>\n",
       "<style scoped>\n",
       "    .dataframe tbody tr th:only-of-type {\n",
       "        vertical-align: middle;\n",
       "    }\n",
       "\n",
       "    .dataframe tbody tr th {\n",
       "        vertical-align: top;\n",
       "    }\n",
       "\n",
       "    .dataframe thead th {\n",
       "        text-align: right;\n",
       "    }\n",
       "</style>\n",
       "<table border=\"1\" class=\"dataframe\">\n",
       "  <thead>\n",
       "    <tr style=\"text-align: right;\">\n",
       "      <th></th>\n",
       "      <th>DateCrawled</th>\n",
       "      <th>Price</th>\n",
       "      <th>VehicleType</th>\n",
       "      <th>RegistrationYear</th>\n",
       "      <th>Gearbox</th>\n",
       "      <th>Power</th>\n",
       "      <th>Model</th>\n",
       "      <th>Kilometer</th>\n",
       "      <th>RegistrationMonth</th>\n",
       "      <th>FuelType</th>\n",
       "      <th>Brand</th>\n",
       "      <th>Repaired</th>\n",
       "      <th>DateCreated</th>\n",
       "      <th>NumberOfPictures</th>\n",
       "      <th>PostalCode</th>\n",
       "      <th>LastSeen</th>\n",
       "    </tr>\n",
       "  </thead>\n",
       "  <tbody>\n",
       "    <tr>\n",
       "      <th>0</th>\n",
       "      <td>2016-03-24 11:52:17</td>\n",
       "      <td>480</td>\n",
       "      <td>NaN</td>\n",
       "      <td>1993</td>\n",
       "      <td>manual</td>\n",
       "      <td>0</td>\n",
       "      <td>golf</td>\n",
       "      <td>150000</td>\n",
       "      <td>0</td>\n",
       "      <td>petrol</td>\n",
       "      <td>volkswagen</td>\n",
       "      <td>NaN</td>\n",
       "      <td>2016-03-24 00:00:00</td>\n",
       "      <td>0</td>\n",
       "      <td>70435</td>\n",
       "      <td>2016-04-07 03:16:57</td>\n",
       "    </tr>\n",
       "    <tr>\n",
       "      <th>1</th>\n",
       "      <td>2016-03-24 10:58:45</td>\n",
       "      <td>18300</td>\n",
       "      <td>coupe</td>\n",
       "      <td>2011</td>\n",
       "      <td>manual</td>\n",
       "      <td>190</td>\n",
       "      <td>NaN</td>\n",
       "      <td>125000</td>\n",
       "      <td>5</td>\n",
       "      <td>gasoline</td>\n",
       "      <td>audi</td>\n",
       "      <td>yes</td>\n",
       "      <td>2016-03-24 00:00:00</td>\n",
       "      <td>0</td>\n",
       "      <td>66954</td>\n",
       "      <td>2016-04-07 01:46:50</td>\n",
       "    </tr>\n",
       "    <tr>\n",
       "      <th>2</th>\n",
       "      <td>2016-03-14 12:52:21</td>\n",
       "      <td>9800</td>\n",
       "      <td>suv</td>\n",
       "      <td>2004</td>\n",
       "      <td>auto</td>\n",
       "      <td>163</td>\n",
       "      <td>grand</td>\n",
       "      <td>125000</td>\n",
       "      <td>8</td>\n",
       "      <td>gasoline</td>\n",
       "      <td>jeep</td>\n",
       "      <td>NaN</td>\n",
       "      <td>2016-03-14 00:00:00</td>\n",
       "      <td>0</td>\n",
       "      <td>90480</td>\n",
       "      <td>2016-04-05 12:47:46</td>\n",
       "    </tr>\n",
       "    <tr>\n",
       "      <th>3</th>\n",
       "      <td>2016-03-17 16:54:04</td>\n",
       "      <td>1500</td>\n",
       "      <td>small</td>\n",
       "      <td>2001</td>\n",
       "      <td>manual</td>\n",
       "      <td>75</td>\n",
       "      <td>golf</td>\n",
       "      <td>150000</td>\n",
       "      <td>6</td>\n",
       "      <td>petrol</td>\n",
       "      <td>volkswagen</td>\n",
       "      <td>no</td>\n",
       "      <td>2016-03-17 00:00:00</td>\n",
       "      <td>0</td>\n",
       "      <td>91074</td>\n",
       "      <td>2016-03-17 17:40:17</td>\n",
       "    </tr>\n",
       "    <tr>\n",
       "      <th>4</th>\n",
       "      <td>2016-03-31 17:25:20</td>\n",
       "      <td>3600</td>\n",
       "      <td>small</td>\n",
       "      <td>2008</td>\n",
       "      <td>manual</td>\n",
       "      <td>69</td>\n",
       "      <td>fabia</td>\n",
       "      <td>90000</td>\n",
       "      <td>7</td>\n",
       "      <td>gasoline</td>\n",
       "      <td>skoda</td>\n",
       "      <td>no</td>\n",
       "      <td>2016-03-31 00:00:00</td>\n",
       "      <td>0</td>\n",
       "      <td>60437</td>\n",
       "      <td>2016-04-06 10:17:21</td>\n",
       "    </tr>\n",
       "    <tr>\n",
       "      <th>5</th>\n",
       "      <td>2016-04-04 17:36:23</td>\n",
       "      <td>650</td>\n",
       "      <td>sedan</td>\n",
       "      <td>1995</td>\n",
       "      <td>manual</td>\n",
       "      <td>102</td>\n",
       "      <td>3er</td>\n",
       "      <td>150000</td>\n",
       "      <td>10</td>\n",
       "      <td>petrol</td>\n",
       "      <td>bmw</td>\n",
       "      <td>yes</td>\n",
       "      <td>2016-04-04 00:00:00</td>\n",
       "      <td>0</td>\n",
       "      <td>33775</td>\n",
       "      <td>2016-04-06 19:17:07</td>\n",
       "    </tr>\n",
       "    <tr>\n",
       "      <th>6</th>\n",
       "      <td>2016-04-01 20:48:51</td>\n",
       "      <td>2200</td>\n",
       "      <td>convertible</td>\n",
       "      <td>2004</td>\n",
       "      <td>manual</td>\n",
       "      <td>109</td>\n",
       "      <td>2_reihe</td>\n",
       "      <td>150000</td>\n",
       "      <td>8</td>\n",
       "      <td>petrol</td>\n",
       "      <td>peugeot</td>\n",
       "      <td>no</td>\n",
       "      <td>2016-04-01 00:00:00</td>\n",
       "      <td>0</td>\n",
       "      <td>67112</td>\n",
       "      <td>2016-04-05 18:18:39</td>\n",
       "    </tr>\n",
       "    <tr>\n",
       "      <th>7</th>\n",
       "      <td>2016-03-21 18:54:38</td>\n",
       "      <td>0</td>\n",
       "      <td>sedan</td>\n",
       "      <td>1980</td>\n",
       "      <td>manual</td>\n",
       "      <td>50</td>\n",
       "      <td>other</td>\n",
       "      <td>40000</td>\n",
       "      <td>7</td>\n",
       "      <td>petrol</td>\n",
       "      <td>volkswagen</td>\n",
       "      <td>no</td>\n",
       "      <td>2016-03-21 00:00:00</td>\n",
       "      <td>0</td>\n",
       "      <td>19348</td>\n",
       "      <td>2016-03-25 16:47:58</td>\n",
       "    </tr>\n",
       "    <tr>\n",
       "      <th>8</th>\n",
       "      <td>2016-04-04 23:42:13</td>\n",
       "      <td>14500</td>\n",
       "      <td>bus</td>\n",
       "      <td>2014</td>\n",
       "      <td>manual</td>\n",
       "      <td>125</td>\n",
       "      <td>c_max</td>\n",
       "      <td>30000</td>\n",
       "      <td>8</td>\n",
       "      <td>petrol</td>\n",
       "      <td>ford</td>\n",
       "      <td>NaN</td>\n",
       "      <td>2016-04-04 00:00:00</td>\n",
       "      <td>0</td>\n",
       "      <td>94505</td>\n",
       "      <td>2016-04-04 23:42:13</td>\n",
       "    </tr>\n",
       "    <tr>\n",
       "      <th>9</th>\n",
       "      <td>2016-03-17 10:53:50</td>\n",
       "      <td>999</td>\n",
       "      <td>small</td>\n",
       "      <td>1998</td>\n",
       "      <td>manual</td>\n",
       "      <td>101</td>\n",
       "      <td>golf</td>\n",
       "      <td>150000</td>\n",
       "      <td>0</td>\n",
       "      <td>NaN</td>\n",
       "      <td>volkswagen</td>\n",
       "      <td>NaN</td>\n",
       "      <td>2016-03-17 00:00:00</td>\n",
       "      <td>0</td>\n",
       "      <td>27472</td>\n",
       "      <td>2016-03-31 17:17:06</td>\n",
       "    </tr>\n",
       "  </tbody>\n",
       "</table>\n",
       "</div>"
      ],
      "text/plain": [
       "           DateCrawled  Price  VehicleType  RegistrationYear Gearbox  Power  \\\n",
       "0  2016-03-24 11:52:17    480          NaN              1993  manual      0   \n",
       "1  2016-03-24 10:58:45  18300        coupe              2011  manual    190   \n",
       "2  2016-03-14 12:52:21   9800          suv              2004    auto    163   \n",
       "3  2016-03-17 16:54:04   1500        small              2001  manual     75   \n",
       "4  2016-03-31 17:25:20   3600        small              2008  manual     69   \n",
       "5  2016-04-04 17:36:23    650        sedan              1995  manual    102   \n",
       "6  2016-04-01 20:48:51   2200  convertible              2004  manual    109   \n",
       "7  2016-03-21 18:54:38      0        sedan              1980  manual     50   \n",
       "8  2016-04-04 23:42:13  14500          bus              2014  manual    125   \n",
       "9  2016-03-17 10:53:50    999        small              1998  manual    101   \n",
       "\n",
       "     Model  Kilometer  RegistrationMonth  FuelType       Brand Repaired  \\\n",
       "0     golf     150000                  0    petrol  volkswagen      NaN   \n",
       "1      NaN     125000                  5  gasoline        audi      yes   \n",
       "2    grand     125000                  8  gasoline        jeep      NaN   \n",
       "3     golf     150000                  6    petrol  volkswagen       no   \n",
       "4    fabia      90000                  7  gasoline       skoda       no   \n",
       "5      3er     150000                 10    petrol         bmw      yes   \n",
       "6  2_reihe     150000                  8    petrol     peugeot       no   \n",
       "7    other      40000                  7    petrol  volkswagen       no   \n",
       "8    c_max      30000                  8    petrol        ford      NaN   \n",
       "9     golf     150000                  0       NaN  volkswagen      NaN   \n",
       "\n",
       "           DateCreated  NumberOfPictures  PostalCode             LastSeen  \n",
       "0  2016-03-24 00:00:00                 0       70435  2016-04-07 03:16:57  \n",
       "1  2016-03-24 00:00:00                 0       66954  2016-04-07 01:46:50  \n",
       "2  2016-03-14 00:00:00                 0       90480  2016-04-05 12:47:46  \n",
       "3  2016-03-17 00:00:00                 0       91074  2016-03-17 17:40:17  \n",
       "4  2016-03-31 00:00:00                 0       60437  2016-04-06 10:17:21  \n",
       "5  2016-04-04 00:00:00                 0       33775  2016-04-06 19:17:07  \n",
       "6  2016-04-01 00:00:00                 0       67112  2016-04-05 18:18:39  \n",
       "7  2016-03-21 00:00:00                 0       19348  2016-03-25 16:47:58  \n",
       "8  2016-04-04 00:00:00                 0       94505  2016-04-04 23:42:13  \n",
       "9  2016-03-17 00:00:00                 0       27472  2016-03-31 17:17:06  "
      ]
     },
     "metadata": {},
     "output_type": "display_data"
    },
    {
     "name": "stdout",
     "output_type": "stream",
     "text": [
      "<class 'pandas.core.frame.DataFrame'>\n",
      "RangeIndex: 354369 entries, 0 to 354368\n",
      "Data columns (total 16 columns):\n",
      " #   Column             Non-Null Count   Dtype \n",
      "---  ------             --------------   ----- \n",
      " 0   DateCrawled        354369 non-null  object\n",
      " 1   Price              354369 non-null  int64 \n",
      " 2   VehicleType        316879 non-null  object\n",
      " 3   RegistrationYear   354369 non-null  int64 \n",
      " 4   Gearbox            334536 non-null  object\n",
      " 5   Power              354369 non-null  int64 \n",
      " 6   Model              334664 non-null  object\n",
      " 7   Kilometer          354369 non-null  int64 \n",
      " 8   RegistrationMonth  354369 non-null  int64 \n",
      " 9   FuelType           321474 non-null  object\n",
      " 10  Brand              354369 non-null  object\n",
      " 11  Repaired           283215 non-null  object\n",
      " 12  DateCreated        354369 non-null  object\n",
      " 13  NumberOfPictures   354369 non-null  int64 \n",
      " 14  PostalCode         354369 non-null  int64 \n",
      " 15  LastSeen           354369 non-null  object\n",
      "dtypes: int64(7), object(9)\n",
      "memory usage: 43.3+ MB\n"
     ]
    },
    {
     "data": {
      "text/html": [
       "<div>\n",
       "<style scoped>\n",
       "    .dataframe tbody tr th:only-of-type {\n",
       "        vertical-align: middle;\n",
       "    }\n",
       "\n",
       "    .dataframe tbody tr th {\n",
       "        vertical-align: top;\n",
       "    }\n",
       "\n",
       "    .dataframe thead th {\n",
       "        text-align: right;\n",
       "    }\n",
       "</style>\n",
       "<table border=\"1\" class=\"dataframe\">\n",
       "  <thead>\n",
       "    <tr style=\"text-align: right;\">\n",
       "      <th></th>\n",
       "      <th>Price</th>\n",
       "      <th>RegistrationYear</th>\n",
       "      <th>Power</th>\n",
       "      <th>Kilometer</th>\n",
       "      <th>RegistrationMonth</th>\n",
       "      <th>NumberOfPictures</th>\n",
       "      <th>PostalCode</th>\n",
       "    </tr>\n",
       "  </thead>\n",
       "  <tbody>\n",
       "    <tr>\n",
       "      <th>count</th>\n",
       "      <td>354369.000000</td>\n",
       "      <td>354369.000000</td>\n",
       "      <td>354369.000000</td>\n",
       "      <td>354369.000000</td>\n",
       "      <td>354369.000000</td>\n",
       "      <td>354369.0</td>\n",
       "      <td>354369.000000</td>\n",
       "    </tr>\n",
       "    <tr>\n",
       "      <th>mean</th>\n",
       "      <td>4416.656776</td>\n",
       "      <td>2004.234448</td>\n",
       "      <td>110.094337</td>\n",
       "      <td>128211.172535</td>\n",
       "      <td>5.714645</td>\n",
       "      <td>0.0</td>\n",
       "      <td>50508.689087</td>\n",
       "    </tr>\n",
       "    <tr>\n",
       "      <th>std</th>\n",
       "      <td>4514.158514</td>\n",
       "      <td>90.227958</td>\n",
       "      <td>189.850405</td>\n",
       "      <td>37905.341530</td>\n",
       "      <td>3.726421</td>\n",
       "      <td>0.0</td>\n",
       "      <td>25783.096248</td>\n",
       "    </tr>\n",
       "    <tr>\n",
       "      <th>min</th>\n",
       "      <td>0.000000</td>\n",
       "      <td>1000.000000</td>\n",
       "      <td>0.000000</td>\n",
       "      <td>5000.000000</td>\n",
       "      <td>0.000000</td>\n",
       "      <td>0.0</td>\n",
       "      <td>1067.000000</td>\n",
       "    </tr>\n",
       "    <tr>\n",
       "      <th>25%</th>\n",
       "      <td>1050.000000</td>\n",
       "      <td>1999.000000</td>\n",
       "      <td>69.000000</td>\n",
       "      <td>125000.000000</td>\n",
       "      <td>3.000000</td>\n",
       "      <td>0.0</td>\n",
       "      <td>30165.000000</td>\n",
       "    </tr>\n",
       "    <tr>\n",
       "      <th>50%</th>\n",
       "      <td>2700.000000</td>\n",
       "      <td>2003.000000</td>\n",
       "      <td>105.000000</td>\n",
       "      <td>150000.000000</td>\n",
       "      <td>6.000000</td>\n",
       "      <td>0.0</td>\n",
       "      <td>49413.000000</td>\n",
       "    </tr>\n",
       "    <tr>\n",
       "      <th>75%</th>\n",
       "      <td>6400.000000</td>\n",
       "      <td>2008.000000</td>\n",
       "      <td>143.000000</td>\n",
       "      <td>150000.000000</td>\n",
       "      <td>9.000000</td>\n",
       "      <td>0.0</td>\n",
       "      <td>71083.000000</td>\n",
       "    </tr>\n",
       "    <tr>\n",
       "      <th>max</th>\n",
       "      <td>20000.000000</td>\n",
       "      <td>9999.000000</td>\n",
       "      <td>20000.000000</td>\n",
       "      <td>150000.000000</td>\n",
       "      <td>12.000000</td>\n",
       "      <td>0.0</td>\n",
       "      <td>99998.000000</td>\n",
       "    </tr>\n",
       "  </tbody>\n",
       "</table>\n",
       "</div>"
      ],
      "text/plain": [
       "               Price  RegistrationYear          Power      Kilometer  \\\n",
       "count  354369.000000     354369.000000  354369.000000  354369.000000   \n",
       "mean     4416.656776       2004.234448     110.094337  128211.172535   \n",
       "std      4514.158514         90.227958     189.850405   37905.341530   \n",
       "min         0.000000       1000.000000       0.000000    5000.000000   \n",
       "25%      1050.000000       1999.000000      69.000000  125000.000000   \n",
       "50%      2700.000000       2003.000000     105.000000  150000.000000   \n",
       "75%      6400.000000       2008.000000     143.000000  150000.000000   \n",
       "max     20000.000000       9999.000000   20000.000000  150000.000000   \n",
       "\n",
       "       RegistrationMonth  NumberOfPictures     PostalCode  \n",
       "count      354369.000000          354369.0  354369.000000  \n",
       "mean            5.714645               0.0   50508.689087  \n",
       "std             3.726421               0.0   25783.096248  \n",
       "min             0.000000               0.0    1067.000000  \n",
       "25%             3.000000               0.0   30165.000000  \n",
       "50%             6.000000               0.0   49413.000000  \n",
       "75%             9.000000               0.0   71083.000000  \n",
       "max            12.000000               0.0   99998.000000  "
      ]
     },
     "metadata": {},
     "output_type": "display_data"
    }
   ],
   "source": [
    "study(data)"
   ]
  },
  {
   "cell_type": "markdown",
   "metadata": {},
   "source": [
    "**План действий:**\n",
    "\n",
    "1. Просмотреть и удалить явные дубликаты;\n",
    "\n",
    "2. Избавиться от ненужных для модели данных, в нашем случае это столбцы: 'DateCrawled', 'RegistrationMonth', 'NumberOfPictures', 'PostalCode', 'LastSeen', 'DateCreated'\n",
    "\n",
    "3. Привести все названия стобцов к нижнему регистру;\n",
    "\n",
    "4. Попробовать восстановить данные, если не выйдет, то удалить данные, где цена меньше 100;\n",
    "\n",
    "5. Почистить пропуски в стоблцах: VehicleType, Gearbox, Model, FuelType, Repaired:\n",
    "   \n",
    "   5.1 Заменить в столбце VehicleType на значения, которые возможно восстановить по данным из столбцов Brand и Power, остальные пропуски заменить на 'unknown'\n",
    "   \n",
    "   5.2 Заменить в столбце Gearbox пропуски на 'unknown'\n",
    "   \n",
    "   5.3 Заменить в столбце Model пропуски на 'other'\n",
    "   \n",
    "   5.4 Заменить в стобце FuelType значения petrol на gasoline, так как это синонимы. Такие обозначения используются в разных странах. Обработать пропуски, заменим на 'unknown'\n",
    "   \n",
    "   5.5 Заменить в столбце Repaired пропуски на 'unknown'\n",
    "\n",
    "6. Восстановить данные в столбце Power, на сколько это возможно, по данным из столбцов Brand, Model, VehicleType, остальное пометить как 'unknown'\n",
    "\n",
    "**Целевой признак** Price\n",
    "\n",
    "**Признаки** VehicleType, RegistrationYear, Gearbox, Power,\tModel, Kilometer, FuelType, Brand, Repaired"
   ]
  },
  {
   "cell_type": "code",
   "execution_count": 5,
   "metadata": {},
   "outputs": [
    {
     "data": {
      "text/plain": [
       "4"
      ]
     },
     "execution_count": 5,
     "metadata": {},
     "output_type": "execute_result"
    }
   ],
   "source": [
    "#Посмотрим на явные дубликаты\n",
    "\n",
    "data.duplicated().sum()"
   ]
  },
  {
   "cell_type": "code",
   "execution_count": 6,
   "metadata": {},
   "outputs": [
    {
     "data": {
      "text/plain": [
       "0"
      ]
     },
     "execution_count": 6,
     "metadata": {},
     "output_type": "execute_result"
    }
   ],
   "source": [
    "#Удалим явные дубликаты\n",
    "\n",
    "data = data.drop_duplicates()\n",
    "\n",
    "data.duplicated().sum()"
   ]
  },
  {
   "cell_type": "code",
   "execution_count": 7,
   "metadata": {},
   "outputs": [
    {
     "data": {
      "text/html": [
       "<div>\n",
       "<style scoped>\n",
       "    .dataframe tbody tr th:only-of-type {\n",
       "        vertical-align: middle;\n",
       "    }\n",
       "\n",
       "    .dataframe tbody tr th {\n",
       "        vertical-align: top;\n",
       "    }\n",
       "\n",
       "    .dataframe thead th {\n",
       "        text-align: right;\n",
       "    }\n",
       "</style>\n",
       "<table border=\"1\" class=\"dataframe\">\n",
       "  <thead>\n",
       "    <tr style=\"text-align: right;\">\n",
       "      <th></th>\n",
       "      <th>Price</th>\n",
       "      <th>VehicleType</th>\n",
       "      <th>RegistrationYear</th>\n",
       "      <th>Gearbox</th>\n",
       "      <th>Power</th>\n",
       "      <th>Model</th>\n",
       "      <th>Kilometer</th>\n",
       "      <th>FuelType</th>\n",
       "      <th>Brand</th>\n",
       "      <th>Repaired</th>\n",
       "    </tr>\n",
       "  </thead>\n",
       "  <tbody>\n",
       "    <tr>\n",
       "      <th>0</th>\n",
       "      <td>480</td>\n",
       "      <td>NaN</td>\n",
       "      <td>1993</td>\n",
       "      <td>manual</td>\n",
       "      <td>0</td>\n",
       "      <td>golf</td>\n",
       "      <td>150000</td>\n",
       "      <td>petrol</td>\n",
       "      <td>volkswagen</td>\n",
       "      <td>NaN</td>\n",
       "    </tr>\n",
       "    <tr>\n",
       "      <th>1</th>\n",
       "      <td>18300</td>\n",
       "      <td>coupe</td>\n",
       "      <td>2011</td>\n",
       "      <td>manual</td>\n",
       "      <td>190</td>\n",
       "      <td>NaN</td>\n",
       "      <td>125000</td>\n",
       "      <td>gasoline</td>\n",
       "      <td>audi</td>\n",
       "      <td>yes</td>\n",
       "    </tr>\n",
       "    <tr>\n",
       "      <th>2</th>\n",
       "      <td>9800</td>\n",
       "      <td>suv</td>\n",
       "      <td>2004</td>\n",
       "      <td>auto</td>\n",
       "      <td>163</td>\n",
       "      <td>grand</td>\n",
       "      <td>125000</td>\n",
       "      <td>gasoline</td>\n",
       "      <td>jeep</td>\n",
       "      <td>NaN</td>\n",
       "    </tr>\n",
       "    <tr>\n",
       "      <th>3</th>\n",
       "      <td>1500</td>\n",
       "      <td>small</td>\n",
       "      <td>2001</td>\n",
       "      <td>manual</td>\n",
       "      <td>75</td>\n",
       "      <td>golf</td>\n",
       "      <td>150000</td>\n",
       "      <td>petrol</td>\n",
       "      <td>volkswagen</td>\n",
       "      <td>no</td>\n",
       "    </tr>\n",
       "    <tr>\n",
       "      <th>4</th>\n",
       "      <td>3600</td>\n",
       "      <td>small</td>\n",
       "      <td>2008</td>\n",
       "      <td>manual</td>\n",
       "      <td>69</td>\n",
       "      <td>fabia</td>\n",
       "      <td>90000</td>\n",
       "      <td>gasoline</td>\n",
       "      <td>skoda</td>\n",
       "      <td>no</td>\n",
       "    </tr>\n",
       "    <tr>\n",
       "      <th>5</th>\n",
       "      <td>650</td>\n",
       "      <td>sedan</td>\n",
       "      <td>1995</td>\n",
       "      <td>manual</td>\n",
       "      <td>102</td>\n",
       "      <td>3er</td>\n",
       "      <td>150000</td>\n",
       "      <td>petrol</td>\n",
       "      <td>bmw</td>\n",
       "      <td>yes</td>\n",
       "    </tr>\n",
       "    <tr>\n",
       "      <th>6</th>\n",
       "      <td>2200</td>\n",
       "      <td>convertible</td>\n",
       "      <td>2004</td>\n",
       "      <td>manual</td>\n",
       "      <td>109</td>\n",
       "      <td>2_reihe</td>\n",
       "      <td>150000</td>\n",
       "      <td>petrol</td>\n",
       "      <td>peugeot</td>\n",
       "      <td>no</td>\n",
       "    </tr>\n",
       "    <tr>\n",
       "      <th>7</th>\n",
       "      <td>0</td>\n",
       "      <td>sedan</td>\n",
       "      <td>1980</td>\n",
       "      <td>manual</td>\n",
       "      <td>50</td>\n",
       "      <td>other</td>\n",
       "      <td>40000</td>\n",
       "      <td>petrol</td>\n",
       "      <td>volkswagen</td>\n",
       "      <td>no</td>\n",
       "    </tr>\n",
       "    <tr>\n",
       "      <th>8</th>\n",
       "      <td>14500</td>\n",
       "      <td>bus</td>\n",
       "      <td>2014</td>\n",
       "      <td>manual</td>\n",
       "      <td>125</td>\n",
       "      <td>c_max</td>\n",
       "      <td>30000</td>\n",
       "      <td>petrol</td>\n",
       "      <td>ford</td>\n",
       "      <td>NaN</td>\n",
       "    </tr>\n",
       "    <tr>\n",
       "      <th>9</th>\n",
       "      <td>999</td>\n",
       "      <td>small</td>\n",
       "      <td>1998</td>\n",
       "      <td>manual</td>\n",
       "      <td>101</td>\n",
       "      <td>golf</td>\n",
       "      <td>150000</td>\n",
       "      <td>NaN</td>\n",
       "      <td>volkswagen</td>\n",
       "      <td>NaN</td>\n",
       "    </tr>\n",
       "  </tbody>\n",
       "</table>\n",
       "</div>"
      ],
      "text/plain": [
       "   Price  VehicleType  RegistrationYear Gearbox  Power    Model  Kilometer  \\\n",
       "0    480          NaN              1993  manual      0     golf     150000   \n",
       "1  18300        coupe              2011  manual    190      NaN     125000   \n",
       "2   9800          suv              2004    auto    163    grand     125000   \n",
       "3   1500        small              2001  manual     75     golf     150000   \n",
       "4   3600        small              2008  manual     69    fabia      90000   \n",
       "5    650        sedan              1995  manual    102      3er     150000   \n",
       "6   2200  convertible              2004  manual    109  2_reihe     150000   \n",
       "7      0        sedan              1980  manual     50    other      40000   \n",
       "8  14500          bus              2014  manual    125    c_max      30000   \n",
       "9    999        small              1998  manual    101     golf     150000   \n",
       "\n",
       "   FuelType       Brand Repaired  \n",
       "0    petrol  volkswagen      NaN  \n",
       "1  gasoline        audi      yes  \n",
       "2  gasoline        jeep      NaN  \n",
       "3    petrol  volkswagen       no  \n",
       "4  gasoline       skoda       no  \n",
       "5    petrol         bmw      yes  \n",
       "6    petrol     peugeot       no  \n",
       "7    petrol  volkswagen       no  \n",
       "8    petrol        ford      NaN  \n",
       "9       NaN  volkswagen      NaN  "
      ]
     },
     "execution_count": 7,
     "metadata": {},
     "output_type": "execute_result"
    }
   ],
   "source": [
    "#Удалим ненужные нам признаки\n",
    "\n",
    "drop = ['DateCrawled', 'RegistrationMonth', 'NumberOfPictures', 'PostalCode', 'LastSeen', 'DateCreated']\n",
    "\n",
    "data_car = data.drop(drop, axis=1)\n",
    "\n",
    "data_car.head(10)"
   ]
  },
  {
   "cell_type": "code",
   "execution_count": 8,
   "metadata": {},
   "outputs": [
    {
     "data": {
      "text/html": [
       "<div>\n",
       "<style scoped>\n",
       "    .dataframe tbody tr th:only-of-type {\n",
       "        vertical-align: middle;\n",
       "    }\n",
       "\n",
       "    .dataframe tbody tr th {\n",
       "        vertical-align: top;\n",
       "    }\n",
       "\n",
       "    .dataframe thead th {\n",
       "        text-align: right;\n",
       "    }\n",
       "</style>\n",
       "<table border=\"1\" class=\"dataframe\">\n",
       "  <thead>\n",
       "    <tr style=\"text-align: right;\">\n",
       "      <th></th>\n",
       "      <th>price</th>\n",
       "      <th>vehicletype</th>\n",
       "      <th>registrationyear</th>\n",
       "      <th>gearbox</th>\n",
       "      <th>power</th>\n",
       "      <th>model</th>\n",
       "      <th>kilometer</th>\n",
       "      <th>fueltype</th>\n",
       "      <th>brand</th>\n",
       "      <th>repaired</th>\n",
       "    </tr>\n",
       "  </thead>\n",
       "  <tbody>\n",
       "    <tr>\n",
       "      <th>0</th>\n",
       "      <td>480</td>\n",
       "      <td>NaN</td>\n",
       "      <td>1993</td>\n",
       "      <td>manual</td>\n",
       "      <td>0</td>\n",
       "      <td>golf</td>\n",
       "      <td>150000</td>\n",
       "      <td>petrol</td>\n",
       "      <td>volkswagen</td>\n",
       "      <td>NaN</td>\n",
       "    </tr>\n",
       "    <tr>\n",
       "      <th>1</th>\n",
       "      <td>18300</td>\n",
       "      <td>coupe</td>\n",
       "      <td>2011</td>\n",
       "      <td>manual</td>\n",
       "      <td>190</td>\n",
       "      <td>NaN</td>\n",
       "      <td>125000</td>\n",
       "      <td>gasoline</td>\n",
       "      <td>audi</td>\n",
       "      <td>yes</td>\n",
       "    </tr>\n",
       "    <tr>\n",
       "      <th>2</th>\n",
       "      <td>9800</td>\n",
       "      <td>suv</td>\n",
       "      <td>2004</td>\n",
       "      <td>auto</td>\n",
       "      <td>163</td>\n",
       "      <td>grand</td>\n",
       "      <td>125000</td>\n",
       "      <td>gasoline</td>\n",
       "      <td>jeep</td>\n",
       "      <td>NaN</td>\n",
       "    </tr>\n",
       "    <tr>\n",
       "      <th>3</th>\n",
       "      <td>1500</td>\n",
       "      <td>small</td>\n",
       "      <td>2001</td>\n",
       "      <td>manual</td>\n",
       "      <td>75</td>\n",
       "      <td>golf</td>\n",
       "      <td>150000</td>\n",
       "      <td>petrol</td>\n",
       "      <td>volkswagen</td>\n",
       "      <td>no</td>\n",
       "    </tr>\n",
       "    <tr>\n",
       "      <th>4</th>\n",
       "      <td>3600</td>\n",
       "      <td>small</td>\n",
       "      <td>2008</td>\n",
       "      <td>manual</td>\n",
       "      <td>69</td>\n",
       "      <td>fabia</td>\n",
       "      <td>90000</td>\n",
       "      <td>gasoline</td>\n",
       "      <td>skoda</td>\n",
       "      <td>no</td>\n",
       "    </tr>\n",
       "  </tbody>\n",
       "</table>\n",
       "</div>"
      ],
      "text/plain": [
       "   price vehicletype  registrationyear gearbox  power  model  kilometer  \\\n",
       "0    480         NaN              1993  manual      0   golf     150000   \n",
       "1  18300       coupe              2011  manual    190    NaN     125000   \n",
       "2   9800         suv              2004    auto    163  grand     125000   \n",
       "3   1500       small              2001  manual     75   golf     150000   \n",
       "4   3600       small              2008  manual     69  fabia      90000   \n",
       "\n",
       "   fueltype       brand repaired  \n",
       "0    petrol  volkswagen      NaN  \n",
       "1  gasoline        audi      yes  \n",
       "2  gasoline        jeep      NaN  \n",
       "3    petrol  volkswagen       no  \n",
       "4  gasoline       skoda       no  "
      ]
     },
     "execution_count": 8,
     "metadata": {},
     "output_type": "execute_result"
    }
   ],
   "source": [
    "#Приведем данные к одному регистру\n",
    "\n",
    "data_car.columns = data_car.columns.str.lower()\n",
    "\n",
    "data_car.head()"
   ]
  },
  {
   "cell_type": "code",
   "execution_count": 9,
   "metadata": {},
   "outputs": [
    {
     "data": {
      "image/png": "[encoded data removed]",
      "text/plain": [
       "<Figure size 864x648 with 1 Axes>"
      ]
     },
     "metadata": {
      "needs_background": "light"
     },
     "output_type": "display_data"
    }
   ],
   "source": [
    "#Посмотрим на распределение цены\n",
    "\n",
    "data_car['price'].hist(bins=100, figsize=(12,9));"
   ]
  },
  {
   "cell_type": "code",
   "execution_count": 10,
   "metadata": {},
   "outputs": [
    {
     "data": {
      "text/html": [
       "<div>\n",
       "<style scoped>\n",
       "    .dataframe tbody tr th:only-of-type {\n",
       "        vertical-align: middle;\n",
       "    }\n",
       "\n",
       "    .dataframe tbody tr th {\n",
       "        vertical-align: top;\n",
       "    }\n",
       "\n",
       "    .dataframe thead th {\n",
       "        text-align: right;\n",
       "    }\n",
       "</style>\n",
       "<table border=\"1\" class=\"dataframe\">\n",
       "  <thead>\n",
       "    <tr style=\"text-align: right;\">\n",
       "      <th></th>\n",
       "      <th>price</th>\n",
       "      <th>vehicletype</th>\n",
       "      <th>registrationyear</th>\n",
       "      <th>gearbox</th>\n",
       "      <th>power</th>\n",
       "      <th>model</th>\n",
       "      <th>kilometer</th>\n",
       "      <th>fueltype</th>\n",
       "      <th>brand</th>\n",
       "      <th>repaired</th>\n",
       "    </tr>\n",
       "  </thead>\n",
       "  <tbody>\n",
       "    <tr>\n",
       "      <th>7</th>\n",
       "      <td>0</td>\n",
       "      <td>sedan</td>\n",
       "      <td>1980</td>\n",
       "      <td>manual</td>\n",
       "      <td>50</td>\n",
       "      <td>other</td>\n",
       "      <td>40000</td>\n",
       "      <td>petrol</td>\n",
       "      <td>volkswagen</td>\n",
       "      <td>no</td>\n",
       "    </tr>\n",
       "    <tr>\n",
       "      <th>40</th>\n",
       "      <td>0</td>\n",
       "      <td>NaN</td>\n",
       "      <td>1990</td>\n",
       "      <td>NaN</td>\n",
       "      <td>0</td>\n",
       "      <td>corsa</td>\n",
       "      <td>150000</td>\n",
       "      <td>petrol</td>\n",
       "      <td>opel</td>\n",
       "      <td>NaN</td>\n",
       "    </tr>\n",
       "    <tr>\n",
       "      <th>111</th>\n",
       "      <td>0</td>\n",
       "      <td>NaN</td>\n",
       "      <td>2017</td>\n",
       "      <td>manual</td>\n",
       "      <td>0</td>\n",
       "      <td>golf</td>\n",
       "      <td>5000</td>\n",
       "      <td>petrol</td>\n",
       "      <td>volkswagen</td>\n",
       "      <td>NaN</td>\n",
       "    </tr>\n",
       "    <tr>\n",
       "      <th>115</th>\n",
       "      <td>0</td>\n",
       "      <td>small</td>\n",
       "      <td>1999</td>\n",
       "      <td>NaN</td>\n",
       "      <td>0</td>\n",
       "      <td>NaN</td>\n",
       "      <td>5000</td>\n",
       "      <td>petrol</td>\n",
       "      <td>volkswagen</td>\n",
       "      <td>NaN</td>\n",
       "    </tr>\n",
       "    <tr>\n",
       "      <th>152</th>\n",
       "      <td>0</td>\n",
       "      <td>bus</td>\n",
       "      <td>2004</td>\n",
       "      <td>manual</td>\n",
       "      <td>101</td>\n",
       "      <td>meriva</td>\n",
       "      <td>150000</td>\n",
       "      <td>lpg</td>\n",
       "      <td>opel</td>\n",
       "      <td>yes</td>\n",
       "    </tr>\n",
       "    <tr>\n",
       "      <th>...</th>\n",
       "      <td>...</td>\n",
       "      <td>...</td>\n",
       "      <td>...</td>\n",
       "      <td>...</td>\n",
       "      <td>...</td>\n",
       "      <td>...</td>\n",
       "      <td>...</td>\n",
       "      <td>...</td>\n",
       "      <td>...</td>\n",
       "      <td>...</td>\n",
       "    </tr>\n",
       "    <tr>\n",
       "      <th>354205</th>\n",
       "      <td>0</td>\n",
       "      <td>NaN</td>\n",
       "      <td>2000</td>\n",
       "      <td>manual</td>\n",
       "      <td>65</td>\n",
       "      <td>corsa</td>\n",
       "      <td>150000</td>\n",
       "      <td>NaN</td>\n",
       "      <td>opel</td>\n",
       "      <td>yes</td>\n",
       "    </tr>\n",
       "    <tr>\n",
       "      <th>354238</th>\n",
       "      <td>0</td>\n",
       "      <td>small</td>\n",
       "      <td>2002</td>\n",
       "      <td>manual</td>\n",
       "      <td>60</td>\n",
       "      <td>fiesta</td>\n",
       "      <td>150000</td>\n",
       "      <td>petrol</td>\n",
       "      <td>ford</td>\n",
       "      <td>NaN</td>\n",
       "    </tr>\n",
       "    <tr>\n",
       "      <th>354248</th>\n",
       "      <td>0</td>\n",
       "      <td>small</td>\n",
       "      <td>1999</td>\n",
       "      <td>manual</td>\n",
       "      <td>53</td>\n",
       "      <td>swift</td>\n",
       "      <td>150000</td>\n",
       "      <td>petrol</td>\n",
       "      <td>suzuki</td>\n",
       "      <td>NaN</td>\n",
       "    </tr>\n",
       "    <tr>\n",
       "      <th>354277</th>\n",
       "      <td>0</td>\n",
       "      <td>small</td>\n",
       "      <td>1999</td>\n",
       "      <td>manual</td>\n",
       "      <td>37</td>\n",
       "      <td>arosa</td>\n",
       "      <td>150000</td>\n",
       "      <td>petrol</td>\n",
       "      <td>seat</td>\n",
       "      <td>yes</td>\n",
       "    </tr>\n",
       "    <tr>\n",
       "      <th>354364</th>\n",
       "      <td>0</td>\n",
       "      <td>NaN</td>\n",
       "      <td>2005</td>\n",
       "      <td>manual</td>\n",
       "      <td>0</td>\n",
       "      <td>colt</td>\n",
       "      <td>150000</td>\n",
       "      <td>petrol</td>\n",
       "      <td>mitsubishi</td>\n",
       "      <td>yes</td>\n",
       "    </tr>\n",
       "  </tbody>\n",
       "</table>\n",
       "<p>10772 rows × 10 columns</p>\n",
       "</div>"
      ],
      "text/plain": [
       "        price vehicletype  registrationyear gearbox  power   model  kilometer  \\\n",
       "7           0       sedan              1980  manual     50   other      40000   \n",
       "40          0         NaN              1990     NaN      0   corsa     150000   \n",
       "111         0         NaN              2017  manual      0    golf       5000   \n",
       "115         0       small              1999     NaN      0     NaN       5000   \n",
       "152         0         bus              2004  manual    101  meriva     150000   \n",
       "...       ...         ...               ...     ...    ...     ...        ...   \n",
       "354205      0         NaN              2000  manual     65   corsa     150000   \n",
       "354238      0       small              2002  manual     60  fiesta     150000   \n",
       "354248      0       small              1999  manual     53   swift     150000   \n",
       "354277      0       small              1999  manual     37   arosa     150000   \n",
       "354364      0         NaN              2005  manual      0    colt     150000   \n",
       "\n",
       "       fueltype       brand repaired  \n",
       "7        petrol  volkswagen       no  \n",
       "40       petrol        opel      NaN  \n",
       "111      petrol  volkswagen      NaN  \n",
       "115      petrol  volkswagen      NaN  \n",
       "152         lpg        opel      yes  \n",
       "...         ...         ...      ...  \n",
       "354205      NaN        opel      yes  \n",
       "354238   petrol        ford      NaN  \n",
       "354248   petrol      suzuki      NaN  \n",
       "354277   petrol        seat      yes  \n",
       "354364   petrol  mitsubishi      yes  \n",
       "\n",
       "[10772 rows x 10 columns]"
      ]
     },
     "execution_count": 10,
     "metadata": {},
     "output_type": "execute_result"
    }
   ],
   "source": [
    "#Посмотрим на строки с 0 значением \n",
    "\n",
    "data_car[data_car['price'] == 0]"
   ]
  },
  {
   "cell_type": "code",
   "execution_count": 11,
   "metadata": {},
   "outputs": [],
   "source": [
    "#Восстановим данные по brand и power\n",
    "\n",
    "data_car['price'] = data_car['price'].fillna(data_car.groupby(['brand','power'])['price']\n",
    "                                                                 .transform(lambda x: x.mode().iloc[0] if not x.mode().empty else np.nan))\n"
   ]
  },
  {
   "cell_type": "code",
   "execution_count": 12,
   "metadata": {},
   "outputs": [
    {
     "data": {
      "text/html": [
       "<div>\n",
       "<style scoped>\n",
       "    .dataframe tbody tr th:only-of-type {\n",
       "        vertical-align: middle;\n",
       "    }\n",
       "\n",
       "    .dataframe tbody tr th {\n",
       "        vertical-align: top;\n",
       "    }\n",
       "\n",
       "    .dataframe thead th {\n",
       "        text-align: right;\n",
       "    }\n",
       "</style>\n",
       "<table border=\"1\" class=\"dataframe\">\n",
       "  <thead>\n",
       "    <tr style=\"text-align: right;\">\n",
       "      <th></th>\n",
       "      <th>price</th>\n",
       "      <th>vehicletype</th>\n",
       "      <th>registrationyear</th>\n",
       "      <th>gearbox</th>\n",
       "      <th>power</th>\n",
       "      <th>model</th>\n",
       "      <th>kilometer</th>\n",
       "      <th>fueltype</th>\n",
       "      <th>brand</th>\n",
       "      <th>repaired</th>\n",
       "    </tr>\n",
       "  </thead>\n",
       "  <tbody>\n",
       "    <tr>\n",
       "      <th>7</th>\n",
       "      <td>0</td>\n",
       "      <td>sedan</td>\n",
       "      <td>1980</td>\n",
       "      <td>manual</td>\n",
       "      <td>50</td>\n",
       "      <td>other</td>\n",
       "      <td>40000</td>\n",
       "      <td>petrol</td>\n",
       "      <td>volkswagen</td>\n",
       "      <td>no</td>\n",
       "    </tr>\n",
       "    <tr>\n",
       "      <th>40</th>\n",
       "      <td>0</td>\n",
       "      <td>NaN</td>\n",
       "      <td>1990</td>\n",
       "      <td>NaN</td>\n",
       "      <td>0</td>\n",
       "      <td>corsa</td>\n",
       "      <td>150000</td>\n",
       "      <td>petrol</td>\n",
       "      <td>opel</td>\n",
       "      <td>NaN</td>\n",
       "    </tr>\n",
       "    <tr>\n",
       "      <th>111</th>\n",
       "      <td>0</td>\n",
       "      <td>NaN</td>\n",
       "      <td>2017</td>\n",
       "      <td>manual</td>\n",
       "      <td>0</td>\n",
       "      <td>golf</td>\n",
       "      <td>5000</td>\n",
       "      <td>petrol</td>\n",
       "      <td>volkswagen</td>\n",
       "      <td>NaN</td>\n",
       "    </tr>\n",
       "    <tr>\n",
       "      <th>115</th>\n",
       "      <td>0</td>\n",
       "      <td>small</td>\n",
       "      <td>1999</td>\n",
       "      <td>NaN</td>\n",
       "      <td>0</td>\n",
       "      <td>NaN</td>\n",
       "      <td>5000</td>\n",
       "      <td>petrol</td>\n",
       "      <td>volkswagen</td>\n",
       "      <td>NaN</td>\n",
       "    </tr>\n",
       "    <tr>\n",
       "      <th>152</th>\n",
       "      <td>0</td>\n",
       "      <td>bus</td>\n",
       "      <td>2004</td>\n",
       "      <td>manual</td>\n",
       "      <td>101</td>\n",
       "      <td>meriva</td>\n",
       "      <td>150000</td>\n",
       "      <td>lpg</td>\n",
       "      <td>opel</td>\n",
       "      <td>yes</td>\n",
       "    </tr>\n",
       "    <tr>\n",
       "      <th>...</th>\n",
       "      <td>...</td>\n",
       "      <td>...</td>\n",
       "      <td>...</td>\n",
       "      <td>...</td>\n",
       "      <td>...</td>\n",
       "      <td>...</td>\n",
       "      <td>...</td>\n",
       "      <td>...</td>\n",
       "      <td>...</td>\n",
       "      <td>...</td>\n",
       "    </tr>\n",
       "    <tr>\n",
       "      <th>354205</th>\n",
       "      <td>0</td>\n",
       "      <td>NaN</td>\n",
       "      <td>2000</td>\n",
       "      <td>manual</td>\n",
       "      <td>65</td>\n",
       "      <td>corsa</td>\n",
       "      <td>150000</td>\n",
       "      <td>NaN</td>\n",
       "      <td>opel</td>\n",
       "      <td>yes</td>\n",
       "    </tr>\n",
       "    <tr>\n",
       "      <th>354238</th>\n",
       "      <td>0</td>\n",
       "      <td>small</td>\n",
       "      <td>2002</td>\n",
       "      <td>manual</td>\n",
       "      <td>60</td>\n",
       "      <td>fiesta</td>\n",
       "      <td>150000</td>\n",
       "      <td>petrol</td>\n",
       "      <td>ford</td>\n",
       "      <td>NaN</td>\n",
       "    </tr>\n",
       "    <tr>\n",
       "      <th>354248</th>\n",
       "      <td>0</td>\n",
       "      <td>small</td>\n",
       "      <td>1999</td>\n",
       "      <td>manual</td>\n",
       "      <td>53</td>\n",
       "      <td>swift</td>\n",
       "      <td>150000</td>\n",
       "      <td>petrol</td>\n",
       "      <td>suzuki</td>\n",
       "      <td>NaN</td>\n",
       "    </tr>\n",
       "    <tr>\n",
       "      <th>354277</th>\n",
       "      <td>0</td>\n",
       "      <td>small</td>\n",
       "      <td>1999</td>\n",
       "      <td>manual</td>\n",
       "      <td>37</td>\n",
       "      <td>arosa</td>\n",
       "      <td>150000</td>\n",
       "      <td>petrol</td>\n",
       "      <td>seat</td>\n",
       "      <td>yes</td>\n",
       "    </tr>\n",
       "    <tr>\n",
       "      <th>354364</th>\n",
       "      <td>0</td>\n",
       "      <td>NaN</td>\n",
       "      <td>2005</td>\n",
       "      <td>manual</td>\n",
       "      <td>0</td>\n",
       "      <td>colt</td>\n",
       "      <td>150000</td>\n",
       "      <td>petrol</td>\n",
       "      <td>mitsubishi</td>\n",
       "      <td>yes</td>\n",
       "    </tr>\n",
       "  </tbody>\n",
       "</table>\n",
       "<p>10772 rows × 10 columns</p>\n",
       "</div>"
      ],
      "text/plain": [
       "        price vehicletype  registrationyear gearbox  power   model  kilometer  \\\n",
       "7           0       sedan              1980  manual     50   other      40000   \n",
       "40          0         NaN              1990     NaN      0   corsa     150000   \n",
       "111         0         NaN              2017  manual      0    golf       5000   \n",
       "115         0       small              1999     NaN      0     NaN       5000   \n",
       "152         0         bus              2004  manual    101  meriva     150000   \n",
       "...       ...         ...               ...     ...    ...     ...        ...   \n",
       "354205      0         NaN              2000  manual     65   corsa     150000   \n",
       "354238      0       small              2002  manual     60  fiesta     150000   \n",
       "354248      0       small              1999  manual     53   swift     150000   \n",
       "354277      0       small              1999  manual     37   arosa     150000   \n",
       "354364      0         NaN              2005  manual      0    colt     150000   \n",
       "\n",
       "       fueltype       brand repaired  \n",
       "7        petrol  volkswagen       no  \n",
       "40       petrol        opel      NaN  \n",
       "111      petrol  volkswagen      NaN  \n",
       "115      petrol  volkswagen      NaN  \n",
       "152         lpg        opel      yes  \n",
       "...         ...         ...      ...  \n",
       "354205      NaN        opel      yes  \n",
       "354238   petrol        ford      NaN  \n",
       "354248   petrol      suzuki      NaN  \n",
       "354277   petrol        seat      yes  \n",
       "354364   petrol  mitsubishi      yes  \n",
       "\n",
       "[10772 rows x 10 columns]"
      ]
     },
     "execution_count": 12,
     "metadata": {},
     "output_type": "execute_result"
    }
   ],
   "source": [
    "data_car[data_car['price'] == 0]"
   ]
  },
  {
   "cell_type": "markdown",
   "metadata": {},
   "source": [
    "Данные восстановить не удалось, значит удалим их."
   ]
  },
  {
   "cell_type": "code",
   "execution_count": 13,
   "metadata": {},
   "outputs": [],
   "source": [
    "#Уберем ненужные данные, всё, что от 0 до 100 евро, вряд ли будет являться машиной, скорее металлолом, \n",
    "#а, следовательно, не пригодится нам для обучения\n",
    "\n",
    "data_car = data_car.loc[data_car['price'] > 100]"
   ]
  },
  {
   "cell_type": "code",
   "execution_count": 14,
   "metadata": {
    "scrolled": true
   },
   "outputs": [
    {
     "data": {
      "image/png": "[encoded data removed]",
      "text/plain": [
       "<Figure size 864x648 with 1 Axes>"
      ]
     },
     "metadata": {
      "needs_background": "light"
     },
     "output_type": "display_data"
    }
   ],
   "source": [
    "#Посмотрим на изменения цены \n",
    "\n",
    "data_car['price'].hist(bins=100, figsize=(12,9));"
   ]
  },
  {
   "cell_type": "code",
   "execution_count": 15,
   "metadata": {},
   "outputs": [],
   "source": [
    "#Выполним замену petrol на gasoline\n",
    "\n",
    "data_car['fueltype'] = data_car['fueltype'].replace('petrol', 'gasoline')"
   ]
  },
  {
   "cell_type": "code",
   "execution_count": 16,
   "metadata": {},
   "outputs": [
    {
     "data": {
      "text/html": [
       "<div>\n",
       "<style scoped>\n",
       "    .dataframe tbody tr th:only-of-type {\n",
       "        vertical-align: middle;\n",
       "    }\n",
       "\n",
       "    .dataframe tbody tr th {\n",
       "        vertical-align: top;\n",
       "    }\n",
       "\n",
       "    .dataframe thead th {\n",
       "        text-align: right;\n",
       "    }\n",
       "</style>\n",
       "<table border=\"1\" class=\"dataframe\">\n",
       "  <thead>\n",
       "    <tr style=\"text-align: right;\">\n",
       "      <th></th>\n",
       "      <th>price</th>\n",
       "      <th>vehicletype</th>\n",
       "      <th>registrationyear</th>\n",
       "      <th>gearbox</th>\n",
       "      <th>power</th>\n",
       "      <th>model</th>\n",
       "      <th>kilometer</th>\n",
       "      <th>fueltype</th>\n",
       "      <th>brand</th>\n",
       "      <th>repaired</th>\n",
       "    </tr>\n",
       "  </thead>\n",
       "  <tbody>\n",
       "    <tr>\n",
       "      <th>0</th>\n",
       "      <td>480</td>\n",
       "      <td>NaN</td>\n",
       "      <td>1993</td>\n",
       "      <td>manual</td>\n",
       "      <td>0</td>\n",
       "      <td>golf</td>\n",
       "      <td>150000</td>\n",
       "      <td>gasoline</td>\n",
       "      <td>volkswagen</td>\n",
       "      <td>NaN</td>\n",
       "    </tr>\n",
       "    <tr>\n",
       "      <th>1</th>\n",
       "      <td>18300</td>\n",
       "      <td>coupe</td>\n",
       "      <td>2011</td>\n",
       "      <td>manual</td>\n",
       "      <td>190</td>\n",
       "      <td>NaN</td>\n",
       "      <td>125000</td>\n",
       "      <td>gasoline</td>\n",
       "      <td>audi</td>\n",
       "      <td>yes</td>\n",
       "    </tr>\n",
       "    <tr>\n",
       "      <th>2</th>\n",
       "      <td>9800</td>\n",
       "      <td>suv</td>\n",
       "      <td>2004</td>\n",
       "      <td>auto</td>\n",
       "      <td>163</td>\n",
       "      <td>grand</td>\n",
       "      <td>125000</td>\n",
       "      <td>gasoline</td>\n",
       "      <td>jeep</td>\n",
       "      <td>NaN</td>\n",
       "    </tr>\n",
       "    <tr>\n",
       "      <th>3</th>\n",
       "      <td>1500</td>\n",
       "      <td>small</td>\n",
       "      <td>2001</td>\n",
       "      <td>manual</td>\n",
       "      <td>75</td>\n",
       "      <td>golf</td>\n",
       "      <td>150000</td>\n",
       "      <td>gasoline</td>\n",
       "      <td>volkswagen</td>\n",
       "      <td>no</td>\n",
       "    </tr>\n",
       "    <tr>\n",
       "      <th>4</th>\n",
       "      <td>3600</td>\n",
       "      <td>small</td>\n",
       "      <td>2008</td>\n",
       "      <td>manual</td>\n",
       "      <td>69</td>\n",
       "      <td>fabia</td>\n",
       "      <td>90000</td>\n",
       "      <td>gasoline</td>\n",
       "      <td>skoda</td>\n",
       "      <td>no</td>\n",
       "    </tr>\n",
       "    <tr>\n",
       "      <th>5</th>\n",
       "      <td>650</td>\n",
       "      <td>sedan</td>\n",
       "      <td>1995</td>\n",
       "      <td>manual</td>\n",
       "      <td>102</td>\n",
       "      <td>3er</td>\n",
       "      <td>150000</td>\n",
       "      <td>gasoline</td>\n",
       "      <td>bmw</td>\n",
       "      <td>yes</td>\n",
       "    </tr>\n",
       "    <tr>\n",
       "      <th>6</th>\n",
       "      <td>2200</td>\n",
       "      <td>convertible</td>\n",
       "      <td>2004</td>\n",
       "      <td>manual</td>\n",
       "      <td>109</td>\n",
       "      <td>2_reihe</td>\n",
       "      <td>150000</td>\n",
       "      <td>gasoline</td>\n",
       "      <td>peugeot</td>\n",
       "      <td>no</td>\n",
       "    </tr>\n",
       "    <tr>\n",
       "      <th>8</th>\n",
       "      <td>14500</td>\n",
       "      <td>bus</td>\n",
       "      <td>2014</td>\n",
       "      <td>manual</td>\n",
       "      <td>125</td>\n",
       "      <td>c_max</td>\n",
       "      <td>30000</td>\n",
       "      <td>gasoline</td>\n",
       "      <td>ford</td>\n",
       "      <td>NaN</td>\n",
       "    </tr>\n",
       "    <tr>\n",
       "      <th>9</th>\n",
       "      <td>999</td>\n",
       "      <td>small</td>\n",
       "      <td>1998</td>\n",
       "      <td>manual</td>\n",
       "      <td>101</td>\n",
       "      <td>golf</td>\n",
       "      <td>150000</td>\n",
       "      <td>NaN</td>\n",
       "      <td>volkswagen</td>\n",
       "      <td>NaN</td>\n",
       "    </tr>\n",
       "    <tr>\n",
       "      <th>10</th>\n",
       "      <td>2000</td>\n",
       "      <td>sedan</td>\n",
       "      <td>2004</td>\n",
       "      <td>manual</td>\n",
       "      <td>105</td>\n",
       "      <td>3_reihe</td>\n",
       "      <td>150000</td>\n",
       "      <td>gasoline</td>\n",
       "      <td>mazda</td>\n",
       "      <td>no</td>\n",
       "    </tr>\n",
       "    <tr>\n",
       "      <th>11</th>\n",
       "      <td>2799</td>\n",
       "      <td>wagon</td>\n",
       "      <td>2005</td>\n",
       "      <td>manual</td>\n",
       "      <td>140</td>\n",
       "      <td>passat</td>\n",
       "      <td>150000</td>\n",
       "      <td>gasoline</td>\n",
       "      <td>volkswagen</td>\n",
       "      <td>yes</td>\n",
       "    </tr>\n",
       "    <tr>\n",
       "      <th>12</th>\n",
       "      <td>999</td>\n",
       "      <td>wagon</td>\n",
       "      <td>1995</td>\n",
       "      <td>manual</td>\n",
       "      <td>115</td>\n",
       "      <td>passat</td>\n",
       "      <td>150000</td>\n",
       "      <td>gasoline</td>\n",
       "      <td>volkswagen</td>\n",
       "      <td>NaN</td>\n",
       "    </tr>\n",
       "    <tr>\n",
       "      <th>13</th>\n",
       "      <td>2500</td>\n",
       "      <td>wagon</td>\n",
       "      <td>2004</td>\n",
       "      <td>manual</td>\n",
       "      <td>131</td>\n",
       "      <td>passat</td>\n",
       "      <td>150000</td>\n",
       "      <td>NaN</td>\n",
       "      <td>volkswagen</td>\n",
       "      <td>no</td>\n",
       "    </tr>\n",
       "    <tr>\n",
       "      <th>14</th>\n",
       "      <td>17999</td>\n",
       "      <td>suv</td>\n",
       "      <td>2011</td>\n",
       "      <td>manual</td>\n",
       "      <td>190</td>\n",
       "      <td>navara</td>\n",
       "      <td>70000</td>\n",
       "      <td>gasoline</td>\n",
       "      <td>nissan</td>\n",
       "      <td>no</td>\n",
       "    </tr>\n",
       "    <tr>\n",
       "      <th>15</th>\n",
       "      <td>450</td>\n",
       "      <td>small</td>\n",
       "      <td>1910</td>\n",
       "      <td>NaN</td>\n",
       "      <td>0</td>\n",
       "      <td>ka</td>\n",
       "      <td>5000</td>\n",
       "      <td>gasoline</td>\n",
       "      <td>ford</td>\n",
       "      <td>NaN</td>\n",
       "    </tr>\n",
       "    <tr>\n",
       "      <th>16</th>\n",
       "      <td>300</td>\n",
       "      <td>NaN</td>\n",
       "      <td>2016</td>\n",
       "      <td>NaN</td>\n",
       "      <td>60</td>\n",
       "      <td>polo</td>\n",
       "      <td>150000</td>\n",
       "      <td>gasoline</td>\n",
       "      <td>volkswagen</td>\n",
       "      <td>NaN</td>\n",
       "    </tr>\n",
       "    <tr>\n",
       "      <th>17</th>\n",
       "      <td>1750</td>\n",
       "      <td>small</td>\n",
       "      <td>2004</td>\n",
       "      <td>auto</td>\n",
       "      <td>75</td>\n",
       "      <td>twingo</td>\n",
       "      <td>150000</td>\n",
       "      <td>gasoline</td>\n",
       "      <td>renault</td>\n",
       "      <td>no</td>\n",
       "    </tr>\n",
       "    <tr>\n",
       "      <th>18</th>\n",
       "      <td>7550</td>\n",
       "      <td>bus</td>\n",
       "      <td>2007</td>\n",
       "      <td>manual</td>\n",
       "      <td>136</td>\n",
       "      <td>c_max</td>\n",
       "      <td>150000</td>\n",
       "      <td>gasoline</td>\n",
       "      <td>ford</td>\n",
       "      <td>no</td>\n",
       "    </tr>\n",
       "    <tr>\n",
       "      <th>19</th>\n",
       "      <td>1850</td>\n",
       "      <td>bus</td>\n",
       "      <td>2004</td>\n",
       "      <td>manual</td>\n",
       "      <td>102</td>\n",
       "      <td>a_klasse</td>\n",
       "      <td>150000</td>\n",
       "      <td>gasoline</td>\n",
       "      <td>mercedes_benz</td>\n",
       "      <td>no</td>\n",
       "    </tr>\n",
       "    <tr>\n",
       "      <th>20</th>\n",
       "      <td>10400</td>\n",
       "      <td>coupe</td>\n",
       "      <td>2009</td>\n",
       "      <td>manual</td>\n",
       "      <td>160</td>\n",
       "      <td>scirocco</td>\n",
       "      <td>100000</td>\n",
       "      <td>gasoline</td>\n",
       "      <td>volkswagen</td>\n",
       "      <td>no</td>\n",
       "    </tr>\n",
       "  </tbody>\n",
       "</table>\n",
       "</div>"
      ],
      "text/plain": [
       "    price  vehicletype  registrationyear gearbox  power     model  kilometer  \\\n",
       "0     480          NaN              1993  manual      0      golf     150000   \n",
       "1   18300        coupe              2011  manual    190       NaN     125000   \n",
       "2    9800          suv              2004    auto    163     grand     125000   \n",
       "3    1500        small              2001  manual     75      golf     150000   \n",
       "4    3600        small              2008  manual     69     fabia      90000   \n",
       "5     650        sedan              1995  manual    102       3er     150000   \n",
       "6    2200  convertible              2004  manual    109   2_reihe     150000   \n",
       "8   14500          bus              2014  manual    125     c_max      30000   \n",
       "9     999        small              1998  manual    101      golf     150000   \n",
       "10   2000        sedan              2004  manual    105   3_reihe     150000   \n",
       "11   2799        wagon              2005  manual    140    passat     150000   \n",
       "12    999        wagon              1995  manual    115    passat     150000   \n",
       "13   2500        wagon              2004  manual    131    passat     150000   \n",
       "14  17999          suv              2011  manual    190    navara      70000   \n",
       "15    450        small              1910     NaN      0        ka       5000   \n",
       "16    300          NaN              2016     NaN     60      polo     150000   \n",
       "17   1750        small              2004    auto     75    twingo     150000   \n",
       "18   7550          bus              2007  manual    136     c_max     150000   \n",
       "19   1850          bus              2004  manual    102  a_klasse     150000   \n",
       "20  10400        coupe              2009  manual    160  scirocco     100000   \n",
       "\n",
       "    fueltype          brand repaired  \n",
       "0   gasoline     volkswagen      NaN  \n",
       "1   gasoline           audi      yes  \n",
       "2   gasoline           jeep      NaN  \n",
       "3   gasoline     volkswagen       no  \n",
       "4   gasoline          skoda       no  \n",
       "5   gasoline            bmw      yes  \n",
       "6   gasoline        peugeot       no  \n",
       "8   gasoline           ford      NaN  \n",
       "9        NaN     volkswagen      NaN  \n",
       "10  gasoline          mazda       no  \n",
       "11  gasoline     volkswagen      yes  \n",
       "12  gasoline     volkswagen      NaN  \n",
       "13       NaN     volkswagen       no  \n",
       "14  gasoline         nissan       no  \n",
       "15  gasoline           ford      NaN  \n",
       "16  gasoline     volkswagen      NaN  \n",
       "17  gasoline        renault       no  \n",
       "18  gasoline           ford       no  \n",
       "19  gasoline  mercedes_benz       no  \n",
       "20  gasoline     volkswagen       no  "
      ]
     },
     "execution_count": 16,
     "metadata": {},
     "output_type": "execute_result"
    }
   ],
   "source": [
    "data_car.head(20)"
   ]
  },
  {
   "cell_type": "code",
   "execution_count": 17,
   "metadata": {},
   "outputs": [
    {
     "data": {
      "text/plain": [
       "sedan          88965\n",
       "small          77028\n",
       "wagon          63383\n",
       "bus            28256\n",
       "convertible    19807\n",
       "coupe          15532\n",
       "suv            11758\n",
       "other           3040\n",
       "Name: vehicletype, dtype: int64"
      ]
     },
     "execution_count": 17,
     "metadata": {},
     "output_type": "execute_result"
    }
   ],
   "source": [
    "#Посморим значения столбца\n",
    "\n",
    "data_car['vehicletype'].value_counts()"
   ]
  },
  {
   "cell_type": "code",
   "execution_count": 18,
   "metadata": {},
   "outputs": [],
   "source": [
    "#Восстановим данные по brand и power\n",
    "\n",
    "data_car['vehicletype'] = data_car['vehicletype'].fillna(data_car.groupby(['brand','power'])['vehicletype']\n",
    "                                                                 .transform(lambda x: x.mode().iloc[0] if not x.mode().empty else np.nan))\n"
   ]
  },
  {
   "cell_type": "code",
   "execution_count": 19,
   "metadata": {},
   "outputs": [
    {
     "data": {
      "text/plain": [
       "sedan          99973\n",
       "small          91538\n",
       "wagon          66555\n",
       "bus            29989\n",
       "convertible    20283\n",
       "coupe          15880\n",
       "suv            12136\n",
       "other           3477\n",
       "Name: vehicletype, dtype: int64"
      ]
     },
     "execution_count": 19,
     "metadata": {},
     "output_type": "execute_result"
    }
   ],
   "source": [
    "#Посмотрим изменения \n",
    "\n",
    "data_car['vehicletype'].value_counts()"
   ]
  },
  {
   "cell_type": "code",
   "execution_count": 20,
   "metadata": {},
   "outputs": [
    {
     "data": {
      "text/plain": [
       "189"
      ]
     },
     "execution_count": 20,
     "metadata": {},
     "output_type": "execute_result"
    }
   ],
   "source": [
    "#Пропуски после замены значений \n",
    "\n",
    "data_car['vehicletype'].isna().sum()"
   ]
  },
  {
   "cell_type": "code",
   "execution_count": 21,
   "metadata": {},
   "outputs": [
    {
     "data": {
      "text/plain": [
       "0       34653\n",
       "75      23089\n",
       "60      15247\n",
       "150     14104\n",
       "101     12919\n",
       "        ...  \n",
       "1801        1\n",
       "1199        1\n",
       "327         1\n",
       "1200        1\n",
       "1160        1\n",
       "Name: power, Length: 695, dtype: int64"
      ]
     },
     "execution_count": 21,
     "metadata": {},
     "output_type": "execute_result"
    }
   ],
   "source": [
    "#Посмотрим на количество значений мощностей\n",
    "\n",
    "data_car['power'].value_counts()"
   ]
  },
  {
   "cell_type": "code",
   "execution_count": 22,
   "metadata": {},
   "outputs": [],
   "source": [
    "#Восстановим мощности по model и brand\n",
    "\n",
    "data_car['power'] = data_car['power'].fillna(data_car.groupby(['model','brand'])['power'].transform('median'))\n",
    "\n",
    "data_car = data_car.loc[~data_car['power'].isna()]\n",
    "\n",
    "#Так как присутствуют неправдоподные значения мощности, и их достаточно много, пометим их как '0'\n",
    "\n",
    "data_car.loc[(data_car['power'] < 40) | (data_car['power'] > 400), 'power'] = '0'\n",
    "\n",
    "data_car['power'] = data_car['power'].astype('int64')\n"
   ]
  },
  {
   "cell_type": "code",
   "execution_count": 23,
   "metadata": {},
   "outputs": [
    {
     "data": {
      "text/plain": [
       "0      36671\n",
       "75     23089\n",
       "60     15247\n",
       "150    14104\n",
       "101    12919\n",
       "       ...  \n",
       "337        1\n",
       "339        1\n",
       "351        1\n",
       "356        1\n",
       "297        1\n",
       "Name: power, Length: 343, dtype: int64"
      ]
     },
     "execution_count": 23,
     "metadata": {},
     "output_type": "execute_result"
    }
   ],
   "source": [
    "#Посмотрим изменения\n",
    "\n",
    "data_car['power'].value_counts()"
   ]
  },
  {
   "cell_type": "code",
   "execution_count": 24,
   "metadata": {},
   "outputs": [
    {
     "data": {
      "text/plain": [
       "price                   0\n",
       "vehicletype           189\n",
       "registrationyear        0\n",
       "gearbox             16085\n",
       "power                   0\n",
       "model               16889\n",
       "kilometer               0\n",
       "fueltype            28004\n",
       "brand                   0\n",
       "repaired            63867\n",
       "dtype: int64"
      ]
     },
     "execution_count": 24,
     "metadata": {},
     "output_type": "execute_result"
    }
   ],
   "source": [
    "#Посмотрим количество пропусков\n",
    "\n",
    "data_car.isna().sum()"
   ]
  },
  {
   "cell_type": "code",
   "execution_count": 25,
   "metadata": {},
   "outputs": [],
   "source": [
    "#Обработаем пропуски\n",
    "\n",
    "data_car.fillna({'vehicletype':'unknown', \n",
    "                           'gearbox':'unknown',\n",
    "                           'model':'other',\n",
    "                           'fueltype':'unknown',\n",
    "                           'repaired':'unknown'},\n",
    "                          inplace=True)"
   ]
  },
  {
   "cell_type": "code",
   "execution_count": 26,
   "metadata": {},
   "outputs": [
    {
     "data": {
      "text/plain": [
       "price               0\n",
       "vehicletype         0\n",
       "registrationyear    0\n",
       "gearbox             0\n",
       "power               0\n",
       "model               0\n",
       "kilometer           0\n",
       "fueltype            0\n",
       "brand               0\n",
       "repaired            0\n",
       "dtype: int64"
      ]
     },
     "execution_count": 26,
     "metadata": {},
     "output_type": "execute_result"
    }
   ],
   "source": [
    "#Убедимся, что все пропуски обработаны\n",
    "\n",
    "data_car.isna().sum()"
   ]
  },
  {
   "cell_type": "code",
   "execution_count": 27,
   "metadata": {},
   "outputs": [
    {
     "data": {
      "text/plain": [
       "array([1993, 2011, 2004, 2001, 2008, 1995, 2014, 1998, 2005, 1910, 2016,\n",
       "       2007, 2009, 2002, 2018, 1997, 1990, 2017, 1981, 2003, 1994, 1991,\n",
       "       1984, 2006, 1999, 2012, 2010, 2000, 1992, 2013, 1996, 1985, 1989,\n",
       "       2015, 1982, 1976, 1983, 1973, 1969, 1971, 1987, 1986, 1988, 1980,\n",
       "       1970, 1965, 1945, 1925, 1974, 1979, 1955, 1978, 1972, 1968, 1977,\n",
       "       1961, 1966, 1975, 1963, 1964, 1960, 1958, 1967, 1956, 3200, 1000,\n",
       "       1941, 9999, 8888, 1500, 2200, 4100, 1962, 1929, 1957, 1940, 3000,\n",
       "       2066, 1949, 2019, 1937, 1951, 1800, 1959, 1953, 1954, 1234, 5300,\n",
       "       9000, 2900, 6000, 5900, 5911, 1400, 5000, 1950, 4000, 1948, 1952,\n",
       "       8500, 1932, 3700, 3800, 4800, 1942, 7000, 1935, 1933, 1936, 1923,\n",
       "       2290, 1930, 1001, 9450, 1944, 2500, 1943, 1938, 1934, 1928, 5555,\n",
       "       5600, 1600, 1111, 1039, 1300, 2800, 1931, 4500, 1602, 7800, 1947,\n",
       "       1927, 7100, 8200, 1946])"
      ]
     },
     "execution_count": 27,
     "metadata": {},
     "output_type": "execute_result"
    }
   ],
   "source": [
    "data_car['registrationyear'].unique()"
   ]
  },
  {
   "cell_type": "code",
   "execution_count": 28,
   "metadata": {},
   "outputs": [
    {
     "data": {
      "text/html": [
       "<div>\n",
       "<style scoped>\n",
       "    .dataframe tbody tr th:only-of-type {\n",
       "        vertical-align: middle;\n",
       "    }\n",
       "\n",
       "    .dataframe tbody tr th {\n",
       "        vertical-align: top;\n",
       "    }\n",
       "\n",
       "    .dataframe thead th {\n",
       "        text-align: right;\n",
       "    }\n",
       "</style>\n",
       "<table border=\"1\" class=\"dataframe\">\n",
       "  <thead>\n",
       "    <tr style=\"text-align: right;\">\n",
       "      <th></th>\n",
       "      <th>price</th>\n",
       "      <th>vehicletype</th>\n",
       "      <th>registrationyear</th>\n",
       "      <th>gearbox</th>\n",
       "      <th>power</th>\n",
       "      <th>model</th>\n",
       "      <th>kilometer</th>\n",
       "      <th>fueltype</th>\n",
       "      <th>brand</th>\n",
       "      <th>repaired</th>\n",
       "    </tr>\n",
       "  </thead>\n",
       "  <tbody>\n",
       "    <tr>\n",
       "      <th>3333</th>\n",
       "      <td>10500</td>\n",
       "      <td>sedan</td>\n",
       "      <td>1955</td>\n",
       "      <td>manual</td>\n",
       "      <td>0</td>\n",
       "      <td>other</td>\n",
       "      <td>60000</td>\n",
       "      <td>gasoline</td>\n",
       "      <td>ford</td>\n",
       "      <td>unknown</td>\n",
       "    </tr>\n",
       "    <tr>\n",
       "      <th>12993</th>\n",
       "      <td>11000</td>\n",
       "      <td>other</td>\n",
       "      <td>1955</td>\n",
       "      <td>manual</td>\n",
       "      <td>40</td>\n",
       "      <td>other</td>\n",
       "      <td>50000</td>\n",
       "      <td>gasoline</td>\n",
       "      <td>sonstige_autos</td>\n",
       "      <td>no</td>\n",
       "    </tr>\n",
       "    <tr>\n",
       "      <th>13177</th>\n",
       "      <td>2300</td>\n",
       "      <td>sedan</td>\n",
       "      <td>1958</td>\n",
       "      <td>manual</td>\n",
       "      <td>45</td>\n",
       "      <td>other</td>\n",
       "      <td>80000</td>\n",
       "      <td>gasoline</td>\n",
       "      <td>sonstige_autos</td>\n",
       "      <td>unknown</td>\n",
       "    </tr>\n",
       "    <tr>\n",
       "      <th>15414</th>\n",
       "      <td>18000</td>\n",
       "      <td>sedan</td>\n",
       "      <td>1956</td>\n",
       "      <td>manual</td>\n",
       "      <td>0</td>\n",
       "      <td>other</td>\n",
       "      <td>150000</td>\n",
       "      <td>gasoline</td>\n",
       "      <td>volkswagen</td>\n",
       "      <td>unknown</td>\n",
       "    </tr>\n",
       "    <tr>\n",
       "      <th>23500</th>\n",
       "      <td>5600</td>\n",
       "      <td>small</td>\n",
       "      <td>1957</td>\n",
       "      <td>manual</td>\n",
       "      <td>0</td>\n",
       "      <td>other</td>\n",
       "      <td>90000</td>\n",
       "      <td>gasoline</td>\n",
       "      <td>sonstige_autos</td>\n",
       "      <td>unknown</td>\n",
       "    </tr>\n",
       "    <tr>\n",
       "      <th>...</th>\n",
       "      <td>...</td>\n",
       "      <td>...</td>\n",
       "      <td>...</td>\n",
       "      <td>...</td>\n",
       "      <td>...</td>\n",
       "      <td>...</td>\n",
       "      <td>...</td>\n",
       "      <td>...</td>\n",
       "      <td>...</td>\n",
       "      <td>...</td>\n",
       "    </tr>\n",
       "    <tr>\n",
       "      <th>344459</th>\n",
       "      <td>18500</td>\n",
       "      <td>coupe</td>\n",
       "      <td>1950</td>\n",
       "      <td>manual</td>\n",
       "      <td>0</td>\n",
       "      <td>other</td>\n",
       "      <td>150000</td>\n",
       "      <td>gasoline</td>\n",
       "      <td>chevrolet</td>\n",
       "      <td>unknown</td>\n",
       "    </tr>\n",
       "    <tr>\n",
       "      <th>348932</th>\n",
       "      <td>11000</td>\n",
       "      <td>suv</td>\n",
       "      <td>1950</td>\n",
       "      <td>manual</td>\n",
       "      <td>0</td>\n",
       "      <td>other</td>\n",
       "      <td>5000</td>\n",
       "      <td>gasoline</td>\n",
       "      <td>chevrolet</td>\n",
       "      <td>no</td>\n",
       "    </tr>\n",
       "    <tr>\n",
       "      <th>351183</th>\n",
       "      <td>17500</td>\n",
       "      <td>sedan</td>\n",
       "      <td>1954</td>\n",
       "      <td>manual</td>\n",
       "      <td>52</td>\n",
       "      <td>other</td>\n",
       "      <td>20000</td>\n",
       "      <td>gasoline</td>\n",
       "      <td>citroen</td>\n",
       "      <td>no</td>\n",
       "    </tr>\n",
       "    <tr>\n",
       "      <th>351299</th>\n",
       "      <td>5500</td>\n",
       "      <td>bus</td>\n",
       "      <td>1956</td>\n",
       "      <td>manual</td>\n",
       "      <td>0</td>\n",
       "      <td>other</td>\n",
       "      <td>60000</td>\n",
       "      <td>gasoline</td>\n",
       "      <td>sonstige_autos</td>\n",
       "      <td>no</td>\n",
       "    </tr>\n",
       "    <tr>\n",
       "      <th>354316</th>\n",
       "      <td>3300</td>\n",
       "      <td>coupe</td>\n",
       "      <td>1957</td>\n",
       "      <td>manual</td>\n",
       "      <td>40</td>\n",
       "      <td>other</td>\n",
       "      <td>100000</td>\n",
       "      <td>gasoline</td>\n",
       "      <td>trabant</td>\n",
       "      <td>no</td>\n",
       "    </tr>\n",
       "  </tbody>\n",
       "</table>\n",
       "<p>161 rows × 10 columns</p>\n",
       "</div>"
      ],
      "text/plain": [
       "        price vehicletype  registrationyear gearbox  power  model  kilometer  \\\n",
       "3333    10500       sedan              1955  manual      0  other      60000   \n",
       "12993   11000       other              1955  manual     40  other      50000   \n",
       "13177    2300       sedan              1958  manual     45  other      80000   \n",
       "15414   18000       sedan              1956  manual      0  other     150000   \n",
       "23500    5600       small              1957  manual      0  other      90000   \n",
       "...       ...         ...               ...     ...    ...    ...        ...   \n",
       "344459  18500       coupe              1950  manual      0  other     150000   \n",
       "348932  11000         suv              1950  manual      0  other       5000   \n",
       "351183  17500       sedan              1954  manual     52  other      20000   \n",
       "351299   5500         bus              1956  manual      0  other      60000   \n",
       "354316   3300       coupe              1957  manual     40  other     100000   \n",
       "\n",
       "        fueltype           brand repaired  \n",
       "3333    gasoline            ford  unknown  \n",
       "12993   gasoline  sonstige_autos       no  \n",
       "13177   gasoline  sonstige_autos  unknown  \n",
       "15414   gasoline      volkswagen  unknown  \n",
       "23500   gasoline  sonstige_autos  unknown  \n",
       "...          ...             ...      ...  \n",
       "344459  gasoline       chevrolet  unknown  \n",
       "348932  gasoline       chevrolet       no  \n",
       "351183  gasoline         citroen       no  \n",
       "351299  gasoline  sonstige_autos       no  \n",
       "354316  gasoline         trabant       no  \n",
       "\n",
       "[161 rows x 10 columns]"
      ]
     },
     "metadata": {},
     "output_type": "display_data"
    }
   ],
   "source": [
    "display(data_car[(data_car['registrationyear']  > 1945) & (data_car['registrationyear']  < 1960)])"
   ]
  },
  {
   "cell_type": "code",
   "execution_count": 29,
   "metadata": {},
   "outputs": [
    {
     "data": {
      "text/html": [
       "<div>\n",
       "<style scoped>\n",
       "    .dataframe tbody tr th:only-of-type {\n",
       "        vertical-align: middle;\n",
       "    }\n",
       "\n",
       "    .dataframe tbody tr th {\n",
       "        vertical-align: top;\n",
       "    }\n",
       "\n",
       "    .dataframe thead th {\n",
       "        text-align: right;\n",
       "    }\n",
       "</style>\n",
       "<table border=\"1\" class=\"dataframe\">\n",
       "  <thead>\n",
       "    <tr style=\"text-align: right;\">\n",
       "      <th></th>\n",
       "      <th>price</th>\n",
       "      <th>vehicletype</th>\n",
       "      <th>registrationyear</th>\n",
       "      <th>gearbox</th>\n",
       "      <th>power</th>\n",
       "      <th>model</th>\n",
       "      <th>kilometer</th>\n",
       "      <th>fueltype</th>\n",
       "      <th>brand</th>\n",
       "      <th>repaired</th>\n",
       "    </tr>\n",
       "  </thead>\n",
       "  <tbody>\n",
       "    <tr>\n",
       "      <th>15</th>\n",
       "      <td>450</td>\n",
       "      <td>small</td>\n",
       "      <td>1910</td>\n",
       "      <td>unknown</td>\n",
       "      <td>0</td>\n",
       "      <td>ka</td>\n",
       "      <td>5000</td>\n",
       "      <td>gasoline</td>\n",
       "      <td>ford</td>\n",
       "      <td>unknown</td>\n",
       "    </tr>\n",
       "    <tr>\n",
       "      <th>2273</th>\n",
       "      <td>1800</td>\n",
       "      <td>convertible</td>\n",
       "      <td>1925</td>\n",
       "      <td>unknown</td>\n",
       "      <td>0</td>\n",
       "      <td>other</td>\n",
       "      <td>5000</td>\n",
       "      <td>unknown</td>\n",
       "      <td>sonstige_autos</td>\n",
       "      <td>no</td>\n",
       "    </tr>\n",
       "    <tr>\n",
       "      <th>6977</th>\n",
       "      <td>135</td>\n",
       "      <td>small</td>\n",
       "      <td>1910</td>\n",
       "      <td>unknown</td>\n",
       "      <td>0</td>\n",
       "      <td>other</td>\n",
       "      <td>5000</td>\n",
       "      <td>unknown</td>\n",
       "      <td>opel</td>\n",
       "      <td>unknown</td>\n",
       "    </tr>\n",
       "    <tr>\n",
       "      <th>10183</th>\n",
       "      <td>1250</td>\n",
       "      <td>sedan</td>\n",
       "      <td>1910</td>\n",
       "      <td>unknown</td>\n",
       "      <td>0</td>\n",
       "      <td>other</td>\n",
       "      <td>5000</td>\n",
       "      <td>unknown</td>\n",
       "      <td>audi</td>\n",
       "      <td>unknown</td>\n",
       "    </tr>\n",
       "    <tr>\n",
       "      <th>16062</th>\n",
       "      <td>190</td>\n",
       "      <td>small</td>\n",
       "      <td>1000</td>\n",
       "      <td>unknown</td>\n",
       "      <td>0</td>\n",
       "      <td>mondeo</td>\n",
       "      <td>5000</td>\n",
       "      <td>unknown</td>\n",
       "      <td>ford</td>\n",
       "      <td>unknown</td>\n",
       "    </tr>\n",
       "    <tr>\n",
       "      <th>...</th>\n",
       "      <td>...</td>\n",
       "      <td>...</td>\n",
       "      <td>...</td>\n",
       "      <td>...</td>\n",
       "      <td>...</td>\n",
       "      <td>...</td>\n",
       "      <td>...</td>\n",
       "      <td>...</td>\n",
       "      <td>...</td>\n",
       "      <td>...</td>\n",
       "    </tr>\n",
       "    <tr>\n",
       "      <th>340759</th>\n",
       "      <td>700</td>\n",
       "      <td>unknown</td>\n",
       "      <td>1600</td>\n",
       "      <td>manual</td>\n",
       "      <td>0</td>\n",
       "      <td>a3</td>\n",
       "      <td>150000</td>\n",
       "      <td>gasoline</td>\n",
       "      <td>audi</td>\n",
       "      <td>no</td>\n",
       "    </tr>\n",
       "    <tr>\n",
       "      <th>346046</th>\n",
       "      <td>18900</td>\n",
       "      <td>suv</td>\n",
       "      <td>1943</td>\n",
       "      <td>manual</td>\n",
       "      <td>60</td>\n",
       "      <td>other</td>\n",
       "      <td>150000</td>\n",
       "      <td>gasoline</td>\n",
       "      <td>volkswagen</td>\n",
       "      <td>no</td>\n",
       "    </tr>\n",
       "    <tr>\n",
       "      <th>351682</th>\n",
       "      <td>11500</td>\n",
       "      <td>small</td>\n",
       "      <td>1800</td>\n",
       "      <td>unknown</td>\n",
       "      <td>0</td>\n",
       "      <td>other</td>\n",
       "      <td>5000</td>\n",
       "      <td>gasoline</td>\n",
       "      <td>fiat</td>\n",
       "      <td>unknown</td>\n",
       "    </tr>\n",
       "    <tr>\n",
       "      <th>353531</th>\n",
       "      <td>6000</td>\n",
       "      <td>sedan</td>\n",
       "      <td>1937</td>\n",
       "      <td>manual</td>\n",
       "      <td>0</td>\n",
       "      <td>other</td>\n",
       "      <td>5000</td>\n",
       "      <td>gasoline</td>\n",
       "      <td>mercedes_benz</td>\n",
       "      <td>unknown</td>\n",
       "    </tr>\n",
       "    <tr>\n",
       "      <th>353961</th>\n",
       "      <td>200</td>\n",
       "      <td>other</td>\n",
       "      <td>1910</td>\n",
       "      <td>unknown</td>\n",
       "      <td>0</td>\n",
       "      <td>other</td>\n",
       "      <td>5000</td>\n",
       "      <td>gasoline</td>\n",
       "      <td>sonstige_autos</td>\n",
       "      <td>unknown</td>\n",
       "    </tr>\n",
       "  </tbody>\n",
       "</table>\n",
       "<p>132 rows × 10 columns</p>\n",
       "</div>"
      ],
      "text/plain": [
       "        price  vehicletype  registrationyear  gearbox  power   model  \\\n",
       "15        450        small              1910  unknown      0      ka   \n",
       "2273     1800  convertible              1925  unknown      0   other   \n",
       "6977      135        small              1910  unknown      0   other   \n",
       "10183    1250        sedan              1910  unknown      0   other   \n",
       "16062     190        small              1000  unknown      0  mondeo   \n",
       "...       ...          ...               ...      ...    ...     ...   \n",
       "340759    700      unknown              1600   manual      0      a3   \n",
       "346046  18900          suv              1943   manual     60   other   \n",
       "351682  11500        small              1800  unknown      0   other   \n",
       "353531   6000        sedan              1937   manual      0   other   \n",
       "353961    200        other              1910  unknown      0   other   \n",
       "\n",
       "        kilometer  fueltype           brand repaired  \n",
       "15           5000  gasoline            ford  unknown  \n",
       "2273         5000   unknown  sonstige_autos       no  \n",
       "6977         5000   unknown            opel  unknown  \n",
       "10183        5000   unknown            audi  unknown  \n",
       "16062        5000   unknown            ford  unknown  \n",
       "...           ...       ...             ...      ...  \n",
       "340759     150000  gasoline            audi       no  \n",
       "346046     150000  gasoline      volkswagen       no  \n",
       "351682       5000  gasoline            fiat  unknown  \n",
       "353531       5000  gasoline   mercedes_benz  unknown  \n",
       "353961       5000  gasoline  sonstige_autos  unknown  \n",
       "\n",
       "[132 rows x 10 columns]"
      ]
     },
     "metadata": {},
     "output_type": "display_data"
    }
   ],
   "source": [
    "display(data_car[data_car['registrationyear']  < 1945])"
   ]
  },
  {
   "cell_type": "code",
   "execution_count": 30,
   "metadata": {},
   "outputs": [
    {
     "data": {
      "text/html": [
       "<div>\n",
       "<style scoped>\n",
       "    .dataframe tbody tr th:only-of-type {\n",
       "        vertical-align: middle;\n",
       "    }\n",
       "\n",
       "    .dataframe tbody tr th {\n",
       "        vertical-align: top;\n",
       "    }\n",
       "\n",
       "    .dataframe thead th {\n",
       "        text-align: right;\n",
       "    }\n",
       "</style>\n",
       "<table border=\"1\" class=\"dataframe\">\n",
       "  <thead>\n",
       "    <tr style=\"text-align: right;\">\n",
       "      <th></th>\n",
       "      <th>price</th>\n",
       "      <th>vehicletype</th>\n",
       "      <th>registrationyear</th>\n",
       "      <th>gearbox</th>\n",
       "      <th>power</th>\n",
       "      <th>model</th>\n",
       "      <th>kilometer</th>\n",
       "      <th>fueltype</th>\n",
       "      <th>brand</th>\n",
       "      <th>repaired</th>\n",
       "    </tr>\n",
       "  </thead>\n",
       "  <tbody>\n",
       "    <tr>\n",
       "      <th>15870</th>\n",
       "      <td>1700</td>\n",
       "      <td>other</td>\n",
       "      <td>3200</td>\n",
       "      <td>unknown</td>\n",
       "      <td>0</td>\n",
       "      <td>other</td>\n",
       "      <td>5000</td>\n",
       "      <td>unknown</td>\n",
       "      <td>sonstige_autos</td>\n",
       "      <td>unknown</td>\n",
       "    </tr>\n",
       "    <tr>\n",
       "      <th>17271</th>\n",
       "      <td>700</td>\n",
       "      <td>small</td>\n",
       "      <td>9999</td>\n",
       "      <td>unknown</td>\n",
       "      <td>0</td>\n",
       "      <td>other</td>\n",
       "      <td>10000</td>\n",
       "      <td>unknown</td>\n",
       "      <td>opel</td>\n",
       "      <td>unknown</td>\n",
       "    </tr>\n",
       "    <tr>\n",
       "      <th>17346</th>\n",
       "      <td>6500</td>\n",
       "      <td>other</td>\n",
       "      <td>8888</td>\n",
       "      <td>unknown</td>\n",
       "      <td>0</td>\n",
       "      <td>other</td>\n",
       "      <td>10000</td>\n",
       "      <td>unknown</td>\n",
       "      <td>sonstige_autos</td>\n",
       "      <td>unknown</td>\n",
       "    </tr>\n",
       "    <tr>\n",
       "      <th>18259</th>\n",
       "      <td>300</td>\n",
       "      <td>small</td>\n",
       "      <td>2200</td>\n",
       "      <td>unknown</td>\n",
       "      <td>0</td>\n",
       "      <td>twingo</td>\n",
       "      <td>5000</td>\n",
       "      <td>unknown</td>\n",
       "      <td>renault</td>\n",
       "      <td>unknown</td>\n",
       "    </tr>\n",
       "    <tr>\n",
       "      <th>20159</th>\n",
       "      <td>1600</td>\n",
       "      <td>other</td>\n",
       "      <td>4100</td>\n",
       "      <td>unknown</td>\n",
       "      <td>0</td>\n",
       "      <td>other</td>\n",
       "      <td>5000</td>\n",
       "      <td>unknown</td>\n",
       "      <td>sonstige_autos</td>\n",
       "      <td>unknown</td>\n",
       "    </tr>\n",
       "    <tr>\n",
       "      <th>...</th>\n",
       "      <td>...</td>\n",
       "      <td>...</td>\n",
       "      <td>...</td>\n",
       "      <td>...</td>\n",
       "      <td>...</td>\n",
       "      <td>...</td>\n",
       "      <td>...</td>\n",
       "      <td>...</td>\n",
       "      <td>...</td>\n",
       "      <td>...</td>\n",
       "    </tr>\n",
       "    <tr>\n",
       "      <th>320452</th>\n",
       "      <td>500</td>\n",
       "      <td>wagon</td>\n",
       "      <td>8200</td>\n",
       "      <td>auto</td>\n",
       "      <td>81</td>\n",
       "      <td>octavia</td>\n",
       "      <td>10000</td>\n",
       "      <td>unknown</td>\n",
       "      <td>skoda</td>\n",
       "      <td>unknown</td>\n",
       "    </tr>\n",
       "    <tr>\n",
       "      <th>322234</th>\n",
       "      <td>15000</td>\n",
       "      <td>unknown</td>\n",
       "      <td>5000</td>\n",
       "      <td>unknown</td>\n",
       "      <td>155</td>\n",
       "      <td>golf</td>\n",
       "      <td>5000</td>\n",
       "      <td>gasoline</td>\n",
       "      <td>volkswagen</td>\n",
       "      <td>unknown</td>\n",
       "    </tr>\n",
       "    <tr>\n",
       "      <th>326556</th>\n",
       "      <td>7999</td>\n",
       "      <td>sedan</td>\n",
       "      <td>5911</td>\n",
       "      <td>auto</td>\n",
       "      <td>75</td>\n",
       "      <td>golf</td>\n",
       "      <td>10000</td>\n",
       "      <td>unknown</td>\n",
       "      <td>volkswagen</td>\n",
       "      <td>unknown</td>\n",
       "    </tr>\n",
       "    <tr>\n",
       "      <th>328453</th>\n",
       "      <td>450</td>\n",
       "      <td>sedan</td>\n",
       "      <td>2500</td>\n",
       "      <td>unknown</td>\n",
       "      <td>0</td>\n",
       "      <td>6_reihe</td>\n",
       "      <td>5000</td>\n",
       "      <td>unknown</td>\n",
       "      <td>mazda</td>\n",
       "      <td>unknown</td>\n",
       "    </tr>\n",
       "    <tr>\n",
       "      <th>334967</th>\n",
       "      <td>12000</td>\n",
       "      <td>sedan</td>\n",
       "      <td>4000</td>\n",
       "      <td>unknown</td>\n",
       "      <td>0</td>\n",
       "      <td>golf</td>\n",
       "      <td>5000</td>\n",
       "      <td>unknown</td>\n",
       "      <td>volkswagen</td>\n",
       "      <td>no</td>\n",
       "    </tr>\n",
       "  </tbody>\n",
       "</table>\n",
       "<p>85 rows × 10 columns</p>\n",
       "</div>"
      ],
      "text/plain": [
       "        price vehicletype  registrationyear  gearbox  power    model  \\\n",
       "15870    1700       other              3200  unknown      0    other   \n",
       "17271     700       small              9999  unknown      0    other   \n",
       "17346    6500       other              8888  unknown      0    other   \n",
       "18259     300       small              2200  unknown      0   twingo   \n",
       "20159    1600       other              4100  unknown      0    other   \n",
       "...       ...         ...               ...      ...    ...      ...   \n",
       "320452    500       wagon              8200     auto     81  octavia   \n",
       "322234  15000     unknown              5000  unknown    155     golf   \n",
       "326556   7999       sedan              5911     auto     75     golf   \n",
       "328453    450       sedan              2500  unknown      0  6_reihe   \n",
       "334967  12000       sedan              4000  unknown      0     golf   \n",
       "\n",
       "        kilometer  fueltype           brand repaired  \n",
       "15870        5000   unknown  sonstige_autos  unknown  \n",
       "17271       10000   unknown            opel  unknown  \n",
       "17346       10000   unknown  sonstige_autos  unknown  \n",
       "18259        5000   unknown         renault  unknown  \n",
       "20159        5000   unknown  sonstige_autos  unknown  \n",
       "...           ...       ...             ...      ...  \n",
       "320452      10000   unknown           skoda  unknown  \n",
       "322234       5000  gasoline      volkswagen  unknown  \n",
       "326556      10000   unknown      volkswagen  unknown  \n",
       "328453       5000   unknown           mazda  unknown  \n",
       "334967       5000   unknown      volkswagen       no  \n",
       "\n",
       "[85 rows x 10 columns]"
      ]
     },
     "metadata": {},
     "output_type": "display_data"
    }
   ],
   "source": [
    "display(data_car[data_car['registrationyear']  > 2018])"
   ]
  },
  {
   "cell_type": "markdown",
   "metadata": {},
   "source": [
    "Проанализировав данные за разные года, выбрала диапозон от 1945г до 2018г. Всё, что до 1945г идет с неправдоподобными значениями, тоже самое происходит и с данными после 2018г. Удалим эти строки."
   ]
  },
  {
   "cell_type": "code",
   "execution_count": 31,
   "metadata": {},
   "outputs": [],
   "source": [
    "data_car = data_car.loc[(data_car['registrationyear'] >= 1945) & (data_car['registrationyear'] <= 2017)]"
   ]
  },
  {
   "cell_type": "code",
   "execution_count": 32,
   "metadata": {},
   "outputs": [
    {
     "name": "stdout",
     "output_type": "stream",
     "text": [
      "<class 'pandas.core.frame.DataFrame'>\n",
      "Int64Index: 336038 entries, 0 to 354368\n",
      "Data columns (total 10 columns):\n",
      " #   Column            Non-Null Count   Dtype \n",
      "---  ------            --------------   ----- \n",
      " 0   price             336038 non-null  int64 \n",
      " 1   vehicletype       336038 non-null  object\n",
      " 2   registrationyear  336038 non-null  int64 \n",
      " 3   gearbox           336038 non-null  object\n",
      " 4   power             336038 non-null  int64 \n",
      " 5   model             336038 non-null  object\n",
      " 6   kilometer         336038 non-null  int64 \n",
      " 7   fueltype          336038 non-null  object\n",
      " 8   brand             336038 non-null  object\n",
      " 9   repaired          336038 non-null  object\n",
      "dtypes: int64(4), object(6)\n",
      "memory usage: 28.2+ MB\n"
     ]
    }
   ],
   "source": [
    "#Посмоотрим данные\n",
    "\n",
    "data_car.info()"
   ]
  },
  {
   "cell_type": "markdown",
   "metadata": {},
   "source": [
    "## Обучение моделей"
   ]
  },
  {
   "cell_type": "markdown",
   "metadata": {},
   "source": [
    "1. Подготовим признаки для обучения моделей\n",
    "\n",
    "2. Разобьем выборки на обучающую и тестовую\n",
    "\n",
    "3. Обучим модели"
   ]
  },
  {
   "cell_type": "code",
   "execution_count": 2,
   "metadata": {},
   "outputs": [
    {
     "ename": "NameError",
     "evalue": "name 'data_car' is not defined",
     "output_type": "error",
     "traceback": [
      "\u001b[0;31m---------------------------------------------------------------------------\u001b[0m",
      "\u001b[0;31mNameError\u001b[0m                                 Traceback (most recent call last)",
      "\u001b[0;32m/tmp/ipykernel_48/4083698337.py\u001b[0m in \u001b[0;36m<module>\u001b[0;34m\u001b[0m\n\u001b[1;32m      1\u001b[0m \u001b[0;31m#Выделим целевой признак\u001b[0m\u001b[0;34m\u001b[0m\u001b[0;34m\u001b[0m\u001b[0;34m\u001b[0m\u001b[0m\n\u001b[1;32m      2\u001b[0m \u001b[0;34m\u001b[0m\u001b[0m\n\u001b[0;32m----> 3\u001b[0;31m \u001b[0mfeatures\u001b[0m \u001b[0;34m=\u001b[0m \u001b[0mdata_car\u001b[0m\u001b[0;34m.\u001b[0m\u001b[0mdrop\u001b[0m\u001b[0;34m(\u001b[0m\u001b[0;34m'price'\u001b[0m\u001b[0;34m,\u001b[0m \u001b[0maxis\u001b[0m\u001b[0;34m=\u001b[0m\u001b[0;36m1\u001b[0m\u001b[0;34m)\u001b[0m\u001b[0;34m\u001b[0m\u001b[0;34m\u001b[0m\u001b[0m\n\u001b[0m\u001b[1;32m      4\u001b[0m \u001b[0;34m\u001b[0m\u001b[0m\n\u001b[1;32m      5\u001b[0m \u001b[0mtarget\u001b[0m \u001b[0;34m=\u001b[0m \u001b[0mdata_car\u001b[0m\u001b[0;34m[\u001b[0m\u001b[0;34m'price'\u001b[0m\u001b[0;34m]\u001b[0m\u001b[0;34m\u001b[0m\u001b[0;34m\u001b[0m\u001b[0m\n",
      "\u001b[0;31mNameError\u001b[0m: name 'data_car' is not defined"
     ]
    }
   ],
   "source": [
    "#Выделим целевой признак\n",
    "\n",
    "features = data_car.drop('price', axis=1)\n",
    "\n",
    "target = data_car['price']"
   ]
  },
  {
   "cell_type": "code",
   "execution_count": 34,
   "metadata": {},
   "outputs": [],
   "source": [
    "#Разбиваем выборки на обучающую и тестовую\n",
    "\n",
    "features_train, features_test, target_train, target_test = train_test_split(features,\n",
    "                                                    target,\n",
    "                                                    test_size=0.6,\n",
    "                                                    random_state=RANDOM_STATE)"
   ]
  },
  {
   "cell_type": "code",
   "execution_count": 1,
   "metadata": {},
   "outputs": [
    {
     "ename": "NameError",
     "evalue": "name 'train_test_split' is not defined",
     "output_type": "error",
     "traceback": [
      "\u001b[0;31m---------------------------------------------------------------------------\u001b[0m",
      "\u001b[0;31mNameError\u001b[0m                                 Traceback (most recent call last)",
      "\u001b[0;32m/tmp/ipykernel_48/4209751918.py\u001b[0m in \u001b[0;36m<module>\u001b[0;34m\u001b[0m\n\u001b[1;32m      1\u001b[0m \u001b[0;31m#Разбиваем выборки на валидационную и тестовую\u001b[0m\u001b[0;34m\u001b[0m\u001b[0;34m\u001b[0m\u001b[0;34m\u001b[0m\u001b[0m\n\u001b[0;32m----> 2\u001b[0;31m features_valid, features_test, target_valid, target_test = train_test_split(features_test,\n\u001b[0m\u001b[1;32m      3\u001b[0m                                                     \u001b[0mtarget_test\u001b[0m\u001b[0;34m,\u001b[0m\u001b[0;34m\u001b[0m\u001b[0;34m\u001b[0m\u001b[0m\n\u001b[1;32m      4\u001b[0m                                                     \u001b[0mtrain_size\u001b[0m\u001b[0;34m=\u001b[0m\u001b[0;36m0.1\u001b[0m\u001b[0;34m,\u001b[0m\u001b[0;34m\u001b[0m\u001b[0;34m\u001b[0m\u001b[0m\n\u001b[1;32m      5\u001b[0m                                                     random_state=12345)\n",
      "\u001b[0;31mNameError\u001b[0m: name 'train_test_split' is not defined"
     ]
    }
   ],
   "source": [
    "#Разбиваем выборки на валидационную и тестовую\n",
    "features_valid, features_test, target_valid, target_test = train_test_split(features_test,\n",
    "                                                    target_test,\n",
    "                                                    train_size=0.1,\n",
    "                                                    random_state=12345)"
   ]
  },
  {
   "cell_type": "code",
   "execution_count": 36,
   "metadata": {},
   "outputs": [],
   "source": [
    "#Воспользуемся для кодирования техникой OrdinalEncoder(эти признаки понадобятся нам для моделей LGBMRegressor и CatBoostRegressor)\n",
    "\n",
    "encoder = OrdinalEncoder(handle_unknown='ignore') \n",
    "\n",
    "\n",
    "encoder.fit(features_train,target_train)\n",
    "\n",
    "features_train_ordinal = pd.DataFrame(encoder.transform(features_train), columns=features_train.columns)\n",
    "\n",
    "features_valid_ordinal = pd.DataFrame(encoder.transform(features_valid), columns=features_valid.columns)\n",
    "\n",
    "features_test_ordinal = pd.DataFrame(encoder.transform(features_test), columns=features_test.columns)\n",
    "\n"
   ]
  },
  {
   "cell_type": "code",
   "execution_count": 37,
   "metadata": {},
   "outputs": [],
   "source": [
    "##Воспользуемся для кодирования методом OHE(понадобятся нам для линейных моделей)\n",
    "\n",
    "features_ohe = pd.get_dummies(features, drop_first=True)"
   ]
  },
  {
   "cell_type": "code",
   "execution_count": 38,
   "metadata": {},
   "outputs": [],
   "source": [
    "features_train_ohe = features_ohe.loc[features_train.index, :]\n",
    "\n",
    "features_valid_ohe = features_ohe.loc[features_valid.index, :]\n",
    "\n",
    "features_test_ohe = features_ohe.loc[features_test.index, :]"
   ]
  },
  {
   "cell_type": "code",
   "execution_count": 39,
   "metadata": {},
   "outputs": [],
   "source": [
    "#Масштабируем признаки\n",
    "\n",
    "numeric_features = ['power', 'registrationyear', 'kilometer']\n",
    "\n",
    "scaler = StandardScaler()\n",
    "\n",
    "scaler.fit(features_train_ohe[numeric_features])\n",
    "\n",
    "features_ohe_train = features_train_ohe.copy()\n",
    "features_ohe_train[numeric_features] = scaler.transform(features_ohe_train[numeric_features])\n",
    "\n",
    "features_ohe_valid = features_valid_ohe.copy()\n",
    "features_ohe_valid[numeric_features] = scaler.transform(features_ohe_valid[numeric_features])\n",
    "\n",
    "features_ohe_test = features_test_ohe.copy()\n",
    "features_ohe_test[numeric_features] = scaler.transform(features_ohe_test[numeric_features])"
   ]
  },
  {
   "cell_type": "code",
   "execution_count": 40,
   "metadata": {},
   "outputs": [],
   "source": [
    "#Функция для вычисления RMSE\n",
    "\n",
    "def rmse(target, predicted):\n",
    "    return mse(target, predicted) ** 0.5"
   ]
  },
  {
   "cell_type": "markdown",
   "metadata": {},
   "source": [
    "# LinearRegression"
   ]
  },
  {
   "cell_type": "code",
   "execution_count": 41,
   "metadata": {},
   "outputs": [
    {
     "name": "stdout",
     "output_type": "stream",
     "text": [
      "CPU times: user 11 s, sys: 9 s, total: 20 s\n",
      "Wall time: 20 s\n"
     ]
    },
    {
     "data": {
      "text/plain": [
       "LinearRegression()"
      ]
     },
     "execution_count": 41,
     "metadata": {},
     "output_type": "execute_result"
    }
   ],
   "source": [
    "%%time\n",
    "#Обучим модель\n",
    "\n",
    "model_lr = LinearRegression()\n",
    "model_lr.fit(features_ohe_train, target_train)"
   ]
  },
  {
   "cell_type": "code",
   "execution_count": 42,
   "metadata": {
    "scrolled": true
   },
   "outputs": [
    {
     "name": "stdout",
     "output_type": "stream",
     "text": [
      "RMSE: 2829.6654120888566\n",
      "None\n",
      "CPU times: user 129 ms, sys: 81.9 ms, total: 211 ms\n",
      "Wall time: 197 ms\n"
     ]
    }
   ],
   "source": [
    "%%time\n",
    "\n",
    "predicted = model_lr.predict(features_ohe_valid)\n",
    "\n",
    "print(print('RMSE:', rmse(target_valid,predicted)))"
   ]
  },
  {
   "cell_type": "markdown",
   "metadata": {},
   "source": [
    "# RandomForestRegressor"
   ]
  },
  {
   "cell_type": "code",
   "execution_count": 43,
   "metadata": {},
   "outputs": [],
   "source": [
    "#%%time\n",
    "#Подберем необходимые параметры для модели\n",
    "\n",
    "#parameters = {'n_estimators': range(1,50,5),'max_depth': range(1,11,3)}\n",
    "\n",
    "#model_rf = RandomForestRegressor()\n",
    "#grid = GridSearchCV(model_rf, parameters, cv=3, scoring='neg_mean_squared_error')\n",
    "#grid.fit(features_train, target_train)\n",
    "\n",
    "#grid.best_params_"
   ]
  },
  {
   "cell_type": "code",
   "execution_count": 44,
   "metadata": {},
   "outputs": [
    {
     "name": "stdout",
     "output_type": "stream",
     "text": [
      "CPU times: user 1min, sys: 229 ms, total: 1min\n",
      "Wall time: 1min\n"
     ]
    },
    {
     "data": {
      "text/plain": [
       "RandomForestRegressor(max_depth=10, n_estimators=41, random_state=12345)"
      ]
     },
     "execution_count": 44,
     "metadata": {},
     "output_type": "execute_result"
    }
   ],
   "source": [
    "%%time\n",
    "#Обучим модель\n",
    "\n",
    "model_rf = RandomForestRegressor(max_depth=10, n_estimators=41, random_state=RANDOM_STATE)\n",
    "model_rf.fit(features_ohe_train, target_train)"
   ]
  },
  {
   "cell_type": "code",
   "execution_count": 45,
   "metadata": {},
   "outputs": [
    {
     "name": "stdout",
     "output_type": "stream",
     "text": [
      "RMSE: 1976.4605277927749\n",
      "None\n",
      "CPU times: user 415 ms, sys: 95.3 ms, total: 510 ms\n",
      "Wall time: 519 ms\n"
     ]
    }
   ],
   "source": [
    "%%time\n",
    "#Получим предсказания и вычислим RSME\n",
    "\n",
    "predicted = model_rf.predict(features_ohe_valid)\n",
    "\n",
    "print(print('RMSE:', rmse(target_valid,predicted)))"
   ]
  },
  {
   "cell_type": "markdown",
   "metadata": {},
   "source": [
    "# DecisionTreeRegressor"
   ]
  },
  {
   "cell_type": "code",
   "execution_count": 46,
   "metadata": {
    "scrolled": true
   },
   "outputs": [],
   "source": [
    "#%%time\n",
    "#Подберем необходимые параметры для модели\n",
    "\n",
    "#parameters = {'max_depth': range(1,20,3)}\n",
    "\n",
    "#model_dt = DecisionTreeRegressor()\n",
    "#grid = GridSearchCV(model_dt, parameters, cv=3, scoring='neg_mean_squared_error')\n",
    "#grid.fit(features_train, target_train)\n",
    "\n",
    "#grid.best_params_"
   ]
  },
  {
   "cell_type": "code",
   "execution_count": 47,
   "metadata": {},
   "outputs": [
    {
     "name": "stdout",
     "output_type": "stream",
     "text": [
      "CPU times: user 2.96 s, sys: 116 ms, total: 3.07 s\n",
      "Wall time: 3.07 s\n"
     ]
    },
    {
     "data": {
      "text/plain": [
       "DecisionTreeRegressor(max_depth=16, random_state=12345)"
      ]
     },
     "execution_count": 47,
     "metadata": {},
     "output_type": "execute_result"
    }
   ],
   "source": [
    "%%time\n",
    "#Обучим модель\n",
    "\n",
    "model_dt = DecisionTreeRegressor(max_depth=16, random_state=RANDOM_STATE)\n",
    "model_dt.fit(features_ohe_train, target_train)"
   ]
  },
  {
   "cell_type": "code",
   "execution_count": 48,
   "metadata": {
    "scrolled": true
   },
   "outputs": [
    {
     "name": "stdout",
     "output_type": "stream",
     "text": [
      "RMSE: 1978.8739790487216\n",
      "None\n",
      "CPU times: user 118 ms, sys: 68.2 ms, total: 186 ms\n",
      "Wall time: 195 ms\n"
     ]
    }
   ],
   "source": [
    "%%time\n",
    "#Получим предсказания и вычислим RSME\n",
    "\n",
    "predicted = model_dt.predict(features_ohe_valid)\n",
    "\n",
    "print(print('RMSE:', rmse(target_valid,predicted)))"
   ]
  },
  {
   "cell_type": "markdown",
   "metadata": {},
   "source": [
    "# LGBMRegressor"
   ]
  },
  {
   "cell_type": "code",
   "execution_count": 49,
   "metadata": {},
   "outputs": [],
   "source": [
    "#%%time\n",
    "#parameters = [{'num_leaves':[31, 100, 200],'learning_rate':[0.1, 0.3, 0.5],'random_state':[RANDOM_STATE]}]\n",
    "\n",
    "#model_lgbm = LGBMRegressor()\n",
    "#grid = GridSearchCV(model_lgbm, parameters, scoring='neg_mean_squared_error')\n",
    "#grid.fit(features_train, target_train)\n",
    "\n",
    "#grid.best_params_"
   ]
  },
  {
   "cell_type": "code",
   "execution_count": 50,
   "metadata": {},
   "outputs": [
    {
     "name": "stdout",
     "output_type": "stream",
     "text": [
      "CPU times: user 1min 19s, sys: 677 ms, total: 1min 20s\n",
      "Wall time: 1min 20s\n"
     ]
    },
    {
     "data": {
      "text/plain": [
       "LGBMRegressor(num_leaves=200, random_state=12345)"
      ]
     },
     "execution_count": 50,
     "metadata": {},
     "output_type": "execute_result"
    }
   ],
   "source": [
    "%%time\n",
    "#Обучим модель\n",
    "\n",
    "model_lgbm = LGBMRegressor(learning_rate=0.1, num_leaves=200, random_state=RANDOM_STATE)\n",
    "model_lgbm.fit(features_train_ordinal, target_train)"
   ]
  },
  {
   "cell_type": "code",
   "execution_count": 51,
   "metadata": {},
   "outputs": [
    {
     "name": "stdout",
     "output_type": "stream",
     "text": [
      "RMSE: 1660.3476213337997\n",
      "None\n",
      "CPU times: user 1.09 s, sys: 0 ns, total: 1.09 s\n",
      "Wall time: 1.1 s\n"
     ]
    }
   ],
   "source": [
    "%%time\n",
    "#Получим предсказания и вычислим RSME\n",
    "\n",
    "predicted = model_lgbm.predict(features_valid_ordinal)\n",
    "\n",
    "print(print('RMSE:', rmse(target_valid,predicted)))"
   ]
  },
  {
   "cell_type": "markdown",
   "metadata": {},
   "source": [
    "# CatBoostRegressor"
   ]
  },
  {
   "cell_type": "code",
   "execution_count": 52,
   "metadata": {},
   "outputs": [],
   "source": [
    "#%%time\n",
    "#Подберем необходимые параметры для модели\n",
    "\n",
    "#model_cat = CatBoostRegressor(loss_function='RMSE',silent=True, random_seed=RANDOM_STATE)\n",
    "#parameters = {'iterations': range(20, 80, 20),'depth': range(5,15,3), 'learning_rate':[0.1, 0.3, 0.5]}\n",
    "\n",
    "#grid = GridSearchCV(model_cat, parameters, cv=3, scoring='neg_mean_squared_error')\n",
    "#grid.fit(features_train, target_train);\n",
    "\n",
    "#grid.best_params_"
   ]
  },
  {
   "cell_type": "code",
   "execution_count": 53,
   "metadata": {},
   "outputs": [
    {
     "name": "stdout",
     "output_type": "stream",
     "text": [
      "0:\tlearn: 2550.1610745\ttotal: 82.5ms\tremaining: 3.22s\n",
      "1:\tlearn: 2267.5844978\ttotal: 107ms\tremaining: 2.04s\n",
      "2:\tlearn: 2150.7582423\ttotal: 135ms\tremaining: 1.66s\n",
      "3:\tlearn: 2072.8586311\ttotal: 159ms\tremaining: 1.43s\n",
      "4:\tlearn: 2034.8934091\ttotal: 183ms\tremaining: 1.28s\n",
      "5:\tlearn: 1973.5754627\ttotal: 205ms\tremaining: 1.16s\n",
      "6:\tlearn: 1944.2584098\ttotal: 235ms\tremaining: 1.11s\n",
      "7:\tlearn: 1915.4047678\ttotal: 259ms\tremaining: 1.03s\n",
      "8:\tlearn: 1889.8153353\ttotal: 286ms\tremaining: 986ms\n",
      "9:\tlearn: 1877.9965431\ttotal: 310ms\tremaining: 931ms\n",
      "10:\tlearn: 1856.1636625\ttotal: 341ms\tremaining: 900ms\n",
      "11:\tlearn: 1836.6709832\ttotal: 369ms\tremaining: 861ms\n",
      "12:\tlearn: 1824.9106455\ttotal: 392ms\tremaining: 815ms\n",
      "13:\tlearn: 1810.3827617\ttotal: 424ms\tremaining: 787ms\n",
      "14:\tlearn: 1799.5321995\ttotal: 451ms\tremaining: 752ms\n",
      "15:\tlearn: 1787.6496369\ttotal: 475ms\tremaining: 713ms\n",
      "16:\tlearn: 1778.2479920\ttotal: 498ms\tremaining: 674ms\n",
      "17:\tlearn: 1771.4324705\ttotal: 525ms\tremaining: 641ms\n",
      "18:\tlearn: 1765.0439835\ttotal: 547ms\tremaining: 604ms\n",
      "19:\tlearn: 1758.0380645\ttotal: 572ms\tremaining: 572ms\n",
      "20:\tlearn: 1750.2087350\ttotal: 596ms\tremaining: 539ms\n",
      "21:\tlearn: 1741.3438265\ttotal: 623ms\tremaining: 510ms\n",
      "22:\tlearn: 1732.1528188\ttotal: 646ms\tremaining: 478ms\n",
      "23:\tlearn: 1727.8639330\ttotal: 669ms\tremaining: 446ms\n",
      "24:\tlearn: 1722.2801043\ttotal: 692ms\tremaining: 415ms\n",
      "25:\tlearn: 1716.2801435\ttotal: 720ms\tremaining: 388ms\n",
      "26:\tlearn: 1709.1699589\ttotal: 743ms\tremaining: 358ms\n",
      "27:\tlearn: 1703.3962539\ttotal: 764ms\tremaining: 327ms\n",
      "28:\tlearn: 1697.7316638\ttotal: 786ms\tremaining: 298ms\n",
      "29:\tlearn: 1693.4178420\ttotal: 813ms\tremaining: 271ms\n",
      "30:\tlearn: 1685.0572616\ttotal: 838ms\tremaining: 243ms\n",
      "31:\tlearn: 1678.8136531\ttotal: 861ms\tremaining: 215ms\n",
      "32:\tlearn: 1674.7463821\ttotal: 884ms\tremaining: 187ms\n",
      "33:\tlearn: 1670.3538395\ttotal: 911ms\tremaining: 161ms\n",
      "34:\tlearn: 1666.6862885\ttotal: 934ms\tremaining: 133ms\n",
      "35:\tlearn: 1662.2740368\ttotal: 956ms\tremaining: 106ms\n",
      "36:\tlearn: 1658.4764564\ttotal: 978ms\tremaining: 79.3ms\n",
      "37:\tlearn: 1655.7948454\ttotal: 1.01s\tremaining: 53ms\n",
      "38:\tlearn: 1649.4069389\ttotal: 1.03s\tremaining: 26.5ms\n",
      "39:\tlearn: 1643.5242549\ttotal: 1.05s\tremaining: 0us\n",
      "CPU times: user 1.1 s, sys: 8.22 ms, total: 1.11 s\n",
      "Wall time: 1.84 s\n"
     ]
    },
    {
     "data": {
      "text/plain": [
       "<catboost.core.CatBoostRegressor at 0x7f7ba7619670>"
      ]
     },
     "execution_count": 53,
     "metadata": {},
     "output_type": "execute_result"
    }
   ],
   "source": [
    "%%time\n",
    "#Обучим модель\n",
    "\n",
    "model_cat = CatBoostRegressor(depth=9, iterations=40, learning_rate=1.0, random_seed=RANDOM_STATE)\n",
    "model_cat.fit(features_train_ordinal, target_train)"
   ]
  },
  {
   "cell_type": "code",
   "execution_count": 54,
   "metadata": {},
   "outputs": [
    {
     "name": "stdout",
     "output_type": "stream",
     "text": [
      "RMSE: 1805.1014930398264\n",
      "None\n",
      "CPU times: user 31.1 ms, sys: 0 ns, total: 31.1 ms\n",
      "Wall time: 29.9 ms\n"
     ]
    }
   ],
   "source": [
    "%%time\n",
    "#Получим предсказания и вычислим RSME\n",
    "\n",
    "predicted = model_cat.predict(features_valid_ordinal)\n",
    "\n",
    "print(print('RMSE:', rmse(target_valid,predicted)))"
   ]
  },
  {
   "cell_type": "markdown",
   "metadata": {},
   "source": [
    "## Анализ моделей"
   ]
  },
  {
   "cell_type": "code",
   "execution_count": 58,
   "metadata": {},
   "outputs": [
    {
     "data": {
      "text/html": [
       "<div>\n",
       "<style scoped>\n",
       "    .dataframe tbody tr th:only-of-type {\n",
       "        vertical-align: middle;\n",
       "    }\n",
       "\n",
       "    .dataframe tbody tr th {\n",
       "        vertical-align: top;\n",
       "    }\n",
       "\n",
       "    .dataframe thead th {\n",
       "        text-align: right;\n",
       "    }\n",
       "</style>\n",
       "<table border=\"1\" class=\"dataframe\">\n",
       "  <thead>\n",
       "    <tr style=\"text-align: right;\">\n",
       "      <th></th>\n",
       "      <th>Время обучения</th>\n",
       "      <th>Время предсказания</th>\n",
       "      <th>RMSE</th>\n",
       "    </tr>\n",
       "  </thead>\n",
       "  <tbody>\n",
       "    <tr>\n",
       "      <th>LinearRegression</th>\n",
       "      <td>20 s</td>\n",
       "      <td>0.19 s</td>\n",
       "      <td>2829.66</td>\n",
       "    </tr>\n",
       "    <tr>\n",
       "      <th>RandomForestRegressor</th>\n",
       "      <td>60 s</td>\n",
       "      <td>0.51 s</td>\n",
       "      <td>1976.46</td>\n",
       "    </tr>\n",
       "    <tr>\n",
       "      <th>DecisionTreeRegressor</th>\n",
       "      <td>3.07 s</td>\n",
       "      <td>0.19 s</td>\n",
       "      <td>1978.87</td>\n",
       "    </tr>\n",
       "    <tr>\n",
       "      <th>LGBMRegressor</th>\n",
       "      <td>80 s</td>\n",
       "      <td>1.1 s</td>\n",
       "      <td>1660.34</td>\n",
       "    </tr>\n",
       "    <tr>\n",
       "      <th>CatBoostRegressor</th>\n",
       "      <td>1.84 s</td>\n",
       "      <td>0.03 s</td>\n",
       "      <td>1805.10</td>\n",
       "    </tr>\n",
       "  </tbody>\n",
       "</table>\n",
       "</div>"
      ],
      "text/plain": [
       "                      Время обучения Время предсказания     RMSE\n",
       "LinearRegression                20 s             0.19 s  2829.66\n",
       "RandomForestRegressor           60 s             0.51 s  1976.46\n",
       "DecisionTreeRegressor         3.07 s             0.19 s  1978.87\n",
       "LGBMRegressor                   80 s              1.1 s  1660.34\n",
       "CatBoostRegressor             1.84 s             0.03 s  1805.10"
      ]
     },
     "execution_count": 58,
     "metadata": {},
     "output_type": "execute_result"
    }
   ],
   "source": [
    "#Составим таблицу для анализа моделей\n",
    "\n",
    "data_tabl=[['20 s', '0.19 s', 2829.66],\n",
    "          ['60 s', '0.51 s', 1976.46],\n",
    "          ['3.07 s', '0.19 s', 1978.87],\n",
    "          ['80 s', '1.1 s', 1660.34],\n",
    "          ['1.84 s', '0.03 s', 1805.10]]\n",
    "model_tabl=['LinearRegression', 'RandomForestRegressor', 'DecisionTreeRegressor', 'LGBMRegressor', 'CatBoostRegressor']\n",
    "\n",
    "pd.DataFrame(data=data_tabl, index=model_tabl, columns=['Время обучения', 'Время предсказания', 'RMSE'])"
   ]
  },
  {
   "cell_type": "markdown",
   "metadata": {},
   "source": [
    "У нас было 3 критерия для определения лучшей модели: \n",
    "\n",
    "1. Качество предсказания;\n",
    "\n",
    "2. Время обучения модели;\n",
    "\n",
    "3. Время предсказания модели.\n",
    "\n",
    "Лучшей моделью можно назвать **CatBoostRegressor**. У нее самая быстрая скорость обучения - **1.84 s**, делает предсказания за **0.03 s**, а ее **RSME = 1805.10**. Можем заметить, что это не самый лучший показатель среди моделей, но она выигрывает за счет своей быстроты."
   ]
  },
  {
   "cell_type": "code",
   "execution_count": 56,
   "metadata": {},
   "outputs": [
    {
     "name": "stdout",
     "output_type": "stream",
     "text": [
      "0:\tlearn: 2550.1610745\ttotal: 28.4ms\tremaining: 1.11s\n",
      "1:\tlearn: 2267.5844978\ttotal: 57.5ms\tremaining: 1.09s\n",
      "2:\tlearn: 2150.7582423\ttotal: 81.6ms\tremaining: 1.01s\n",
      "3:\tlearn: 2072.8586311\ttotal: 109ms\tremaining: 985ms\n",
      "4:\tlearn: 2034.8934091\ttotal: 136ms\tremaining: 951ms\n",
      "5:\tlearn: 1973.5754627\ttotal: 163ms\tremaining: 925ms\n",
      "6:\tlearn: 1944.2584098\ttotal: 191ms\tremaining: 901ms\n",
      "7:\tlearn: 1915.4047678\ttotal: 214ms\tremaining: 857ms\n",
      "8:\tlearn: 1889.8153353\ttotal: 242ms\tremaining: 834ms\n",
      "9:\tlearn: 1877.9965431\ttotal: 265ms\tremaining: 796ms\n",
      "10:\tlearn: 1856.1636625\ttotal: 290ms\tremaining: 763ms\n",
      "11:\tlearn: 1836.6709832\ttotal: 315ms\tremaining: 736ms\n",
      "12:\tlearn: 1824.9106455\ttotal: 342ms\tremaining: 711ms\n",
      "13:\tlearn: 1810.3827617\ttotal: 367ms\tremaining: 682ms\n",
      "14:\tlearn: 1799.5321995\ttotal: 393ms\tremaining: 655ms\n",
      "15:\tlearn: 1787.6496369\ttotal: 416ms\tremaining: 624ms\n",
      "16:\tlearn: 1778.2479920\ttotal: 444ms\tremaining: 601ms\n",
      "17:\tlearn: 1771.4324705\ttotal: 466ms\tremaining: 570ms\n",
      "18:\tlearn: 1765.0439835\ttotal: 490ms\tremaining: 541ms\n",
      "19:\tlearn: 1758.0380645\ttotal: 515ms\tremaining: 515ms\n",
      "20:\tlearn: 1750.2087350\ttotal: 547ms\tremaining: 495ms\n",
      "21:\tlearn: 1741.3438265\ttotal: 571ms\tremaining: 467ms\n",
      "22:\tlearn: 1732.1528188\ttotal: 594ms\tremaining: 439ms\n",
      "23:\tlearn: 1727.8639330\ttotal: 615ms\tremaining: 410ms\n",
      "24:\tlearn: 1722.2801043\ttotal: 642ms\tremaining: 385ms\n",
      "25:\tlearn: 1716.2801435\ttotal: 664ms\tremaining: 358ms\n",
      "26:\tlearn: 1709.1699589\ttotal: 689ms\tremaining: 332ms\n",
      "27:\tlearn: 1703.3962539\ttotal: 711ms\tremaining: 305ms\n",
      "28:\tlearn: 1697.7316638\ttotal: 739ms\tremaining: 280ms\n",
      "29:\tlearn: 1693.4178420\ttotal: 761ms\tremaining: 254ms\n",
      "30:\tlearn: 1685.0572616\ttotal: 786ms\tremaining: 228ms\n",
      "31:\tlearn: 1678.8136531\ttotal: 809ms\tremaining: 202ms\n",
      "32:\tlearn: 1674.7463821\ttotal: 836ms\tremaining: 177ms\n",
      "33:\tlearn: 1670.3538395\ttotal: 859ms\tremaining: 152ms\n",
      "34:\tlearn: 1666.6862885\ttotal: 881ms\tremaining: 126ms\n",
      "35:\tlearn: 1662.2740368\ttotal: 905ms\tremaining: 101ms\n",
      "36:\tlearn: 1658.4764564\ttotal: 934ms\tremaining: 75.7ms\n",
      "37:\tlearn: 1655.7948454\ttotal: 955ms\tremaining: 50.3ms\n",
      "38:\tlearn: 1649.4069389\ttotal: 978ms\tremaining: 25.1ms\n",
      "39:\tlearn: 1643.5242549\ttotal: 1s\tremaining: 0us\n",
      "CPU times: user 1.07 s, sys: 24.2 ms, total: 1.1 s\n",
      "Wall time: 1.64 s\n"
     ]
    },
    {
     "data": {
      "text/plain": [
       "<catboost.core.CatBoostRegressor at 0x7f7ba7625550>"
      ]
     },
     "execution_count": 56,
     "metadata": {},
     "output_type": "execute_result"
    }
   ],
   "source": [
    "%%time\n",
    "#Проверим лучшую модель на тестовой выборке\n",
    "\n",
    "model_cat = CatBoostRegressor(depth=9, iterations=40, learning_rate=1.0, random_seed=RANDOM_STATE)\n",
    "model_cat.fit(features_train_ordinal, target_train)"
   ]
  },
  {
   "cell_type": "code",
   "execution_count": 57,
   "metadata": {},
   "outputs": [
    {
     "name": "stdout",
     "output_type": "stream",
     "text": [
      "RMSE: 1785.259081220048\n",
      "None\n",
      "CPU times: user 33.4 ms, sys: 4.08 ms, total: 37.5 ms\n",
      "Wall time: 35.8 ms\n"
     ]
    }
   ],
   "source": [
    "%%time\n",
    "\n",
    "predicted = model_cat.predict(features_test_ordinal)\n",
    "\n",
    "print(print('RMSE:', rmse(target_test,predicted)))"
   ]
  },
  {
   "cell_type": "markdown",
   "metadata": {},
   "source": [
    "На тестовой выборке модель показала такие результаты: \n",
    "\n",
    "Время обучения - 1.64 s\n",
    "\n",
    "Время предсказания - 35.8 ms\n",
    "\n",
    "RSME - 1785.25."
   ]
  },
  {
   "cell_type": "markdown",
   "metadata": {},
   "source": [
    "# Вывод"
   ]
  },
  {
   "cell_type": "markdown",
   "metadata": {},
   "source": [
    "Провели большую работу над данными. Изучили их. Выделили нужные для обучения признаки, выделили целевой признак. Разбили на выборки обучающую и тестовую. Обучили модели и выполнили предсказания на тестовых выборках. Получили значения RSME для каждой модели, хуже всего показала себя модель LinearRegression. Её показатель RSME перескочил установленный порог в 2500. Лучшей же оказалась модель CatBoostRegressor. У нее лучшее сочетание времени обучения и предсказания и RSME."
   ]
  }
 ],
 "metadata": {
  "ExecuteTimeLog": [
   {
    "duration": 1677,
    "start_time": "2023-08-01T13:37:15.670Z"
   },
   {
    "duration": 3,
    "start_time": "2023-08-01T13:48:04.116Z"
   },
   {
    "duration": 2848,
    "start_time": "2023-08-01T13:48:44.010Z"
   },
   {
    "duration": 240,
    "start_time": "2023-08-01T13:49:25.687Z"
   },
   {
    "duration": 117,
    "start_time": "2023-08-01T14:10:44.815Z"
   },
   {
    "duration": 44,
    "start_time": "2023-08-01T14:12:30.207Z"
   },
   {
    "duration": 12,
    "start_time": "2023-08-01T14:13:42.555Z"
   },
   {
    "duration": 34,
    "start_time": "2023-08-01T14:14:25.408Z"
   },
   {
    "duration": 10,
    "start_time": "2023-08-01T14:14:28.859Z"
   },
   {
    "duration": 91,
    "start_time": "2023-08-01T14:15:05.753Z"
   },
   {
    "duration": 1986,
    "start_time": "2023-08-01T14:16:22.057Z"
   },
   {
    "duration": 31,
    "start_time": "2023-08-01T14:16:42.053Z"
   },
   {
    "duration": 111,
    "start_time": "2023-08-01T14:17:12.414Z"
   },
   {
    "duration": 19,
    "start_time": "2023-08-01T14:17:17.898Z"
   },
   {
    "duration": 32,
    "start_time": "2023-08-01T14:20:47.539Z"
   },
   {
    "duration": 4,
    "start_time": "2023-08-01T14:21:37.550Z"
   },
   {
    "duration": 197,
    "start_time": "2023-08-01T14:22:44.554Z"
   },
   {
    "duration": 452,
    "start_time": "2023-08-01T14:23:27.122Z"
   },
   {
    "duration": 442,
    "start_time": "2023-08-01T14:24:20.555Z"
   },
   {
    "duration": 1034,
    "start_time": "2023-08-01T14:24:55.692Z"
   },
   {
    "duration": 41,
    "start_time": "2023-08-01T14:24:59.280Z"
   },
   {
    "duration": 11,
    "start_time": "2023-08-01T14:25:08.438Z"
   },
   {
    "duration": 83,
    "start_time": "2023-08-01T14:25:14.786Z"
   },
   {
    "duration": 23,
    "start_time": "2023-08-01T14:25:22.886Z"
   },
   {
    "duration": 21,
    "start_time": "2023-08-01T14:25:30.021Z"
   },
   {
    "duration": 6,
    "start_time": "2023-08-01T14:25:32.641Z"
   },
   {
    "duration": 6,
    "start_time": "2023-08-01T14:27:33.457Z"
   },
   {
    "duration": 142,
    "start_time": "2023-08-01T14:27:52.350Z"
   },
   {
    "duration": 10,
    "start_time": "2023-08-01T14:28:06.001Z"
   },
   {
    "duration": 46,
    "start_time": "2023-08-01T19:44:38.259Z"
   },
   {
    "duration": 1728,
    "start_time": "2023-08-01T19:44:47.479Z"
   },
   {
    "duration": 3,
    "start_time": "2023-08-01T19:44:49.209Z"
   },
   {
    "duration": 1084,
    "start_time": "2023-08-01T19:44:49.213Z"
   },
   {
    "duration": 219,
    "start_time": "2023-08-01T19:44:50.298Z"
   },
   {
    "duration": 389,
    "start_time": "2023-08-01T19:44:50.521Z"
   },
   {
    "duration": 797,
    "start_time": "2023-08-01T19:44:50.911Z"
   },
   {
    "duration": 39,
    "start_time": "2023-08-01T19:44:51.710Z"
   },
   {
    "duration": 12,
    "start_time": "2023-08-01T19:44:51.751Z"
   },
   {
    "duration": 144,
    "start_time": "2023-08-01T19:44:51.764Z"
   },
   {
    "duration": 0,
    "start_time": "2023-08-01T19:44:51.909Z"
   },
   {
    "duration": 0,
    "start_time": "2023-08-01T19:44:51.911Z"
   },
   {
    "duration": 26,
    "start_time": "2023-08-01T19:45:32.329Z"
   },
   {
    "duration": 2381,
    "start_time": "2023-08-01T19:45:38.475Z"
   },
   {
    "duration": 4458,
    "start_time": "2023-08-01T19:48:39.475Z"
   },
   {
    "duration": 4989,
    "start_time": "2023-08-01T19:49:27.488Z"
   },
   {
    "duration": 399,
    "start_time": "2023-08-01T19:51:54.938Z"
   },
   {
    "duration": 260,
    "start_time": "2023-08-01T19:52:19.482Z"
   },
   {
    "duration": 29,
    "start_time": "2023-08-01T19:52:45.608Z"
   },
   {
    "duration": 37,
    "start_time": "2023-08-01T19:52:57.312Z"
   },
   {
    "duration": 246,
    "start_time": "2023-08-01T19:53:14.540Z"
   },
   {
    "duration": 73,
    "start_time": "2023-08-01T19:54:45.806Z"
   },
   {
    "duration": 232,
    "start_time": "2023-08-01T19:56:42.078Z"
   },
   {
    "duration": 161,
    "start_time": "2023-08-01T19:56:54.510Z"
   },
   {
    "duration": 89,
    "start_time": "2023-08-01T19:57:01.547Z"
   },
   {
    "duration": 149,
    "start_time": "2023-08-01T19:57:37.518Z"
   },
   {
    "duration": 1795,
    "start_time": "2023-08-01T19:58:18.411Z"
   },
   {
    "duration": 8,
    "start_time": "2023-08-01T19:58:27.880Z"
   },
   {
    "duration": 13192,
    "start_time": "2023-08-01T19:59:43.744Z"
   },
   {
    "duration": 1935,
    "start_time": "2023-08-02T17:02:45.677Z"
   },
   {
    "duration": 4,
    "start_time": "2023-08-02T17:02:47.615Z"
   },
   {
    "duration": 1487,
    "start_time": "2023-08-02T17:02:47.620Z"
   },
   {
    "duration": 306,
    "start_time": "2023-08-02T17:02:49.109Z"
   },
   {
    "duration": 609,
    "start_time": "2023-08-02T17:02:49.418Z"
   },
   {
    "duration": 1253,
    "start_time": "2023-08-02T17:02:50.030Z"
   },
   {
    "duration": 44,
    "start_time": "2023-08-02T17:02:51.286Z"
   },
   {
    "duration": 40,
    "start_time": "2023-08-02T17:02:51.332Z"
   },
   {
    "duration": 393,
    "start_time": "2023-08-02T17:02:51.375Z"
   },
   {
    "duration": 25,
    "start_time": "2023-08-02T17:02:51.771Z"
   },
   {
    "duration": 32,
    "start_time": "2023-08-02T17:02:51.798Z"
   },
   {
    "duration": 461,
    "start_time": "2023-08-02T17:02:51.832Z"
   },
   {
    "duration": 147,
    "start_time": "2023-08-02T17:02:52.296Z"
   },
   {
    "duration": 0,
    "start_time": "2023-08-02T17:02:52.445Z"
   },
   {
    "duration": 15,
    "start_time": "2023-08-02T17:05:14.409Z"
   },
   {
    "duration": 21,
    "start_time": "2023-08-02T17:08:01.153Z"
   },
   {
    "duration": 53,
    "start_time": "2023-08-02T17:08:19.268Z"
   },
   {
    "duration": 48,
    "start_time": "2023-08-02T17:08:59.317Z"
   },
   {
    "duration": 27,
    "start_time": "2023-08-02T17:09:22.984Z"
   },
   {
    "duration": 13,
    "start_time": "2023-08-02T17:09:27.233Z"
   },
   {
    "duration": 13,
    "start_time": "2023-08-02T17:11:00.824Z"
   },
   {
    "duration": 10,
    "start_time": "2023-08-02T17:11:09.467Z"
   },
   {
    "duration": 1808,
    "start_time": "2023-08-02T17:18:57.921Z"
   },
   {
    "duration": 109,
    "start_time": "2023-08-02T17:20:22.770Z"
   },
   {
    "duration": 53,
    "start_time": "2023-08-02T17:24:03.879Z"
   },
   {
    "duration": 1829,
    "start_time": "2023-08-02T17:24:19.044Z"
   },
   {
    "duration": 2,
    "start_time": "2023-08-02T17:24:20.876Z"
   },
   {
    "duration": 1387,
    "start_time": "2023-08-02T17:24:20.880Z"
   },
   {
    "duration": 297,
    "start_time": "2023-08-02T17:24:22.271Z"
   },
   {
    "duration": 559,
    "start_time": "2023-08-02T17:24:22.571Z"
   },
   {
    "duration": 1319,
    "start_time": "2023-08-02T17:24:23.133Z"
   },
   {
    "duration": 34,
    "start_time": "2023-08-02T17:24:24.460Z"
   },
   {
    "duration": 26,
    "start_time": "2023-08-02T17:24:24.495Z"
   },
   {
    "duration": 356,
    "start_time": "2023-08-02T17:24:24.523Z"
   },
   {
    "duration": 25,
    "start_time": "2023-08-02T17:24:24.882Z"
   },
   {
    "duration": 70,
    "start_time": "2023-08-02T17:24:24.908Z"
   },
   {
    "duration": 449,
    "start_time": "2023-08-02T17:24:24.981Z"
   },
   {
    "duration": 146,
    "start_time": "2023-08-02T17:24:25.433Z"
   },
   {
    "duration": 0,
    "start_time": "2023-08-02T17:24:25.581Z"
   },
   {
    "duration": 178,
    "start_time": "2023-08-02T17:38:06.733Z"
   },
   {
    "duration": 8,
    "start_time": "2023-08-02T17:38:23.117Z"
   },
   {
    "duration": 1878,
    "start_time": "2023-08-02T17:38:33.925Z"
   },
   {
    "duration": 5,
    "start_time": "2023-08-02T17:38:35.806Z"
   },
   {
    "duration": 1669,
    "start_time": "2023-08-02T17:38:35.813Z"
   },
   {
    "duration": 282,
    "start_time": "2023-08-02T17:38:37.485Z"
   },
   {
    "duration": 598,
    "start_time": "2023-08-02T17:38:37.769Z"
   },
   {
    "duration": 1318,
    "start_time": "2023-08-02T17:38:38.371Z"
   },
   {
    "duration": 40,
    "start_time": "2023-08-02T17:38:39.692Z"
   },
   {
    "duration": 39,
    "start_time": "2023-08-02T17:38:39.734Z"
   },
   {
    "duration": 421,
    "start_time": "2023-08-02T17:38:39.776Z"
   },
   {
    "duration": 27,
    "start_time": "2023-08-02T17:38:40.199Z"
   },
   {
    "duration": 58,
    "start_time": "2023-08-02T17:38:40.228Z"
   },
   {
    "duration": 458,
    "start_time": "2023-08-02T17:38:40.288Z"
   },
   {
    "duration": 1875,
    "start_time": "2023-08-02T17:46:14.539Z"
   },
   {
    "duration": 6,
    "start_time": "2023-08-02T17:46:16.417Z"
   },
   {
    "duration": 988,
    "start_time": "2023-08-02T17:46:16.426Z"
   },
   {
    "duration": 309,
    "start_time": "2023-08-02T17:46:17.416Z"
   },
   {
    "duration": 582,
    "start_time": "2023-08-02T17:46:17.727Z"
   },
   {
    "duration": 1395,
    "start_time": "2023-08-02T17:46:18.312Z"
   },
   {
    "duration": 30,
    "start_time": "2023-08-02T17:46:19.709Z"
   },
   {
    "duration": 29,
    "start_time": "2023-08-02T17:46:19.740Z"
   },
   {
    "duration": 466,
    "start_time": "2023-08-02T17:46:19.771Z"
   },
   {
    "duration": 42,
    "start_time": "2023-08-02T17:46:20.242Z"
   },
   {
    "duration": 40,
    "start_time": "2023-08-02T17:46:20.286Z"
   },
   {
    "duration": 466,
    "start_time": "2023-08-02T17:46:20.328Z"
   },
   {
    "duration": 169,
    "start_time": "2023-08-02T17:46:20.797Z"
   },
   {
    "duration": 0,
    "start_time": "2023-08-02T17:46:20.968Z"
   },
   {
    "duration": 42,
    "start_time": "2023-08-02T17:46:51.999Z"
   },
   {
    "duration": 13,
    "start_time": "2023-08-02T17:49:33.615Z"
   },
   {
    "duration": 22,
    "start_time": "2023-08-02T17:50:31.776Z"
   },
   {
    "duration": 9,
    "start_time": "2023-08-02T18:31:11.613Z"
   },
   {
    "duration": 21,
    "start_time": "2023-08-02T18:34:16.286Z"
   },
   {
    "duration": 21,
    "start_time": "2023-08-02T18:35:23.112Z"
   },
   {
    "duration": 1048,
    "start_time": "2023-08-02T18:41:05.686Z"
   },
   {
    "duration": 53,
    "start_time": "2023-08-02T18:42:02.367Z"
   },
   {
    "duration": 41,
    "start_time": "2023-08-02T18:46:29.940Z"
   },
   {
    "duration": 47,
    "start_time": "2023-08-02T18:47:13.409Z"
   },
   {
    "duration": 50,
    "start_time": "2023-08-02T19:02:30.919Z"
   },
   {
    "duration": 903,
    "start_time": "2023-08-02T19:06:45.044Z"
   },
   {
    "duration": 911,
    "start_time": "2023-08-02T19:07:16.119Z"
   },
   {
    "duration": 818,
    "start_time": "2023-08-02T19:10:46.145Z"
   },
   {
    "duration": 920,
    "start_time": "2023-08-02T19:11:03.834Z"
   },
   {
    "duration": 23,
    "start_time": "2023-08-02T19:39:09.350Z"
   },
   {
    "duration": 26,
    "start_time": "2023-08-02T19:49:35.283Z"
   },
   {
    "duration": 9,
    "start_time": "2023-08-02T19:50:55.507Z"
   },
   {
    "duration": 9,
    "start_time": "2023-08-02T19:51:06.091Z"
   },
   {
    "duration": 18,
    "start_time": "2023-08-02T19:51:25.125Z"
   },
   {
    "duration": 9,
    "start_time": "2023-08-02T19:52:40.719Z"
   },
   {
    "duration": 4,
    "start_time": "2023-08-02T19:54:01.060Z"
   },
   {
    "duration": 5,
    "start_time": "2023-08-02T19:54:22.593Z"
   },
   {
    "duration": 4,
    "start_time": "2023-08-02T20:05:41.012Z"
   },
   {
    "duration": 4,
    "start_time": "2023-08-02T20:19:40.102Z"
   },
   {
    "duration": 1021,
    "start_time": "2023-08-02T20:19:52.444Z"
   },
   {
    "duration": 941,
    "start_time": "2023-08-02T20:21:01.681Z"
   },
   {
    "duration": 1457,
    "start_time": "2023-08-02T20:21:42.176Z"
   },
   {
    "duration": 864,
    "start_time": "2023-08-02T20:23:30.061Z"
   },
   {
    "duration": 13,
    "start_time": "2023-08-02T20:26:34.767Z"
   },
   {
    "duration": 12,
    "start_time": "2023-08-02T20:27:12.302Z"
   },
   {
    "duration": 101,
    "start_time": "2023-08-02T20:28:32.606Z"
   },
   {
    "duration": 14,
    "start_time": "2023-08-02T20:29:18.392Z"
   },
   {
    "duration": 879,
    "start_time": "2023-08-02T20:29:45.141Z"
   },
   {
    "duration": 94,
    "start_time": "2023-08-02T20:31:57.435Z"
   },
   {
    "duration": 88,
    "start_time": "2023-08-02T20:34:37.468Z"
   },
   {
    "duration": 33,
    "start_time": "2023-08-02T20:34:47.517Z"
   },
   {
    "duration": 75,
    "start_time": "2023-08-02T20:38:43.111Z"
   },
   {
    "duration": 12,
    "start_time": "2023-08-02T20:47:17.884Z"
   },
   {
    "duration": 15,
    "start_time": "2023-08-02T20:50:39.828Z"
   },
   {
    "duration": 82,
    "start_time": "2023-08-02T20:51:39.281Z"
   },
   {
    "duration": 28,
    "start_time": "2023-08-02T20:56:23.000Z"
   },
   {
    "duration": 77769,
    "start_time": "2023-08-02T20:56:57.248Z"
   },
   {
    "duration": 6,
    "start_time": "2023-08-02T21:00:31.673Z"
   },
   {
    "duration": 82,
    "start_time": "2023-08-02T21:04:04.880Z"
   },
   {
    "duration": 84,
    "start_time": "2023-08-02T21:04:22.982Z"
   },
   {
    "duration": 1442,
    "start_time": "2023-08-02T21:10:30.769Z"
   },
   {
    "duration": 17,
    "start_time": "2023-08-02T21:11:11.994Z"
   },
   {
    "duration": 19,
    "start_time": "2023-08-02T21:11:19.640Z"
   },
   {
    "duration": 83,
    "start_time": "2023-08-02T21:14:45.712Z"
   },
   {
    "duration": 45,
    "start_time": "2023-08-02T21:14:58.110Z"
   },
   {
    "duration": 17,
    "start_time": "2023-08-02T21:15:02.707Z"
   },
   {
    "duration": 9,
    "start_time": "2023-08-02T21:15:15.172Z"
   },
   {
    "duration": 6,
    "start_time": "2023-08-02T21:15:22.399Z"
   },
   {
    "duration": 5,
    "start_time": "2023-08-02T21:15:27.316Z"
   },
   {
    "duration": 4,
    "start_time": "2023-08-02T21:15:29.933Z"
   },
   {
    "duration": 1404,
    "start_time": "2023-08-02T21:15:32.668Z"
   },
   {
    "duration": 46,
    "start_time": "2023-08-02T21:16:22.125Z"
   },
   {
    "duration": 18,
    "start_time": "2023-08-02T21:16:25.070Z"
   },
   {
    "duration": 7,
    "start_time": "2023-08-02T21:16:30.527Z"
   },
   {
    "duration": 4,
    "start_time": "2023-08-02T21:16:32.871Z"
   },
   {
    "duration": 5,
    "start_time": "2023-08-02T21:16:35.266Z"
   },
   {
    "duration": 3,
    "start_time": "2023-08-02T21:16:37.574Z"
   },
   {
    "duration": 129,
    "start_time": "2023-08-02T21:16:39.980Z"
   },
   {
    "duration": 54,
    "start_time": "2023-08-02T21:19:19.463Z"
   },
   {
    "duration": 390780,
    "start_time": "2023-08-02T21:19:36.160Z"
   },
   {
    "duration": 11,
    "start_time": "2023-08-02T21:26:06.942Z"
   },
   {
    "duration": 1081,
    "start_time": "2023-08-02T21:28:43.182Z"
   },
   {
    "duration": 3,
    "start_time": "2023-08-02T21:30:53.639Z"
   },
   {
    "duration": 983,
    "start_time": "2023-08-02T21:30:57.314Z"
   },
   {
    "duration": 20312,
    "start_time": "2023-08-02T21:31:13.075Z"
   },
   {
    "duration": 100,
    "start_time": "2023-08-02T21:32:06.179Z"
   },
   {
    "duration": 364692,
    "start_time": "2023-08-02T21:32:28.287Z"
   },
   {
    "duration": 16,
    "start_time": "2023-08-02T21:38:39.037Z"
   },
   {
    "duration": 13,
    "start_time": "2023-08-02T21:44:48.564Z"
   },
   {
    "duration": 9,
    "start_time": "2023-08-03T06:30:57.723Z"
   },
   {
    "duration": 44,
    "start_time": "2023-08-03T06:32:58.066Z"
   },
   {
    "duration": 1869,
    "start_time": "2023-08-03T06:33:09.792Z"
   },
   {
    "duration": 3,
    "start_time": "2023-08-03T06:33:11.663Z"
   },
   {
    "duration": 1122,
    "start_time": "2023-08-03T06:33:11.668Z"
   },
   {
    "duration": 233,
    "start_time": "2023-08-03T06:33:12.792Z"
   },
   {
    "duration": 483,
    "start_time": "2023-08-03T06:33:13.028Z"
   },
   {
    "duration": 1006,
    "start_time": "2023-08-03T06:33:13.513Z"
   },
   {
    "duration": 29,
    "start_time": "2023-08-03T06:33:14.521Z"
   },
   {
    "duration": 11,
    "start_time": "2023-08-03T06:33:14.552Z"
   },
   {
    "duration": 382,
    "start_time": "2023-08-03T06:33:14.565Z"
   },
   {
    "duration": 26,
    "start_time": "2023-08-03T06:33:14.948Z"
   },
   {
    "duration": 47,
    "start_time": "2023-08-03T06:33:14.976Z"
   },
   {
    "duration": 392,
    "start_time": "2023-08-03T06:33:15.025Z"
   },
   {
    "duration": 16,
    "start_time": "2023-08-03T06:33:15.418Z"
   },
   {
    "duration": 53,
    "start_time": "2023-08-03T06:33:15.437Z"
   },
   {
    "duration": 61,
    "start_time": "2023-08-03T06:33:15.492Z"
   },
   {
    "duration": 24,
    "start_time": "2023-08-03T06:33:15.555Z"
   },
   {
    "duration": 28,
    "start_time": "2023-08-03T06:33:15.581Z"
   },
   {
    "duration": 27,
    "start_time": "2023-08-03T06:33:15.611Z"
   },
   {
    "duration": 25,
    "start_time": "2023-08-03T06:33:15.640Z"
   },
   {
    "duration": 83,
    "start_time": "2023-08-03T06:33:15.667Z"
   },
   {
    "duration": 92,
    "start_time": "2023-08-03T06:33:15.752Z"
   },
   {
    "duration": 156,
    "start_time": "2023-08-03T06:36:19.833Z"
   },
   {
    "duration": 3,
    "start_time": "2023-08-03T06:43:21.931Z"
   },
   {
    "duration": 36,
    "start_time": "2023-08-03T06:43:25.813Z"
   },
   {
    "duration": 78,
    "start_time": "2023-08-03T06:43:27.887Z"
   },
   {
    "duration": 4,
    "start_time": "2023-08-03T06:47:23.451Z"
   },
   {
    "duration": 135,
    "start_time": "2023-08-03T06:49:55.656Z"
   },
   {
    "duration": 1076,
    "start_time": "2023-08-03T06:50:07.395Z"
   },
   {
    "duration": 62,
    "start_time": "2023-08-03T06:51:18.259Z"
   },
   {
    "duration": 4,
    "start_time": "2023-08-03T06:51:46.554Z"
   },
   {
    "duration": 375626,
    "start_time": "2023-08-03T06:51:53.019Z"
   },
   {
    "duration": 1650,
    "start_time": "2023-08-03T06:59:26.850Z"
   },
   {
    "duration": 2,
    "start_time": "2023-08-03T06:59:28.502Z"
   },
   {
    "duration": 887,
    "start_time": "2023-08-03T06:59:28.511Z"
   },
   {
    "duration": 322,
    "start_time": "2023-08-03T06:59:29.400Z"
   },
   {
    "duration": 520,
    "start_time": "2023-08-03T06:59:29.724Z"
   },
   {
    "duration": 1149,
    "start_time": "2023-08-03T06:59:30.246Z"
   },
   {
    "duration": 38,
    "start_time": "2023-08-03T06:59:31.397Z"
   },
   {
    "duration": 23,
    "start_time": "2023-08-03T06:59:31.438Z"
   },
   {
    "duration": 335,
    "start_time": "2023-08-03T06:59:31.462Z"
   },
   {
    "duration": 30,
    "start_time": "2023-08-03T06:59:31.799Z"
   },
   {
    "duration": 56,
    "start_time": "2023-08-03T06:59:31.830Z"
   },
   {
    "duration": 396,
    "start_time": "2023-08-03T06:59:31.889Z"
   },
   {
    "duration": 35,
    "start_time": "2023-08-03T06:59:32.286Z"
   },
   {
    "duration": 81,
    "start_time": "2023-08-03T07:01:11.056Z"
   },
   {
    "duration": 42,
    "start_time": "2023-08-03T07:38:08.818Z"
   },
   {
    "duration": 25,
    "start_time": "2023-08-03T07:38:11.641Z"
   },
   {
    "duration": 27,
    "start_time": "2023-08-03T07:38:13.594Z"
   },
   {
    "duration": 21,
    "start_time": "2023-08-03T07:38:15.649Z"
   },
   {
    "duration": 27,
    "start_time": "2023-08-03T07:38:19.723Z"
   },
   {
    "duration": 29,
    "start_time": "2023-08-03T07:38:55.202Z"
   },
   {
    "duration": 86,
    "start_time": "2023-08-03T07:39:07.348Z"
   },
   {
    "duration": 1903,
    "start_time": "2023-08-03T07:39:50.988Z"
   },
   {
    "duration": 3,
    "start_time": "2023-08-03T07:39:52.893Z"
   },
   {
    "duration": 940,
    "start_time": "2023-08-03T07:39:52.898Z"
   },
   {
    "duration": 332,
    "start_time": "2023-08-03T07:39:53.840Z"
   },
   {
    "duration": 569,
    "start_time": "2023-08-03T07:39:54.174Z"
   },
   {
    "duration": 1183,
    "start_time": "2023-08-03T07:39:54.745Z"
   },
   {
    "duration": 38,
    "start_time": "2023-08-03T07:39:55.930Z"
   },
   {
    "duration": 18,
    "start_time": "2023-08-03T07:39:55.971Z"
   },
   {
    "duration": 535,
    "start_time": "2023-08-03T07:39:56.010Z"
   },
   {
    "duration": 28,
    "start_time": "2023-08-03T07:39:56.547Z"
   },
   {
    "duration": 47,
    "start_time": "2023-08-03T07:39:56.577Z"
   },
   {
    "duration": 447,
    "start_time": "2023-08-03T07:39:56.626Z"
   },
   {
    "duration": 77,
    "start_time": "2023-08-03T07:39:57.075Z"
   },
   {
    "duration": 22,
    "start_time": "2023-08-03T07:39:57.155Z"
   },
   {
    "duration": 41,
    "start_time": "2023-08-03T07:39:57.179Z"
   },
   {
    "duration": 25,
    "start_time": "2023-08-03T07:39:57.224Z"
   },
   {
    "duration": 34,
    "start_time": "2023-08-03T07:39:57.252Z"
   },
   {
    "duration": 32,
    "start_time": "2023-08-03T07:39:57.288Z"
   },
   {
    "duration": 101,
    "start_time": "2023-08-03T07:39:57.324Z"
   },
   {
    "duration": 135,
    "start_time": "2023-08-03T07:40:26.368Z"
   },
   {
    "duration": 21,
    "start_time": "2023-08-03T07:43:29.326Z"
   },
   {
    "duration": 93,
    "start_time": "2023-08-03T07:46:15.304Z"
   },
   {
    "duration": 1719,
    "start_time": "2023-08-03T07:46:30.861Z"
   },
   {
    "duration": 2,
    "start_time": "2023-08-03T07:46:32.582Z"
   },
   {
    "duration": 1060,
    "start_time": "2023-08-03T07:46:32.586Z"
   },
   {
    "duration": 281,
    "start_time": "2023-08-03T07:46:33.647Z"
   },
   {
    "duration": 546,
    "start_time": "2023-08-03T07:46:33.933Z"
   },
   {
    "duration": 1179,
    "start_time": "2023-08-03T07:46:34.481Z"
   },
   {
    "duration": 31,
    "start_time": "2023-08-03T07:46:35.661Z"
   },
   {
    "duration": 84,
    "start_time": "2023-08-03T07:46:35.717Z"
   },
   {
    "duration": 492,
    "start_time": "2023-08-03T07:46:35.803Z"
   },
   {
    "duration": 42,
    "start_time": "2023-08-03T07:46:36.297Z"
   },
   {
    "duration": 31,
    "start_time": "2023-08-03T07:46:36.341Z"
   },
   {
    "duration": 435,
    "start_time": "2023-08-03T07:46:36.374Z"
   },
   {
    "duration": 75,
    "start_time": "2023-08-03T07:46:36.821Z"
   },
   {
    "duration": 157,
    "start_time": "2023-08-03T07:46:36.899Z"
   },
   {
    "duration": 39,
    "start_time": "2023-08-03T07:46:37.058Z"
   },
   {
    "duration": 56,
    "start_time": "2023-08-03T07:46:37.100Z"
   },
   {
    "duration": 21,
    "start_time": "2023-08-03T07:46:37.158Z"
   },
   {
    "duration": 69,
    "start_time": "2023-08-03T07:46:37.181Z"
   },
   {
    "duration": 5663,
    "start_time": "2023-08-03T07:49:38.875Z"
   },
   {
    "duration": 4880,
    "start_time": "2023-08-03T07:50:15.788Z"
   },
   {
    "duration": 199,
    "start_time": "2023-08-03T07:51:00.150Z"
   },
   {
    "duration": 195,
    "start_time": "2023-08-03T07:51:07.232Z"
   },
   {
    "duration": 14,
    "start_time": "2023-08-03T07:51:17.734Z"
   },
   {
    "duration": 172,
    "start_time": "2023-08-03T07:51:26.992Z"
   },
   {
    "duration": 132,
    "start_time": "2023-08-03T07:59:04.757Z"
   },
   {
    "duration": 120,
    "start_time": "2023-08-03T07:59:23.306Z"
   },
   {
    "duration": 18,
    "start_time": "2023-08-03T07:59:45.707Z"
   },
   {
    "duration": 17,
    "start_time": "2023-08-03T08:00:52.606Z"
   },
   {
    "duration": 11,
    "start_time": "2023-08-03T08:01:07.788Z"
   },
   {
    "duration": 13,
    "start_time": "2023-08-03T08:01:42.667Z"
   },
   {
    "duration": 1711,
    "start_time": "2023-08-03T08:02:00.730Z"
   },
   {
    "duration": 3,
    "start_time": "2023-08-03T08:02:02.443Z"
   },
   {
    "duration": 911,
    "start_time": "2023-08-03T08:02:02.448Z"
   },
   {
    "duration": 257,
    "start_time": "2023-08-03T08:02:03.362Z"
   },
   {
    "duration": 513,
    "start_time": "2023-08-03T08:02:03.621Z"
   },
   {
    "duration": 1108,
    "start_time": "2023-08-03T08:02:04.136Z"
   },
   {
    "duration": 30,
    "start_time": "2023-08-03T08:02:05.246Z"
   },
   {
    "duration": 11,
    "start_time": "2023-08-03T08:02:05.278Z"
   },
   {
    "duration": 336,
    "start_time": "2023-08-03T08:02:05.312Z"
   },
   {
    "duration": 24,
    "start_time": "2023-08-03T08:02:05.650Z"
   },
   {
    "duration": 60,
    "start_time": "2023-08-03T08:02:05.675Z"
   },
   {
    "duration": 508,
    "start_time": "2023-08-03T08:02:05.749Z"
   },
   {
    "duration": 87,
    "start_time": "2023-08-03T08:02:06.260Z"
   },
   {
    "duration": 86,
    "start_time": "2023-08-03T08:02:06.349Z"
   },
   {
    "duration": 15,
    "start_time": "2023-08-03T08:02:06.436Z"
   },
   {
    "duration": 14,
    "start_time": "2023-08-03T08:02:06.452Z"
   },
   {
    "duration": 6,
    "start_time": "2023-08-03T08:02:06.468Z"
   },
   {
    "duration": 7,
    "start_time": "2023-08-03T08:02:06.475Z"
   },
   {
    "duration": 7,
    "start_time": "2023-08-03T08:02:06.483Z"
   },
   {
    "duration": 19,
    "start_time": "2023-08-03T08:02:06.492Z"
   },
   {
    "duration": 92,
    "start_time": "2023-08-03T08:03:09.363Z"
   },
   {
    "duration": 30,
    "start_time": "2023-08-03T08:03:13.604Z"
   },
   {
    "duration": 18,
    "start_time": "2023-08-03T08:03:30.918Z"
   },
   {
    "duration": 141,
    "start_time": "2023-08-03T08:33:14.586Z"
   },
   {
    "duration": 15,
    "start_time": "2023-08-03T08:33:22.934Z"
   },
   {
    "duration": 13,
    "start_time": "2023-08-03T08:33:48.984Z"
   },
   {
    "duration": 20,
    "start_time": "2023-08-03T08:35:10.067Z"
   },
   {
    "duration": 106,
    "start_time": "2023-08-03T08:36:20.057Z"
   },
   {
    "duration": 7,
    "start_time": "2023-08-03T08:36:46.670Z"
   },
   {
    "duration": 89,
    "start_time": "2023-08-03T08:38:00.399Z"
   },
   {
    "duration": 11,
    "start_time": "2023-08-03T08:38:02.937Z"
   },
   {
    "duration": 4,
    "start_time": "2023-08-03T08:38:07.533Z"
   },
   {
    "duration": 7,
    "start_time": "2023-08-03T08:38:28.174Z"
   },
   {
    "duration": 5,
    "start_time": "2023-08-03T08:38:30.680Z"
   },
   {
    "duration": 5,
    "start_time": "2023-08-03T08:38:48.761Z"
   },
   {
    "duration": 1689,
    "start_time": "2023-08-03T08:39:01.485Z"
   },
   {
    "duration": 2,
    "start_time": "2023-08-03T08:39:03.176Z"
   },
   {
    "duration": 924,
    "start_time": "2023-08-03T08:39:03.180Z"
   },
   {
    "duration": 260,
    "start_time": "2023-08-03T08:39:04.107Z"
   },
   {
    "duration": 546,
    "start_time": "2023-08-03T08:39:04.368Z"
   },
   {
    "duration": 1123,
    "start_time": "2023-08-03T08:39:04.916Z"
   },
   {
    "duration": 32,
    "start_time": "2023-08-03T08:39:06.042Z"
   },
   {
    "duration": 35,
    "start_time": "2023-08-03T08:39:06.076Z"
   },
   {
    "duration": 347,
    "start_time": "2023-08-03T08:39:06.113Z"
   },
   {
    "duration": 23,
    "start_time": "2023-08-03T08:39:06.464Z"
   },
   {
    "duration": 51,
    "start_time": "2023-08-03T08:39:06.489Z"
   },
   {
    "duration": 428,
    "start_time": "2023-08-03T08:39:06.543Z"
   },
   {
    "duration": 87,
    "start_time": "2023-08-03T08:39:06.973Z"
   },
   {
    "duration": 82,
    "start_time": "2023-08-03T08:39:07.061Z"
   },
   {
    "duration": 68,
    "start_time": "2023-08-03T08:39:07.145Z"
   },
   {
    "duration": 23,
    "start_time": "2023-08-03T08:39:07.214Z"
   },
   {
    "duration": 16,
    "start_time": "2023-08-03T08:39:07.239Z"
   },
   {
    "duration": 107,
    "start_time": "2023-08-03T08:39:07.257Z"
   },
   {
    "duration": 6,
    "start_time": "2023-08-03T08:39:07.366Z"
   },
   {
    "duration": 1656,
    "start_time": "2023-08-03T08:39:35.838Z"
   },
   {
    "duration": 4,
    "start_time": "2023-08-03T08:39:37.496Z"
   },
   {
    "duration": 1023,
    "start_time": "2023-08-03T08:39:37.502Z"
   },
   {
    "duration": 257,
    "start_time": "2023-08-03T08:39:38.527Z"
   },
   {
    "duration": 592,
    "start_time": "2023-08-03T08:39:38.786Z"
   },
   {
    "duration": 1198,
    "start_time": "2023-08-03T08:39:39.381Z"
   },
   {
    "duration": 49,
    "start_time": "2023-08-03T08:39:40.580Z"
   },
   {
    "duration": 17,
    "start_time": "2023-08-03T08:39:40.631Z"
   },
   {
    "duration": 380,
    "start_time": "2023-08-03T08:39:40.650Z"
   },
   {
    "duration": 26,
    "start_time": "2023-08-03T08:39:41.033Z"
   },
   {
    "duration": 53,
    "start_time": "2023-08-03T08:39:41.060Z"
   },
   {
    "duration": 440,
    "start_time": "2023-08-03T08:39:41.115Z"
   },
   {
    "duration": 79,
    "start_time": "2023-08-03T08:39:41.557Z"
   },
   {
    "duration": 98,
    "start_time": "2023-08-03T08:39:41.639Z"
   },
   {
    "duration": 72,
    "start_time": "2023-08-03T08:39:41.740Z"
   },
   {
    "duration": 24,
    "start_time": "2023-08-03T08:39:41.817Z"
   },
   {
    "duration": 18,
    "start_time": "2023-08-03T08:39:41.843Z"
   },
   {
    "duration": 8,
    "start_time": "2023-08-03T08:40:09.966Z"
   },
   {
    "duration": 127,
    "start_time": "2023-08-03T08:42:54.665Z"
   },
   {
    "duration": 105,
    "start_time": "2023-08-03T08:44:10.374Z"
   },
   {
    "duration": 46,
    "start_time": "2023-08-03T11:58:56.804Z"
   },
   {
    "duration": 1844,
    "start_time": "2023-08-03T12:00:33.777Z"
   },
   {
    "duration": 3,
    "start_time": "2023-08-03T12:00:35.623Z"
   },
   {
    "duration": 958,
    "start_time": "2023-08-03T12:00:35.628Z"
   },
   {
    "duration": 211,
    "start_time": "2023-08-03T12:00:36.587Z"
   },
   {
    "duration": 389,
    "start_time": "2023-08-03T12:00:36.800Z"
   },
   {
    "duration": 791,
    "start_time": "2023-08-03T12:00:37.190Z"
   },
   {
    "duration": 26,
    "start_time": "2023-08-03T12:00:37.983Z"
   },
   {
    "duration": 11,
    "start_time": "2023-08-03T12:00:38.019Z"
   },
   {
    "duration": 284,
    "start_time": "2023-08-03T12:00:38.031Z"
   },
   {
    "duration": 20,
    "start_time": "2023-08-03T12:00:38.317Z"
   },
   {
    "duration": 27,
    "start_time": "2023-08-03T12:00:38.339Z"
   },
   {
    "duration": 322,
    "start_time": "2023-08-03T12:00:38.367Z"
   },
   {
    "duration": 66,
    "start_time": "2023-08-03T12:00:38.691Z"
   },
   {
    "duration": 74,
    "start_time": "2023-08-03T12:00:38.759Z"
   },
   {
    "duration": 64,
    "start_time": "2023-08-03T12:00:38.834Z"
   },
   {
    "duration": 30,
    "start_time": "2023-08-03T12:00:38.899Z"
   },
   {
    "duration": 12,
    "start_time": "2023-08-03T12:00:38.931Z"
   },
   {
    "duration": 14,
    "start_time": "2023-08-03T12:00:38.945Z"
   },
   {
    "duration": 242,
    "start_time": "2023-08-03T12:00:38.961Z"
   },
   {
    "duration": 5,
    "start_time": "2023-08-03T12:01:11.568Z"
   },
   {
    "duration": 231,
    "start_time": "2023-08-03T12:01:30.628Z"
   },
   {
    "duration": 10,
    "start_time": "2023-08-03T12:01:35.430Z"
   },
   {
    "duration": 211,
    "start_time": "2023-08-03T12:06:30.651Z"
   },
   {
    "duration": 219,
    "start_time": "2023-08-03T12:09:44.690Z"
   },
   {
    "duration": 1882,
    "start_time": "2023-08-03T12:10:01.942Z"
   },
   {
    "duration": 23,
    "start_time": "2023-08-03T12:10:59.692Z"
   },
   {
    "duration": 187,
    "start_time": "2023-08-03T12:12:23.056Z"
   },
   {
    "duration": 6,
    "start_time": "2023-08-03T12:12:42.835Z"
   },
   {
    "duration": 4,
    "start_time": "2023-08-03T12:14:06.784Z"
   },
   {
    "duration": 9,
    "start_time": "2023-08-03T12:17:20.344Z"
   },
   {
    "duration": 13,
    "start_time": "2023-08-03T12:17:58.836Z"
   },
   {
    "duration": 1781,
    "start_time": "2023-08-03T12:20:26.510Z"
   },
   {
    "duration": 3,
    "start_time": "2023-08-03T12:20:28.293Z"
   },
   {
    "duration": 705,
    "start_time": "2023-08-03T12:20:28.297Z"
   },
   {
    "duration": 221,
    "start_time": "2023-08-03T12:20:29.004Z"
   },
   {
    "duration": 409,
    "start_time": "2023-08-03T12:20:29.227Z"
   },
   {
    "duration": 804,
    "start_time": "2023-08-03T12:20:29.637Z"
   },
   {
    "duration": 26,
    "start_time": "2023-08-03T12:20:30.442Z"
   },
   {
    "duration": 31,
    "start_time": "2023-08-03T12:20:30.469Z"
   },
   {
    "duration": 284,
    "start_time": "2023-08-03T12:20:30.502Z"
   },
   {
    "duration": 19,
    "start_time": "2023-08-03T12:20:30.787Z"
   },
   {
    "duration": 44,
    "start_time": "2023-08-03T12:20:30.808Z"
   },
   {
    "duration": 312,
    "start_time": "2023-08-03T12:20:30.854Z"
   },
   {
    "duration": 92,
    "start_time": "2023-08-03T12:20:31.168Z"
   },
   {
    "duration": 134,
    "start_time": "2023-08-03T12:20:31.262Z"
   },
   {
    "duration": 62,
    "start_time": "2023-08-03T12:20:31.398Z"
   },
   {
    "duration": 45,
    "start_time": "2023-08-03T12:20:31.461Z"
   },
   {
    "duration": 36,
    "start_time": "2023-08-03T12:20:31.508Z"
   },
   {
    "duration": 53,
    "start_time": "2023-08-03T12:20:31.546Z"
   },
   {
    "duration": 83,
    "start_time": "2023-08-03T12:20:31.601Z"
   },
   {
    "duration": 1908,
    "start_time": "2023-08-03T12:20:31.686Z"
   },
   {
    "duration": 188,
    "start_time": "2023-08-03T12:20:33.595Z"
   },
   {
    "duration": 12,
    "start_time": "2023-08-03T12:20:33.784Z"
   },
   {
    "duration": 27,
    "start_time": "2023-08-03T12:21:45.499Z"
   },
   {
    "duration": 1623,
    "start_time": "2023-08-03T12:22:09.847Z"
   },
   {
    "duration": 3,
    "start_time": "2023-08-03T12:22:11.472Z"
   },
   {
    "duration": 699,
    "start_time": "2023-08-03T12:22:11.477Z"
   },
   {
    "duration": 228,
    "start_time": "2023-08-03T12:22:12.177Z"
   },
   {
    "duration": 362,
    "start_time": "2023-08-03T12:22:12.407Z"
   },
   {
    "duration": 753,
    "start_time": "2023-08-03T12:22:12.771Z"
   },
   {
    "duration": 24,
    "start_time": "2023-08-03T12:22:13.525Z"
   },
   {
    "duration": 9,
    "start_time": "2023-08-03T12:22:13.551Z"
   },
   {
    "duration": 262,
    "start_time": "2023-08-03T12:22:13.562Z"
   },
   {
    "duration": 19,
    "start_time": "2023-08-03T12:22:13.825Z"
   },
   {
    "duration": 26,
    "start_time": "2023-08-03T12:22:13.845Z"
   },
   {
    "duration": 296,
    "start_time": "2023-08-03T12:22:13.873Z"
   },
   {
    "duration": 68,
    "start_time": "2023-08-03T12:22:14.170Z"
   },
   {
    "duration": 59,
    "start_time": "2023-08-03T12:22:14.241Z"
   },
   {
    "duration": 72,
    "start_time": "2023-08-03T12:22:14.301Z"
   },
   {
    "duration": 16,
    "start_time": "2023-08-03T12:22:14.375Z"
   },
   {
    "duration": 26,
    "start_time": "2023-08-03T12:22:14.392Z"
   },
   {
    "duration": 23,
    "start_time": "2023-08-03T12:22:14.419Z"
   },
   {
    "duration": 13,
    "start_time": "2023-08-03T12:22:14.443Z"
   },
   {
    "duration": 27,
    "start_time": "2023-08-03T12:22:14.457Z"
   },
   {
    "duration": 1988,
    "start_time": "2023-08-03T12:22:14.485Z"
   },
   {
    "duration": 25,
    "start_time": "2023-08-03T12:22:16.475Z"
   },
   {
    "duration": 195,
    "start_time": "2023-08-03T12:22:16.502Z"
   },
   {
    "duration": 12,
    "start_time": "2023-08-03T12:22:16.699Z"
   },
   {
    "duration": 1899,
    "start_time": "2023-08-03T12:25:50.705Z"
   },
   {
    "duration": 27,
    "start_time": "2023-08-03T12:25:54.782Z"
   },
   {
    "duration": 173,
    "start_time": "2023-08-03T12:27:44.844Z"
   },
   {
    "duration": 1429,
    "start_time": "2023-08-03T12:29:09.650Z"
   },
   {
    "duration": 3,
    "start_time": "2023-08-03T12:29:11.081Z"
   },
   {
    "duration": 811,
    "start_time": "2023-08-03T12:29:11.085Z"
   },
   {
    "duration": 211,
    "start_time": "2023-08-03T12:29:11.898Z"
   },
   {
    "duration": 380,
    "start_time": "2023-08-03T12:29:12.120Z"
   },
   {
    "duration": 806,
    "start_time": "2023-08-03T12:29:12.502Z"
   },
   {
    "duration": 32,
    "start_time": "2023-08-03T12:29:13.310Z"
   },
   {
    "duration": 9,
    "start_time": "2023-08-03T12:29:13.343Z"
   },
   {
    "duration": 263,
    "start_time": "2023-08-03T12:29:13.354Z"
   },
   {
    "duration": 18,
    "start_time": "2023-08-03T12:29:13.619Z"
   },
   {
    "duration": 40,
    "start_time": "2023-08-03T12:29:13.638Z"
   },
   {
    "duration": 329,
    "start_time": "2023-08-03T12:29:13.679Z"
   },
   {
    "duration": 66,
    "start_time": "2023-08-03T12:29:14.010Z"
   },
   {
    "duration": 72,
    "start_time": "2023-08-03T12:29:14.078Z"
   },
   {
    "duration": 70,
    "start_time": "2023-08-03T12:29:14.151Z"
   },
   {
    "duration": 17,
    "start_time": "2023-08-03T12:29:14.223Z"
   },
   {
    "duration": 12,
    "start_time": "2023-08-03T12:29:14.242Z"
   },
   {
    "duration": 18,
    "start_time": "2023-08-03T12:29:14.256Z"
   },
   {
    "duration": 27,
    "start_time": "2023-08-03T12:29:14.276Z"
   },
   {
    "duration": 29,
    "start_time": "2023-08-03T12:29:14.304Z"
   },
   {
    "duration": 192,
    "start_time": "2023-08-03T12:29:14.334Z"
   },
   {
    "duration": 0,
    "start_time": "2023-08-03T12:29:14.528Z"
   },
   {
    "duration": 0,
    "start_time": "2023-08-03T12:29:14.529Z"
   },
   {
    "duration": 0,
    "start_time": "2023-08-03T12:29:14.530Z"
   },
   {
    "duration": 2011,
    "start_time": "2023-08-03T12:29:52.422Z"
   },
   {
    "duration": 38,
    "start_time": "2023-08-03T12:29:55.245Z"
   },
   {
    "duration": 1519,
    "start_time": "2023-08-03T12:30:53.173Z"
   },
   {
    "duration": 3,
    "start_time": "2023-08-03T12:30:54.694Z"
   },
   {
    "duration": 868,
    "start_time": "2023-08-03T12:30:54.699Z"
   },
   {
    "duration": 237,
    "start_time": "2023-08-03T12:30:55.569Z"
   },
   {
    "duration": 425,
    "start_time": "2023-08-03T12:30:55.808Z"
   },
   {
    "duration": 825,
    "start_time": "2023-08-03T12:30:56.234Z"
   },
   {
    "duration": 28,
    "start_time": "2023-08-03T12:30:57.061Z"
   },
   {
    "duration": 39,
    "start_time": "2023-08-03T12:30:57.091Z"
   },
   {
    "duration": 269,
    "start_time": "2023-08-03T12:30:57.131Z"
   },
   {
    "duration": 33,
    "start_time": "2023-08-03T12:30:57.402Z"
   },
   {
    "duration": 37,
    "start_time": "2023-08-03T12:30:57.437Z"
   },
   {
    "duration": 323,
    "start_time": "2023-08-03T12:30:57.476Z"
   },
   {
    "duration": 72,
    "start_time": "2023-08-03T12:30:57.801Z"
   },
   {
    "duration": 2,
    "start_time": "2023-08-03T12:30:57.876Z"
   },
   {
    "duration": 103,
    "start_time": "2023-08-03T12:30:57.880Z"
   },
   {
    "duration": 38,
    "start_time": "2023-08-03T12:30:57.985Z"
   },
   {
    "duration": 36,
    "start_time": "2023-08-03T12:30:58.025Z"
   },
   {
    "duration": 20,
    "start_time": "2023-08-03T12:30:58.063Z"
   },
   {
    "duration": 67,
    "start_time": "2023-08-03T12:30:58.085Z"
   },
   {
    "duration": 59,
    "start_time": "2023-08-03T12:30:58.154Z"
   },
   {
    "duration": 1945,
    "start_time": "2023-08-03T12:30:58.215Z"
   },
   {
    "duration": 28,
    "start_time": "2023-08-03T12:31:00.162Z"
   },
   {
    "duration": 1179,
    "start_time": "2023-08-03T12:31:00.192Z"
   },
   {
    "duration": 0,
    "start_time": "2023-08-03T12:31:01.373Z"
   },
   {
    "duration": 13,
    "start_time": "2023-08-03T12:31:56.758Z"
   },
   {
    "duration": 27,
    "start_time": "2023-08-03T12:37:22.915Z"
   },
   {
    "duration": 87,
    "start_time": "2023-08-03T12:37:39.588Z"
   },
   {
    "duration": 23,
    "start_time": "2023-08-03T12:37:48.023Z"
   },
   {
    "duration": 7,
    "start_time": "2023-08-03T12:37:59.994Z"
   },
   {
    "duration": 116,
    "start_time": "2023-08-03T12:38:13.224Z"
   },
   {
    "duration": 10,
    "start_time": "2023-08-03T12:38:16.195Z"
   },
   {
    "duration": 8,
    "start_time": "2023-08-03T12:38:23.663Z"
   },
   {
    "duration": 143,
    "start_time": "2023-08-03T12:38:38.786Z"
   },
   {
    "duration": 269,
    "start_time": "2023-08-03T12:38:48.010Z"
   },
   {
    "duration": 96,
    "start_time": "2023-08-03T12:39:11.178Z"
   },
   {
    "duration": 228,
    "start_time": "2023-08-03T12:39:13.641Z"
   },
   {
    "duration": 75,
    "start_time": "2023-08-03T12:40:04.121Z"
   },
   {
    "duration": 60,
    "start_time": "2023-08-03T12:40:22.694Z"
   },
   {
    "duration": 1746,
    "start_time": "2023-08-03T12:42:05.332Z"
   },
   {
    "duration": 3,
    "start_time": "2023-08-03T12:42:07.080Z"
   },
   {
    "duration": 734,
    "start_time": "2023-08-03T12:42:07.084Z"
   },
   {
    "duration": 226,
    "start_time": "2023-08-03T12:42:07.821Z"
   },
   {
    "duration": 452,
    "start_time": "2023-08-03T12:42:08.048Z"
   },
   {
    "duration": 815,
    "start_time": "2023-08-03T12:42:08.502Z"
   },
   {
    "duration": 25,
    "start_time": "2023-08-03T12:42:09.319Z"
   },
   {
    "duration": 11,
    "start_time": "2023-08-03T12:42:09.345Z"
   },
   {
    "duration": 289,
    "start_time": "2023-08-03T12:42:09.357Z"
   },
   {
    "duration": 20,
    "start_time": "2023-08-03T12:42:09.649Z"
   },
   {
    "duration": 27,
    "start_time": "2023-08-03T12:42:09.671Z"
   },
   {
    "duration": 331,
    "start_time": "2023-08-03T12:42:09.700Z"
   },
   {
    "duration": 64,
    "start_time": "2023-08-03T12:42:10.032Z"
   },
   {
    "duration": 78,
    "start_time": "2023-08-03T12:42:10.097Z"
   },
   {
    "duration": 17,
    "start_time": "2023-08-03T12:42:10.177Z"
   },
   {
    "duration": 25,
    "start_time": "2023-08-03T12:42:10.196Z"
   },
   {
    "duration": 12,
    "start_time": "2023-08-03T12:42:10.222Z"
   },
   {
    "duration": 26,
    "start_time": "2023-08-03T12:42:10.236Z"
   },
   {
    "duration": 1931,
    "start_time": "2023-08-03T12:42:10.263Z"
   },
   {
    "duration": 31,
    "start_time": "2023-08-03T12:42:12.195Z"
   },
   {
    "duration": 16,
    "start_time": "2023-08-03T12:42:12.228Z"
   },
   {
    "duration": 104,
    "start_time": "2023-08-03T12:42:12.245Z"
   },
   {
    "duration": 264,
    "start_time": "2023-08-03T12:42:12.350Z"
   },
   {
    "duration": 10,
    "start_time": "2023-08-03T12:42:12.615Z"
   },
   {
    "duration": 85,
    "start_time": "2023-08-03T12:42:12.627Z"
   },
   {
    "duration": 61,
    "start_time": "2023-08-03T12:42:12.714Z"
   },
   {
    "duration": 130,
    "start_time": "2023-08-03T12:44:30.573Z"
   },
   {
    "duration": 41,
    "start_time": "2023-08-03T12:44:48.154Z"
   },
   {
    "duration": 58,
    "start_time": "2023-08-03T12:45:12.533Z"
   },
   {
    "duration": 1541,
    "start_time": "2023-08-03T12:45:33.056Z"
   },
   {
    "duration": 4,
    "start_time": "2023-08-03T12:45:34.600Z"
   },
   {
    "duration": 958,
    "start_time": "2023-08-03T12:45:34.606Z"
   },
   {
    "duration": 255,
    "start_time": "2023-08-03T12:45:35.565Z"
   },
   {
    "duration": 497,
    "start_time": "2023-08-03T12:45:35.823Z"
   },
   {
    "duration": 844,
    "start_time": "2023-08-03T12:45:36.321Z"
   },
   {
    "duration": 27,
    "start_time": "2023-08-03T12:45:37.169Z"
   },
   {
    "duration": 25,
    "start_time": "2023-08-03T12:45:37.197Z"
   },
   {
    "duration": 265,
    "start_time": "2023-08-03T12:45:37.223Z"
   },
   {
    "duration": 21,
    "start_time": "2023-08-03T12:45:37.489Z"
   },
   {
    "duration": 30,
    "start_time": "2023-08-03T12:45:37.520Z"
   },
   {
    "duration": 320,
    "start_time": "2023-08-03T12:45:37.552Z"
   },
   {
    "duration": 76,
    "start_time": "2023-08-03T12:45:37.874Z"
   },
   {
    "duration": 102,
    "start_time": "2023-08-03T12:45:37.954Z"
   },
   {
    "duration": 18,
    "start_time": "2023-08-03T12:45:38.058Z"
   },
   {
    "duration": 23,
    "start_time": "2023-08-03T12:45:38.078Z"
   },
   {
    "duration": 8,
    "start_time": "2023-08-03T12:45:38.122Z"
   },
   {
    "duration": 35,
    "start_time": "2023-08-03T12:45:38.132Z"
   },
   {
    "duration": 2034,
    "start_time": "2023-08-03T12:45:38.168Z"
   },
   {
    "duration": 40,
    "start_time": "2023-08-03T12:45:40.204Z"
   },
   {
    "duration": 46,
    "start_time": "2023-08-03T12:45:40.245Z"
   },
   {
    "duration": 150,
    "start_time": "2023-08-03T12:45:40.293Z"
   },
   {
    "duration": 0,
    "start_time": "2023-08-03T12:45:40.445Z"
   },
   {
    "duration": 0,
    "start_time": "2023-08-03T12:45:40.446Z"
   },
   {
    "duration": 0,
    "start_time": "2023-08-03T12:45:40.447Z"
   },
   {
    "duration": 0,
    "start_time": "2023-08-03T12:45:40.449Z"
   },
   {
    "duration": 621,
    "start_time": "2023-08-03T12:46:01.641Z"
   },
   {
    "duration": 12,
    "start_time": "2023-08-03T12:46:33.803Z"
   },
   {
    "duration": 1773,
    "start_time": "2023-08-03T12:46:58.330Z"
   },
   {
    "duration": 4,
    "start_time": "2023-08-03T12:47:00.105Z"
   },
   {
    "duration": 875,
    "start_time": "2023-08-03T12:47:00.110Z"
   },
   {
    "duration": 298,
    "start_time": "2023-08-03T12:47:00.987Z"
   },
   {
    "duration": 443,
    "start_time": "2023-08-03T12:47:01.287Z"
   },
   {
    "duration": 993,
    "start_time": "2023-08-03T12:47:01.732Z"
   },
   {
    "duration": 35,
    "start_time": "2023-08-03T12:47:02.727Z"
   },
   {
    "duration": 12,
    "start_time": "2023-08-03T12:47:02.764Z"
   },
   {
    "duration": 337,
    "start_time": "2023-08-03T12:47:02.777Z"
   },
   {
    "duration": 22,
    "start_time": "2023-08-03T12:47:03.117Z"
   },
   {
    "duration": 39,
    "start_time": "2023-08-03T12:47:03.141Z"
   },
   {
    "duration": 387,
    "start_time": "2023-08-03T12:47:03.183Z"
   },
   {
    "duration": 68,
    "start_time": "2023-08-03T12:47:03.572Z"
   },
   {
    "duration": 128,
    "start_time": "2023-08-03T12:47:03.643Z"
   },
   {
    "duration": 27,
    "start_time": "2023-08-03T12:47:03.773Z"
   },
   {
    "duration": 30,
    "start_time": "2023-08-03T12:47:03.802Z"
   },
   {
    "duration": 18,
    "start_time": "2023-08-03T12:47:03.834Z"
   },
   {
    "duration": 30,
    "start_time": "2023-08-03T12:47:03.854Z"
   },
   {
    "duration": 2221,
    "start_time": "2023-08-03T12:47:03.887Z"
   },
   {
    "duration": 31,
    "start_time": "2023-08-03T12:47:06.109Z"
   },
   {
    "duration": 58,
    "start_time": "2023-08-03T12:47:06.141Z"
   },
   {
    "duration": 159,
    "start_time": "2023-08-03T12:47:06.201Z"
   },
   {
    "duration": 431,
    "start_time": "2023-08-03T12:47:06.362Z"
   },
   {
    "duration": 11,
    "start_time": "2023-08-03T12:47:06.796Z"
   },
   {
    "duration": 82,
    "start_time": "2023-08-03T12:47:06.820Z"
   },
   {
    "duration": 74,
    "start_time": "2023-08-03T12:47:06.904Z"
   },
   {
    "duration": 226,
    "start_time": "2023-08-03T12:51:51.017Z"
   },
   {
    "duration": 81,
    "start_time": "2023-08-03T12:52:16.577Z"
   },
   {
    "duration": 126,
    "start_time": "2023-08-03T12:53:13.592Z"
   },
   {
    "duration": 57,
    "start_time": "2023-08-03T12:53:19.952Z"
   },
   {
    "duration": 8,
    "start_time": "2023-08-03T12:53:23.836Z"
   },
   {
    "duration": 2999,
    "start_time": "2023-08-03T12:54:33.318Z"
   },
   {
    "duration": 25,
    "start_time": "2023-08-03T12:55:28.630Z"
   },
   {
    "duration": 9,
    "start_time": "2023-08-03T12:55:32.298Z"
   },
   {
    "duration": 11,
    "start_time": "2023-08-03T13:01:21.914Z"
   },
   {
    "duration": 10,
    "start_time": "2023-08-03T13:01:28.902Z"
   },
   {
    "duration": 14,
    "start_time": "2023-08-03T13:02:07.505Z"
   },
   {
    "duration": 42,
    "start_time": "2023-08-03T13:04:24.371Z"
   },
   {
    "duration": 7,
    "start_time": "2023-08-03T13:04:27.349Z"
   },
   {
    "duration": 29,
    "start_time": "2023-08-03T13:05:01.814Z"
   },
   {
    "duration": 7,
    "start_time": "2023-08-03T13:05:05.512Z"
   },
   {
    "duration": 13,
    "start_time": "2023-08-03T13:08:35.195Z"
   },
   {
    "duration": 9,
    "start_time": "2023-08-03T13:11:48.899Z"
   },
   {
    "duration": 9,
    "start_time": "2023-08-03T13:13:27.770Z"
   },
   {
    "duration": 13,
    "start_time": "2023-08-03T13:13:42.747Z"
   },
   {
    "duration": 710,
    "start_time": "2023-08-03T13:14:22.698Z"
   },
   {
    "duration": 631,
    "start_time": "2023-08-03T13:14:42.762Z"
   },
   {
    "duration": 1416,
    "start_time": "2023-08-03T13:15:03.837Z"
   },
   {
    "duration": 2,
    "start_time": "2023-08-03T13:15:05.254Z"
   },
   {
    "duration": 757,
    "start_time": "2023-08-03T13:15:05.257Z"
   },
   {
    "duration": 234,
    "start_time": "2023-08-03T13:15:06.016Z"
   },
   {
    "duration": 382,
    "start_time": "2023-08-03T13:15:06.252Z"
   },
   {
    "duration": 781,
    "start_time": "2023-08-03T13:15:06.636Z"
   },
   {
    "duration": 24,
    "start_time": "2023-08-03T13:15:07.418Z"
   },
   {
    "duration": 37,
    "start_time": "2023-08-03T13:15:07.443Z"
   },
   {
    "duration": 266,
    "start_time": "2023-08-03T13:15:07.481Z"
   },
   {
    "duration": 17,
    "start_time": "2023-08-03T13:15:07.749Z"
   },
   {
    "duration": 33,
    "start_time": "2023-08-03T13:15:07.767Z"
   },
   {
    "duration": 309,
    "start_time": "2023-08-03T13:15:07.801Z"
   },
   {
    "duration": 74,
    "start_time": "2023-08-03T13:15:08.112Z"
   },
   {
    "duration": 79,
    "start_time": "2023-08-03T13:15:08.188Z"
   },
   {
    "duration": 53,
    "start_time": "2023-08-03T13:15:08.269Z"
   },
   {
    "duration": 57,
    "start_time": "2023-08-03T13:15:08.324Z"
   },
   {
    "duration": 21,
    "start_time": "2023-08-03T13:15:08.382Z"
   },
   {
    "duration": 34,
    "start_time": "2023-08-03T13:15:08.405Z"
   },
   {
    "duration": 1841,
    "start_time": "2023-08-03T13:15:08.440Z"
   },
   {
    "duration": 31,
    "start_time": "2023-08-03T13:15:10.282Z"
   },
   {
    "duration": 19,
    "start_time": "2023-08-03T13:15:10.314Z"
   },
   {
    "duration": 89,
    "start_time": "2023-08-03T13:15:10.334Z"
   },
   {
    "duration": 13,
    "start_time": "2023-08-03T13:15:10.425Z"
   },
   {
    "duration": 24,
    "start_time": "2023-08-03T13:15:10.439Z"
   },
   {
    "duration": 128,
    "start_time": "2023-08-03T13:15:10.464Z"
   },
   {
    "duration": 74,
    "start_time": "2023-08-03T13:15:10.594Z"
   },
   {
    "duration": 1449,
    "start_time": "2023-08-03T13:16:06.415Z"
   },
   {
    "duration": 2,
    "start_time": "2023-08-03T13:16:07.866Z"
   },
   {
    "duration": 730,
    "start_time": "2023-08-03T13:16:07.870Z"
   },
   {
    "duration": 205,
    "start_time": "2023-08-03T13:16:08.601Z"
   },
   {
    "duration": 363,
    "start_time": "2023-08-03T13:16:08.808Z"
   },
   {
    "duration": 779,
    "start_time": "2023-08-03T13:16:09.173Z"
   },
   {
    "duration": 24,
    "start_time": "2023-08-03T13:16:09.954Z"
   },
   {
    "duration": 9,
    "start_time": "2023-08-03T13:16:09.980Z"
   },
   {
    "duration": 265,
    "start_time": "2023-08-03T13:16:09.990Z"
   },
   {
    "duration": 19,
    "start_time": "2023-08-03T13:16:10.257Z"
   },
   {
    "duration": 42,
    "start_time": "2023-08-03T13:16:10.278Z"
   },
   {
    "duration": 289,
    "start_time": "2023-08-03T13:16:10.321Z"
   },
   {
    "duration": 63,
    "start_time": "2023-08-03T13:16:10.611Z"
   },
   {
    "duration": 71,
    "start_time": "2023-08-03T13:16:10.677Z"
   },
   {
    "duration": 19,
    "start_time": "2023-08-03T13:16:10.749Z"
   },
   {
    "duration": 12,
    "start_time": "2023-08-03T13:16:10.770Z"
   },
   {
    "duration": 13,
    "start_time": "2023-08-03T13:16:10.783Z"
   },
   {
    "duration": 50,
    "start_time": "2023-08-03T13:16:10.797Z"
   },
   {
    "duration": 1842,
    "start_time": "2023-08-03T13:16:10.848Z"
   },
   {
    "duration": 31,
    "start_time": "2023-08-03T13:16:12.692Z"
   },
   {
    "duration": 15,
    "start_time": "2023-08-03T13:16:12.724Z"
   },
   {
    "duration": 87,
    "start_time": "2023-08-03T13:16:12.741Z"
   },
   {
    "duration": 698,
    "start_time": "2023-08-03T13:16:12.829Z"
   },
   {
    "duration": 0,
    "start_time": "2023-08-03T13:16:13.528Z"
   },
   {
    "duration": 0,
    "start_time": "2023-08-03T13:16:13.529Z"
   },
   {
    "duration": 0,
    "start_time": "2023-08-03T13:16:13.530Z"
   },
   {
    "duration": 1438,
    "start_time": "2023-08-03T13:18:05.295Z"
   },
   {
    "duration": 2,
    "start_time": "2023-08-03T13:18:06.735Z"
   },
   {
    "duration": 730,
    "start_time": "2023-08-03T13:18:06.738Z"
   },
   {
    "duration": 244,
    "start_time": "2023-08-03T13:18:07.470Z"
   },
   {
    "duration": 386,
    "start_time": "2023-08-03T13:18:07.715Z"
   },
   {
    "duration": 875,
    "start_time": "2023-08-03T13:18:08.103Z"
   },
   {
    "duration": 25,
    "start_time": "2023-08-03T13:18:08.980Z"
   },
   {
    "duration": 18,
    "start_time": "2023-08-03T13:18:09.007Z"
   },
   {
    "duration": 250,
    "start_time": "2023-08-03T13:18:09.026Z"
   },
   {
    "duration": 18,
    "start_time": "2023-08-03T13:18:09.279Z"
   },
   {
    "duration": 38,
    "start_time": "2023-08-03T13:18:09.299Z"
   },
   {
    "duration": 309,
    "start_time": "2023-08-03T13:18:09.338Z"
   },
   {
    "duration": 61,
    "start_time": "2023-08-03T13:18:09.648Z"
   },
   {
    "duration": 61,
    "start_time": "2023-08-03T13:18:09.720Z"
   },
   {
    "duration": 22,
    "start_time": "2023-08-03T13:18:09.783Z"
   },
   {
    "duration": 18,
    "start_time": "2023-08-03T13:18:09.807Z"
   },
   {
    "duration": 11,
    "start_time": "2023-08-03T13:18:09.826Z"
   },
   {
    "duration": 27,
    "start_time": "2023-08-03T13:18:09.838Z"
   },
   {
    "duration": 1888,
    "start_time": "2023-08-03T13:18:09.867Z"
   },
   {
    "duration": 28,
    "start_time": "2023-08-03T13:18:11.757Z"
   },
   {
    "duration": 179,
    "start_time": "2023-08-03T13:18:11.787Z"
   },
   {
    "duration": 81,
    "start_time": "2023-08-03T13:18:11.968Z"
   },
   {
    "duration": 15,
    "start_time": "2023-08-03T13:18:12.050Z"
   },
   {
    "duration": 22,
    "start_time": "2023-08-03T13:18:12.067Z"
   },
   {
    "duration": 149,
    "start_time": "2023-08-03T13:18:12.091Z"
   },
   {
    "duration": 68,
    "start_time": "2023-08-03T13:18:12.241Z"
   },
   {
    "duration": 73,
    "start_time": "2023-08-03T13:19:03.006Z"
   },
   {
    "duration": 93,
    "start_time": "2023-08-03T13:34:51.891Z"
   },
   {
    "duration": 40,
    "start_time": "2023-08-03T13:45:13.029Z"
   },
   {
    "duration": 243,
    "start_time": "2023-08-03T13:45:16.292Z"
   },
   {
    "duration": 1556,
    "start_time": "2023-08-03T13:51:22.347Z"
   },
   {
    "duration": 3,
    "start_time": "2023-08-03T13:51:23.905Z"
   },
   {
    "duration": 805,
    "start_time": "2023-08-03T13:51:23.909Z"
   },
   {
    "duration": 242,
    "start_time": "2023-08-03T13:51:24.716Z"
   },
   {
    "duration": 446,
    "start_time": "2023-08-03T13:51:24.960Z"
   },
   {
    "duration": 893,
    "start_time": "2023-08-03T13:51:25.409Z"
   },
   {
    "duration": 33,
    "start_time": "2023-08-03T13:51:26.304Z"
   },
   {
    "duration": 11,
    "start_time": "2023-08-03T13:51:26.339Z"
   },
   {
    "duration": 283,
    "start_time": "2023-08-03T13:51:26.351Z"
   },
   {
    "duration": 20,
    "start_time": "2023-08-03T13:51:26.636Z"
   },
   {
    "duration": 1013,
    "start_time": "2023-08-03T13:51:26.657Z"
   },
   {
    "duration": 0,
    "start_time": "2023-08-03T13:51:27.671Z"
   },
   {
    "duration": 0,
    "start_time": "2023-08-03T13:51:27.672Z"
   },
   {
    "duration": 0,
    "start_time": "2023-08-03T13:51:27.674Z"
   },
   {
    "duration": 0,
    "start_time": "2023-08-03T13:51:27.675Z"
   },
   {
    "duration": 0,
    "start_time": "2023-08-03T13:51:27.675Z"
   },
   {
    "duration": 0,
    "start_time": "2023-08-03T13:51:27.676Z"
   },
   {
    "duration": 0,
    "start_time": "2023-08-03T13:51:27.677Z"
   },
   {
    "duration": 0,
    "start_time": "2023-08-03T13:51:27.678Z"
   },
   {
    "duration": 0,
    "start_time": "2023-08-03T13:51:27.680Z"
   },
   {
    "duration": 0,
    "start_time": "2023-08-03T13:51:27.680Z"
   },
   {
    "duration": 0,
    "start_time": "2023-08-03T13:51:27.681Z"
   },
   {
    "duration": 0,
    "start_time": "2023-08-03T13:51:27.682Z"
   },
   {
    "duration": 0,
    "start_time": "2023-08-03T13:51:27.683Z"
   },
   {
    "duration": 0,
    "start_time": "2023-08-03T13:51:27.684Z"
   },
   {
    "duration": 0,
    "start_time": "2023-08-03T13:51:27.685Z"
   },
   {
    "duration": 0,
    "start_time": "2023-08-03T13:51:27.687Z"
   },
   {
    "duration": 0,
    "start_time": "2023-08-03T13:51:27.688Z"
   },
   {
    "duration": 1148,
    "start_time": "2023-08-03T13:58:01.053Z"
   },
   {
    "duration": 1469,
    "start_time": "2023-08-03T13:58:27.823Z"
   },
   {
    "duration": 3,
    "start_time": "2023-08-03T13:58:29.294Z"
   },
   {
    "duration": 799,
    "start_time": "2023-08-03T13:58:29.298Z"
   },
   {
    "duration": 218,
    "start_time": "2023-08-03T13:58:30.099Z"
   },
   {
    "duration": 380,
    "start_time": "2023-08-03T13:58:30.320Z"
   },
   {
    "duration": 794,
    "start_time": "2023-08-03T13:58:30.702Z"
   },
   {
    "duration": 32,
    "start_time": "2023-08-03T13:58:31.497Z"
   },
   {
    "duration": 33,
    "start_time": "2023-08-03T13:58:31.530Z"
   },
   {
    "duration": 280,
    "start_time": "2023-08-03T13:58:31.565Z"
   },
   {
    "duration": 18,
    "start_time": "2023-08-03T13:58:31.847Z"
   },
   {
    "duration": 1361,
    "start_time": "2023-08-03T13:58:31.866Z"
   },
   {
    "duration": 0,
    "start_time": "2023-08-03T13:58:33.229Z"
   },
   {
    "duration": 0,
    "start_time": "2023-08-03T13:58:33.230Z"
   },
   {
    "duration": 0,
    "start_time": "2023-08-03T13:58:33.231Z"
   },
   {
    "duration": 0,
    "start_time": "2023-08-03T13:58:33.232Z"
   },
   {
    "duration": 0,
    "start_time": "2023-08-03T13:58:33.233Z"
   },
   {
    "duration": 0,
    "start_time": "2023-08-03T13:58:33.233Z"
   },
   {
    "duration": 0,
    "start_time": "2023-08-03T13:58:33.234Z"
   },
   {
    "duration": 0,
    "start_time": "2023-08-03T13:58:33.235Z"
   },
   {
    "duration": 0,
    "start_time": "2023-08-03T13:58:33.236Z"
   },
   {
    "duration": 0,
    "start_time": "2023-08-03T13:58:33.237Z"
   },
   {
    "duration": 0,
    "start_time": "2023-08-03T13:58:33.238Z"
   },
   {
    "duration": 0,
    "start_time": "2023-08-03T13:58:33.239Z"
   },
   {
    "duration": 0,
    "start_time": "2023-08-03T13:58:33.240Z"
   },
   {
    "duration": 0,
    "start_time": "2023-08-03T13:58:33.240Z"
   },
   {
    "duration": 0,
    "start_time": "2023-08-03T13:58:33.241Z"
   },
   {
    "duration": 0,
    "start_time": "2023-08-03T13:58:33.242Z"
   },
   {
    "duration": 0,
    "start_time": "2023-08-03T13:58:33.243Z"
   },
   {
    "duration": 4104,
    "start_time": "2023-08-03T13:59:09.950Z"
   },
   {
    "duration": 3588,
    "start_time": "2023-08-03T14:00:01.929Z"
   },
   {
    "duration": 747,
    "start_time": "2023-08-03T14:00:19.424Z"
   },
   {
    "duration": 93,
    "start_time": "2023-08-03T14:00:38.917Z"
   },
   {
    "duration": 2006,
    "start_time": "2023-08-03T14:00:54.594Z"
   },
   {
    "duration": 4948,
    "start_time": "2023-08-03T14:01:15.531Z"
   },
   {
    "duration": 4,
    "start_time": "2023-08-03T14:02:45.464Z"
   },
   {
    "duration": 1811,
    "start_time": "2023-08-03T14:02:52.102Z"
   },
   {
    "duration": 21,
    "start_time": "2023-08-03T14:03:01.029Z"
   },
   {
    "duration": 250,
    "start_time": "2023-08-03T14:03:04.217Z"
   },
   {
    "duration": 21,
    "start_time": "2023-08-03T14:03:18.792Z"
   },
   {
    "duration": 1456,
    "start_time": "2023-08-03T14:03:28.135Z"
   },
   {
    "duration": 3,
    "start_time": "2023-08-03T14:03:29.592Z"
   },
   {
    "duration": 741,
    "start_time": "2023-08-03T14:03:29.596Z"
   },
   {
    "duration": 212,
    "start_time": "2023-08-03T14:03:30.339Z"
   },
   {
    "duration": 391,
    "start_time": "2023-08-03T14:03:30.552Z"
   },
   {
    "duration": 770,
    "start_time": "2023-08-03T14:03:30.944Z"
   },
   {
    "duration": 27,
    "start_time": "2023-08-03T14:03:31.716Z"
   },
   {
    "duration": 9,
    "start_time": "2023-08-03T14:03:31.744Z"
   },
   {
    "duration": 279,
    "start_time": "2023-08-03T14:03:31.755Z"
   },
   {
    "duration": 18,
    "start_time": "2023-08-03T14:03:32.037Z"
   },
   {
    "duration": 1886,
    "start_time": "2023-08-03T14:03:32.056Z"
   },
   {
    "duration": 20,
    "start_time": "2023-08-03T14:03:33.944Z"
   },
   {
    "duration": 254,
    "start_time": "2023-08-03T14:03:33.965Z"
   },
   {
    "duration": 19,
    "start_time": "2023-08-03T14:03:34.220Z"
   },
   {
    "duration": 13,
    "start_time": "2023-08-03T14:03:34.241Z"
   },
   {
    "duration": 29,
    "start_time": "2023-08-03T14:03:34.255Z"
   },
   {
    "duration": 1943,
    "start_time": "2023-08-03T14:03:34.286Z"
   },
   {
    "duration": 26,
    "start_time": "2023-08-03T14:03:36.230Z"
   },
   {
    "duration": 32,
    "start_time": "2023-08-03T14:03:36.258Z"
   },
   {
    "duration": 18,
    "start_time": "2023-08-03T14:03:36.291Z"
   },
   {
    "duration": 76,
    "start_time": "2023-08-03T14:03:36.311Z"
   },
   {
    "duration": 19,
    "start_time": "2023-08-03T14:03:36.389Z"
   },
   {
    "duration": 25,
    "start_time": "2023-08-03T14:03:36.409Z"
   },
   {
    "duration": 76,
    "start_time": "2023-08-03T14:03:36.435Z"
   },
   {
    "duration": 125,
    "start_time": "2023-08-03T14:03:36.512Z"
   },
   {
    "duration": 70,
    "start_time": "2023-08-03T14:03:36.639Z"
   },
   {
    "duration": 73,
    "start_time": "2023-08-03T14:03:36.720Z"
   },
   {
    "duration": 107,
    "start_time": "2023-08-03T14:03:36.796Z"
   },
   {
    "duration": 1417,
    "start_time": "2023-08-03T14:04:31.416Z"
   },
   {
    "duration": 2,
    "start_time": "2023-08-03T14:04:32.835Z"
   },
   {
    "duration": 774,
    "start_time": "2023-08-03T14:04:32.839Z"
   },
   {
    "duration": 206,
    "start_time": "2023-08-03T14:04:33.615Z"
   },
   {
    "duration": 393,
    "start_time": "2023-08-03T14:04:33.822Z"
   },
   {
    "duration": 756,
    "start_time": "2023-08-03T14:04:34.216Z"
   },
   {
    "duration": 28,
    "start_time": "2023-08-03T14:04:34.974Z"
   },
   {
    "duration": 28,
    "start_time": "2023-08-03T14:04:35.003Z"
   },
   {
    "duration": 291,
    "start_time": "2023-08-03T14:04:35.032Z"
   },
   {
    "duration": 24,
    "start_time": "2023-08-03T14:04:35.326Z"
   },
   {
    "duration": 1810,
    "start_time": "2023-08-03T14:04:35.352Z"
   },
   {
    "duration": 25,
    "start_time": "2023-08-03T14:04:37.163Z"
   },
   {
    "duration": 42,
    "start_time": "2023-08-03T14:04:37.190Z"
   },
   {
    "duration": 259,
    "start_time": "2023-08-03T14:04:37.235Z"
   },
   {
    "duration": 24,
    "start_time": "2023-08-03T14:04:37.496Z"
   },
   {
    "duration": 17,
    "start_time": "2023-08-03T14:04:37.521Z"
   },
   {
    "duration": 33,
    "start_time": "2023-08-03T14:04:37.540Z"
   },
   {
    "duration": 1948,
    "start_time": "2023-08-03T14:04:37.575Z"
   },
   {
    "duration": 30,
    "start_time": "2023-08-03T14:04:39.525Z"
   },
   {
    "duration": 126,
    "start_time": "2023-08-03T14:04:39.557Z"
   },
   {
    "duration": 54,
    "start_time": "2023-08-03T14:04:39.684Z"
   },
   {
    "duration": 107,
    "start_time": "2023-08-03T14:04:39.739Z"
   },
   {
    "duration": 17,
    "start_time": "2023-08-03T14:04:39.847Z"
   },
   {
    "duration": 50,
    "start_time": "2023-08-03T14:04:39.865Z"
   },
   {
    "duration": 115,
    "start_time": "2023-08-03T14:04:39.916Z"
   },
   {
    "duration": 130,
    "start_time": "2023-08-03T14:04:40.032Z"
   },
   {
    "duration": 69,
    "start_time": "2023-08-03T14:04:40.164Z"
   },
   {
    "duration": 98,
    "start_time": "2023-08-03T14:04:40.235Z"
   },
   {
    "duration": 100,
    "start_time": "2023-08-03T14:04:40.334Z"
   },
   {
    "duration": 1477,
    "start_time": "2023-08-03T14:05:39.925Z"
   },
   {
    "duration": 3,
    "start_time": "2023-08-03T14:05:41.404Z"
   },
   {
    "duration": 713,
    "start_time": "2023-08-03T14:05:41.408Z"
   },
   {
    "duration": 234,
    "start_time": "2023-08-03T14:05:42.122Z"
   },
   {
    "duration": 380,
    "start_time": "2023-08-03T14:05:42.358Z"
   },
   {
    "duration": 774,
    "start_time": "2023-08-03T14:05:42.739Z"
   },
   {
    "duration": 25,
    "start_time": "2023-08-03T14:05:43.520Z"
   },
   {
    "duration": 10,
    "start_time": "2023-08-03T14:05:43.547Z"
   },
   {
    "duration": 264,
    "start_time": "2023-08-03T14:05:43.558Z"
   },
   {
    "duration": 20,
    "start_time": "2023-08-03T14:05:43.824Z"
   },
   {
    "duration": 4991,
    "start_time": "2023-08-03T14:05:43.846Z"
   },
   {
    "duration": 0,
    "start_time": "2023-08-03T14:05:48.839Z"
   },
   {
    "duration": 0,
    "start_time": "2023-08-03T14:05:48.840Z"
   },
   {
    "duration": 0,
    "start_time": "2023-08-03T14:05:48.841Z"
   },
   {
    "duration": 0,
    "start_time": "2023-08-03T14:05:48.842Z"
   },
   {
    "duration": 0,
    "start_time": "2023-08-03T14:05:48.842Z"
   },
   {
    "duration": 0,
    "start_time": "2023-08-03T14:05:48.843Z"
   },
   {
    "duration": 0,
    "start_time": "2023-08-03T14:05:48.844Z"
   },
   {
    "duration": 0,
    "start_time": "2023-08-03T14:05:48.845Z"
   },
   {
    "duration": 0,
    "start_time": "2023-08-03T14:05:48.845Z"
   },
   {
    "duration": 0,
    "start_time": "2023-08-03T14:05:48.846Z"
   },
   {
    "duration": 0,
    "start_time": "2023-08-03T14:05:48.847Z"
   },
   {
    "duration": 0,
    "start_time": "2023-08-03T14:05:48.848Z"
   },
   {
    "duration": 0,
    "start_time": "2023-08-03T14:05:48.849Z"
   },
   {
    "duration": 0,
    "start_time": "2023-08-03T14:05:48.849Z"
   },
   {
    "duration": 0,
    "start_time": "2023-08-03T14:05:48.850Z"
   },
   {
    "duration": 0,
    "start_time": "2023-08-03T14:05:48.851Z"
   },
   {
    "duration": 0,
    "start_time": "2023-08-03T14:05:48.852Z"
   },
   {
    "duration": 0,
    "start_time": "2023-08-03T14:05:48.853Z"
   },
   {
    "duration": 1867,
    "start_time": "2023-08-03T14:06:02.938Z"
   },
   {
    "duration": 1589,
    "start_time": "2023-08-03T14:07:15.022Z"
   },
   {
    "duration": 7,
    "start_time": "2023-08-03T14:07:16.613Z"
   },
   {
    "duration": 777,
    "start_time": "2023-08-03T14:07:16.621Z"
   },
   {
    "duration": 210,
    "start_time": "2023-08-03T14:07:17.400Z"
   },
   {
    "duration": 398,
    "start_time": "2023-08-03T14:07:17.613Z"
   },
   {
    "duration": 849,
    "start_time": "2023-08-03T14:07:18.012Z"
   },
   {
    "duration": 27,
    "start_time": "2023-08-03T14:07:18.862Z"
   },
   {
    "duration": 11,
    "start_time": "2023-08-03T14:07:18.891Z"
   },
   {
    "duration": 290,
    "start_time": "2023-08-03T14:07:18.920Z"
   },
   {
    "duration": 23,
    "start_time": "2023-08-03T14:07:19.212Z"
   },
   {
    "duration": 2059,
    "start_time": "2023-08-03T14:07:19.236Z"
   },
   {
    "duration": 30,
    "start_time": "2023-08-03T14:07:21.297Z"
   },
   {
    "duration": 21,
    "start_time": "2023-08-03T14:07:21.329Z"
   },
   {
    "duration": 281,
    "start_time": "2023-08-03T14:07:21.353Z"
   },
   {
    "duration": 18,
    "start_time": "2023-08-03T14:07:21.636Z"
   },
   {
    "duration": 20,
    "start_time": "2023-08-03T14:07:21.656Z"
   },
   {
    "duration": 43,
    "start_time": "2023-08-03T14:07:21.678Z"
   },
   {
    "duration": 1933,
    "start_time": "2023-08-03T14:07:21.722Z"
   },
   {
    "duration": 29,
    "start_time": "2023-08-03T14:07:23.657Z"
   },
   {
    "duration": 43,
    "start_time": "2023-08-03T14:07:23.687Z"
   },
   {
    "duration": 27,
    "start_time": "2023-08-03T14:07:23.731Z"
   },
   {
    "duration": 91,
    "start_time": "2023-08-03T14:07:23.760Z"
   },
   {
    "duration": 14,
    "start_time": "2023-08-03T14:07:23.852Z"
   },
   {
    "duration": 47,
    "start_time": "2023-08-03T14:07:23.868Z"
   },
   {
    "duration": 100,
    "start_time": "2023-08-03T14:07:23.917Z"
   },
   {
    "duration": 127,
    "start_time": "2023-08-03T14:07:24.019Z"
   },
   {
    "duration": 78,
    "start_time": "2023-08-03T14:07:24.147Z"
   },
   {
    "duration": 87,
    "start_time": "2023-08-03T14:07:24.226Z"
   },
   {
    "duration": 105,
    "start_time": "2023-08-03T14:07:24.315Z"
   },
   {
    "duration": 11,
    "start_time": "2023-08-03T14:26:09.352Z"
   },
   {
    "duration": 1526,
    "start_time": "2023-08-03T14:26:18.283Z"
   },
   {
    "duration": 4,
    "start_time": "2023-08-03T14:26:19.811Z"
   },
   {
    "duration": 916,
    "start_time": "2023-08-03T14:26:19.816Z"
   },
   {
    "duration": 236,
    "start_time": "2023-08-03T14:26:20.734Z"
   },
   {
    "duration": 481,
    "start_time": "2023-08-03T14:26:20.972Z"
   },
   {
    "duration": 872,
    "start_time": "2023-08-03T14:26:21.455Z"
   },
   {
    "duration": 28,
    "start_time": "2023-08-03T14:26:22.328Z"
   },
   {
    "duration": 10,
    "start_time": "2023-08-03T14:26:22.357Z"
   },
   {
    "duration": 295,
    "start_time": "2023-08-03T14:26:22.369Z"
   },
   {
    "duration": 21,
    "start_time": "2023-08-03T14:26:22.666Z"
   },
   {
    "duration": 1990,
    "start_time": "2023-08-03T14:26:22.689Z"
   },
   {
    "duration": 18,
    "start_time": "2023-08-03T14:26:24.681Z"
   },
   {
    "duration": 32,
    "start_time": "2023-08-03T14:26:24.700Z"
   },
   {
    "duration": 266,
    "start_time": "2023-08-03T14:26:24.735Z"
   },
   {
    "duration": 21,
    "start_time": "2023-08-03T14:26:25.003Z"
   },
   {
    "duration": 35,
    "start_time": "2023-08-03T14:26:25.026Z"
   },
   {
    "duration": 44,
    "start_time": "2023-08-03T14:26:25.063Z"
   },
   {
    "duration": 2195,
    "start_time": "2023-08-03T14:26:25.109Z"
   },
   {
    "duration": 37,
    "start_time": "2023-08-03T14:26:27.305Z"
   },
   {
    "duration": 59,
    "start_time": "2023-08-03T14:26:27.344Z"
   },
   {
    "duration": 17,
    "start_time": "2023-08-03T14:26:27.404Z"
   },
   {
    "duration": 77,
    "start_time": "2023-08-03T14:26:27.422Z"
   },
   {
    "duration": 23,
    "start_time": "2023-08-03T14:26:27.500Z"
   },
   {
    "duration": 23,
    "start_time": "2023-08-03T14:26:27.524Z"
   },
   {
    "duration": 80,
    "start_time": "2023-08-03T14:26:27.549Z"
   },
   {
    "duration": 125,
    "start_time": "2023-08-03T14:26:27.631Z"
   },
   {
    "duration": 72,
    "start_time": "2023-08-03T14:26:27.758Z"
   },
   {
    "duration": 89,
    "start_time": "2023-08-03T14:26:27.831Z"
   },
   {
    "duration": 98,
    "start_time": "2023-08-03T14:26:27.922Z"
   },
   {
    "duration": 115,
    "start_time": "2023-08-03T14:40:24.258Z"
   },
   {
    "duration": 1454,
    "start_time": "2023-08-03T14:40:32.898Z"
   },
   {
    "duration": 2,
    "start_time": "2023-08-03T14:40:34.354Z"
   },
   {
    "duration": 739,
    "start_time": "2023-08-03T14:40:34.357Z"
   },
   {
    "duration": 229,
    "start_time": "2023-08-03T14:40:35.097Z"
   },
   {
    "duration": 436,
    "start_time": "2023-08-03T14:40:35.328Z"
   },
   {
    "duration": 801,
    "start_time": "2023-08-03T14:40:35.766Z"
   },
   {
    "duration": 26,
    "start_time": "2023-08-03T14:40:36.568Z"
   },
   {
    "duration": 25,
    "start_time": "2023-08-03T14:40:36.596Z"
   },
   {
    "duration": 257,
    "start_time": "2023-08-03T14:40:36.622Z"
   },
   {
    "duration": 20,
    "start_time": "2023-08-03T14:40:36.883Z"
   },
   {
    "duration": 1905,
    "start_time": "2023-08-03T14:40:36.904Z"
   },
   {
    "duration": 24,
    "start_time": "2023-08-03T14:40:38.812Z"
   },
   {
    "duration": 20,
    "start_time": "2023-08-03T14:40:38.838Z"
   },
   {
    "duration": 280,
    "start_time": "2023-08-03T14:40:38.860Z"
   },
   {
    "duration": 18,
    "start_time": "2023-08-03T14:40:39.142Z"
   },
   {
    "duration": 13,
    "start_time": "2023-08-03T14:40:39.162Z"
   },
   {
    "duration": 52,
    "start_time": "2023-08-03T14:40:39.176Z"
   },
   {
    "duration": 1934,
    "start_time": "2023-08-03T14:40:39.229Z"
   },
   {
    "duration": 31,
    "start_time": "2023-08-03T14:40:41.165Z"
   },
   {
    "duration": 24,
    "start_time": "2023-08-03T14:40:41.198Z"
   },
   {
    "duration": 13,
    "start_time": "2023-08-03T14:40:41.223Z"
   },
   {
    "duration": 83,
    "start_time": "2023-08-03T14:40:41.237Z"
   },
   {
    "duration": 17,
    "start_time": "2023-08-03T14:40:41.321Z"
   },
   {
    "duration": 26,
    "start_time": "2023-08-03T14:40:41.340Z"
   },
   {
    "duration": 92,
    "start_time": "2023-08-03T14:40:41.368Z"
   },
   {
    "duration": 127,
    "start_time": "2023-08-03T14:40:41.462Z"
   },
   {
    "duration": 71,
    "start_time": "2023-08-03T14:40:41.590Z"
   },
   {
    "duration": 79,
    "start_time": "2023-08-03T14:40:41.664Z"
   },
   {
    "duration": 104,
    "start_time": "2023-08-03T14:40:41.744Z"
   },
   {
    "duration": 3,
    "start_time": "2023-08-03T14:40:41.849Z"
   },
   {
    "duration": 2272,
    "start_time": "2023-08-03T14:40:41.853Z"
   },
   {
    "duration": 0,
    "start_time": "2023-08-03T14:40:44.127Z"
   },
   {
    "duration": 20,
    "start_time": "2023-08-03T14:41:29.028Z"
   },
   {
    "duration": 504,
    "start_time": "2023-08-03T14:41:31.502Z"
   },
   {
    "duration": 422,
    "start_time": "2023-08-03T14:42:26.091Z"
   },
   {
    "duration": 287,
    "start_time": "2023-08-03T14:47:05.000Z"
   },
   {
    "duration": 4,
    "start_time": "2023-08-03T14:47:22.198Z"
   },
   {
    "duration": 3,
    "start_time": "2023-08-03T14:47:46.446Z"
   },
   {
    "duration": 6,
    "start_time": "2023-08-03T14:47:59.379Z"
   },
   {
    "duration": 506,
    "start_time": "2023-08-03T14:48:56.928Z"
   },
   {
    "duration": 4,
    "start_time": "2023-08-03T14:49:00.413Z"
   },
   {
    "duration": 5,
    "start_time": "2023-08-03T14:49:07.302Z"
   },
   {
    "duration": 253,
    "start_time": "2023-08-03T14:49:28.100Z"
   },
   {
    "duration": 3,
    "start_time": "2023-08-03T14:49:40.849Z"
   },
   {
    "duration": 4,
    "start_time": "2023-08-03T14:49:47.490Z"
   },
   {
    "duration": 344,
    "start_time": "2023-08-03T14:50:37.750Z"
   },
   {
    "duration": 3,
    "start_time": "2023-08-03T14:59:58.100Z"
   },
   {
    "duration": 8,
    "start_time": "2023-08-03T15:04:15.101Z"
   },
   {
    "duration": 1427,
    "start_time": "2023-08-03T15:04:30.716Z"
   },
   {
    "duration": 2,
    "start_time": "2023-08-03T15:04:32.145Z"
   },
   {
    "duration": 729,
    "start_time": "2023-08-03T15:04:32.148Z"
   },
   {
    "duration": 227,
    "start_time": "2023-08-03T15:04:32.879Z"
   },
   {
    "duration": 392,
    "start_time": "2023-08-03T15:04:33.108Z"
   },
   {
    "duration": 734,
    "start_time": "2023-08-03T15:04:33.501Z"
   },
   {
    "duration": 22,
    "start_time": "2023-08-03T15:04:34.236Z"
   },
   {
    "duration": 9,
    "start_time": "2023-08-03T15:04:34.260Z"
   },
   {
    "duration": 257,
    "start_time": "2023-08-03T15:04:34.270Z"
   },
   {
    "duration": 18,
    "start_time": "2023-08-03T15:04:34.530Z"
   },
   {
    "duration": 1776,
    "start_time": "2023-08-03T15:04:34.549Z"
   },
   {
    "duration": 17,
    "start_time": "2023-08-03T15:04:36.326Z"
   },
   {
    "duration": 17,
    "start_time": "2023-08-03T15:04:36.345Z"
   },
   {
    "duration": 239,
    "start_time": "2023-08-03T15:04:36.364Z"
   },
   {
    "duration": 21,
    "start_time": "2023-08-03T15:04:36.604Z"
   },
   {
    "duration": 23,
    "start_time": "2023-08-03T15:04:36.627Z"
   },
   {
    "duration": 26,
    "start_time": "2023-08-03T15:04:36.652Z"
   },
   {
    "duration": 1833,
    "start_time": "2023-08-03T15:04:36.679Z"
   },
   {
    "duration": 28,
    "start_time": "2023-08-03T15:04:38.513Z"
   },
   {
    "duration": 20,
    "start_time": "2023-08-03T15:04:38.542Z"
   },
   {
    "duration": 9,
    "start_time": "2023-08-03T15:04:38.563Z"
   },
   {
    "duration": 76,
    "start_time": "2023-08-03T15:04:38.573Z"
   },
   {
    "duration": 15,
    "start_time": "2023-08-03T15:04:38.651Z"
   },
   {
    "duration": 24,
    "start_time": "2023-08-03T15:04:38.668Z"
   },
   {
    "duration": 83,
    "start_time": "2023-08-03T15:04:38.694Z"
   },
   {
    "duration": 122,
    "start_time": "2023-08-03T15:04:38.778Z"
   },
   {
    "duration": 71,
    "start_time": "2023-08-03T15:04:38.902Z"
   },
   {
    "duration": 82,
    "start_time": "2023-08-03T15:04:38.975Z"
   },
   {
    "duration": 101,
    "start_time": "2023-08-03T15:04:39.059Z"
   },
   {
    "duration": 4,
    "start_time": "2023-08-03T15:04:39.162Z"
   },
   {
    "duration": 17,
    "start_time": "2023-08-03T15:04:39.167Z"
   },
   {
    "duration": 520,
    "start_time": "2023-08-03T15:04:39.186Z"
   },
   {
    "duration": 379,
    "start_time": "2023-08-03T15:04:39.708Z"
   },
   {
    "duration": 220,
    "start_time": "2023-08-03T15:04:40.089Z"
   },
   {
    "duration": 2,
    "start_time": "2023-08-03T15:04:40.311Z"
   },
   {
    "duration": 79,
    "start_time": "2023-08-03T15:04:40.314Z"
   },
   {
    "duration": 19116,
    "start_time": "2023-08-03T15:06:19.714Z"
   },
   {
    "duration": 106,
    "start_time": "2023-08-03T15:11:34.293Z"
   },
   {
    "duration": 1640,
    "start_time": "2023-08-03T15:31:53.931Z"
   },
   {
    "duration": 3,
    "start_time": "2023-08-03T15:31:55.573Z"
   },
   {
    "duration": 767,
    "start_time": "2023-08-03T15:31:55.577Z"
   },
   {
    "duration": 218,
    "start_time": "2023-08-03T15:31:56.346Z"
   },
   {
    "duration": 440,
    "start_time": "2023-08-03T15:31:56.566Z"
   },
   {
    "duration": 835,
    "start_time": "2023-08-03T15:31:57.008Z"
   },
   {
    "duration": 37,
    "start_time": "2023-08-03T15:31:57.846Z"
   },
   {
    "duration": 9,
    "start_time": "2023-08-03T15:31:57.885Z"
   },
   {
    "duration": 290,
    "start_time": "2023-08-03T15:31:57.896Z"
   },
   {
    "duration": 21,
    "start_time": "2023-08-03T15:31:58.188Z"
   },
   {
    "duration": 1944,
    "start_time": "2023-08-03T15:31:58.210Z"
   },
   {
    "duration": 18,
    "start_time": "2023-08-03T15:32:00.156Z"
   },
   {
    "duration": 33,
    "start_time": "2023-08-03T15:32:00.176Z"
   },
   {
    "duration": 291,
    "start_time": "2023-08-03T15:32:00.211Z"
   },
   {
    "duration": 30,
    "start_time": "2023-08-03T15:32:00.504Z"
   },
   {
    "duration": 15,
    "start_time": "2023-08-03T15:32:00.542Z"
   },
   {
    "duration": 46,
    "start_time": "2023-08-03T15:32:00.558Z"
   },
   {
    "duration": 2192,
    "start_time": "2023-08-03T15:32:00.605Z"
   },
   {
    "duration": 37,
    "start_time": "2023-08-03T15:32:02.798Z"
   },
   {
    "duration": 39,
    "start_time": "2023-08-03T15:32:02.837Z"
   },
   {
    "duration": 29,
    "start_time": "2023-08-03T15:32:02.878Z"
   },
   {
    "duration": 109,
    "start_time": "2023-08-03T15:32:02.909Z"
   },
   {
    "duration": 27,
    "start_time": "2023-08-03T15:32:03.020Z"
   },
   {
    "duration": 51,
    "start_time": "2023-08-03T15:32:03.049Z"
   },
   {
    "duration": 130,
    "start_time": "2023-08-03T15:32:03.101Z"
   },
   {
    "duration": 130,
    "start_time": "2023-08-03T15:32:03.233Z"
   },
   {
    "duration": 78,
    "start_time": "2023-08-03T15:32:03.365Z"
   },
   {
    "duration": 83,
    "start_time": "2023-08-03T15:32:03.446Z"
   },
   {
    "duration": 102,
    "start_time": "2023-08-03T15:32:03.531Z"
   },
   {
    "duration": 3,
    "start_time": "2023-08-03T15:32:03.636Z"
   },
   {
    "duration": 51,
    "start_time": "2023-08-03T15:32:03.640Z"
   },
   {
    "duration": 542,
    "start_time": "2023-08-03T15:32:03.692Z"
   },
   {
    "duration": 430,
    "start_time": "2023-08-03T15:32:04.237Z"
   },
   {
    "duration": 267,
    "start_time": "2023-08-03T15:32:04.669Z"
   },
   {
    "duration": 4,
    "start_time": "2023-08-03T15:32:04.939Z"
   },
   {
    "duration": 49794,
    "start_time": "2023-08-03T15:32:04.945Z"
   },
   {
    "duration": 1403,
    "start_time": "2023-08-03T17:08:51.923Z"
   },
   {
    "duration": 2,
    "start_time": "2023-08-03T17:08:53.330Z"
   },
   {
    "duration": 719,
    "start_time": "2023-08-03T17:08:53.334Z"
   },
   {
    "duration": 234,
    "start_time": "2023-08-03T17:08:54.055Z"
   },
   {
    "duration": 381,
    "start_time": "2023-08-03T17:08:54.292Z"
   },
   {
    "duration": 846,
    "start_time": "2023-08-03T17:08:54.675Z"
   },
   {
    "duration": 25,
    "start_time": "2023-08-03T17:08:55.523Z"
   },
   {
    "duration": 9,
    "start_time": "2023-08-03T17:08:55.550Z"
   },
   {
    "duration": 263,
    "start_time": "2023-08-03T17:08:55.560Z"
   },
   {
    "duration": 19,
    "start_time": "2023-08-03T17:08:55.824Z"
   },
   {
    "duration": 1799,
    "start_time": "2023-08-03T17:08:55.845Z"
   },
   {
    "duration": 16,
    "start_time": "2023-08-03T17:08:57.645Z"
   },
   {
    "duration": 18,
    "start_time": "2023-08-03T17:08:57.662Z"
   },
   {
    "duration": 241,
    "start_time": "2023-08-03T17:08:57.683Z"
   },
   {
    "duration": 17,
    "start_time": "2023-08-03T17:08:57.926Z"
   },
   {
    "duration": 16,
    "start_time": "2023-08-03T17:08:57.945Z"
   },
   {
    "duration": 30,
    "start_time": "2023-08-03T17:08:57.962Z"
   },
   {
    "duration": 1876,
    "start_time": "2023-08-03T17:08:57.994Z"
   },
   {
    "duration": 26,
    "start_time": "2023-08-03T17:08:59.872Z"
   },
   {
    "duration": 31,
    "start_time": "2023-08-03T17:08:59.899Z"
   },
   {
    "duration": 38,
    "start_time": "2023-08-03T17:08:59.931Z"
   },
   {
    "duration": 79,
    "start_time": "2023-08-03T17:08:59.970Z"
   },
   {
    "duration": 16,
    "start_time": "2023-08-03T17:09:00.051Z"
   },
   {
    "duration": 122,
    "start_time": "2023-08-03T17:09:00.068Z"
   },
   {
    "duration": 104,
    "start_time": "2023-08-03T17:09:00.192Z"
   },
   {
    "duration": 138,
    "start_time": "2023-08-03T17:09:00.298Z"
   },
   {
    "duration": 70,
    "start_time": "2023-08-03T17:09:00.437Z"
   },
   {
    "duration": 145,
    "start_time": "2023-08-03T17:09:00.508Z"
   },
   {
    "duration": 124,
    "start_time": "2023-08-03T17:09:00.654Z"
   },
   {
    "duration": 2,
    "start_time": "2023-08-03T17:09:00.780Z"
   },
   {
    "duration": 44,
    "start_time": "2023-08-03T17:09:00.783Z"
   },
   {
    "duration": 516,
    "start_time": "2023-08-03T17:09:00.828Z"
   },
   {
    "duration": 357,
    "start_time": "2023-08-03T17:09:01.346Z"
   },
   {
    "duration": 212,
    "start_time": "2023-08-03T17:09:01.704Z"
   },
   {
    "duration": 3,
    "start_time": "2023-08-03T17:09:01.917Z"
   },
   {
    "duration": 18217,
    "start_time": "2023-08-03T17:09:01.921Z"
   },
   {
    "duration": 3,
    "start_time": "2023-08-03T17:09:20.220Z"
   },
   {
    "duration": 52931,
    "start_time": "2023-08-03T17:09:20.225Z"
   },
   {
    "duration": 485972,
    "start_time": "2023-08-03T17:10:13.157Z"
   },
   {
    "duration": 4971,
    "start_time": "2023-08-03T17:21:22.041Z"
   },
   {
    "duration": 18386,
    "start_time": "2023-08-03T17:24:50.864Z"
   },
   {
    "duration": 9655,
    "start_time": "2023-08-03T17:28:47.810Z"
   },
   {
    "duration": 238987,
    "start_time": "2023-08-03T17:31:12.638Z"
   },
   {
    "duration": 3450,
    "start_time": "2023-08-03T17:37:34.764Z"
   },
   {
    "duration": 2356683,
    "start_time": "2023-08-03T17:39:19.559Z"
   },
   {
    "duration": 91541,
    "start_time": "2023-08-03T18:21:09.320Z"
   },
   {
    "duration": 23645,
    "start_time": "2023-08-03T18:40:46.301Z"
   },
   {
    "duration": 88,
    "start_time": "2023-08-03T18:41:17.736Z"
   },
   {
    "duration": 94489,
    "start_time": "2023-08-03T18:41:46.928Z"
   },
   {
    "duration": 351,
    "start_time": "2023-08-03T18:43:26.863Z"
   },
   {
    "duration": 5004,
    "start_time": "2023-08-03T18:44:00.650Z"
   },
   {
    "duration": 120,
    "start_time": "2023-08-03T18:44:19.605Z"
   },
   {
    "duration": 19505,
    "start_time": "2023-08-03T18:44:49.016Z"
   },
   {
    "duration": 1132,
    "start_time": "2023-08-03T18:45:16.397Z"
   },
   {
    "duration": 3679,
    "start_time": "2023-08-03T18:45:53.601Z"
   },
   {
    "duration": 51,
    "start_time": "2023-08-03T18:46:06.266Z"
   },
   {
    "duration": 118,
    "start_time": "2023-08-03T19:13:41.326Z"
   },
   {
    "duration": 96,
    "start_time": "2023-08-03T19:14:17.115Z"
   },
   {
    "duration": 9,
    "start_time": "2023-08-03T19:15:53.912Z"
   },
   {
    "duration": 109,
    "start_time": "2023-08-03T19:26:51.914Z"
   },
   {
    "duration": 3432,
    "start_time": "2023-08-03T20:21:41.604Z"
   },
   {
    "duration": 4,
    "start_time": "2023-08-03T20:21:45.038Z"
   },
   {
    "duration": 986,
    "start_time": "2023-08-03T20:21:45.043Z"
   },
   {
    "duration": 248,
    "start_time": "2023-08-03T20:21:46.031Z"
   },
   {
    "duration": 405,
    "start_time": "2023-08-03T20:21:46.282Z"
   },
   {
    "duration": 814,
    "start_time": "2023-08-03T20:21:46.689Z"
   },
   {
    "duration": 36,
    "start_time": "2023-08-03T20:21:47.505Z"
   },
   {
    "duration": 10,
    "start_time": "2023-08-03T20:21:47.543Z"
   },
   {
    "duration": 286,
    "start_time": "2023-08-03T20:21:47.554Z"
   },
   {
    "duration": 31,
    "start_time": "2023-08-03T20:21:47.843Z"
   },
   {
    "duration": 1861,
    "start_time": "2023-08-03T20:21:47.875Z"
   },
   {
    "duration": 17,
    "start_time": "2023-08-03T20:21:49.737Z"
   },
   {
    "duration": 17,
    "start_time": "2023-08-03T20:21:49.755Z"
   },
   {
    "duration": 249,
    "start_time": "2023-08-03T20:21:49.775Z"
   },
   {
    "duration": 16,
    "start_time": "2023-08-03T20:21:50.026Z"
   },
   {
    "duration": 18,
    "start_time": "2023-08-03T20:21:50.043Z"
   },
   {
    "duration": 35,
    "start_time": "2023-08-03T20:21:50.063Z"
   },
   {
    "duration": 1828,
    "start_time": "2023-08-03T20:21:50.099Z"
   },
   {
    "duration": 27,
    "start_time": "2023-08-03T20:21:51.928Z"
   },
   {
    "duration": 27,
    "start_time": "2023-08-03T20:21:51.956Z"
   },
   {
    "duration": 16,
    "start_time": "2023-08-03T20:21:51.984Z"
   },
   {
    "duration": 87,
    "start_time": "2023-08-03T20:21:52.002Z"
   },
   {
    "duration": 15,
    "start_time": "2023-08-03T20:21:52.090Z"
   },
   {
    "duration": 43,
    "start_time": "2023-08-03T20:21:52.107Z"
   },
   {
    "duration": 86,
    "start_time": "2023-08-03T20:21:52.152Z"
   },
   {
    "duration": 121,
    "start_time": "2023-08-03T20:21:52.239Z"
   },
   {
    "duration": 72,
    "start_time": "2023-08-03T20:21:52.362Z"
   },
   {
    "duration": 77,
    "start_time": "2023-08-03T20:21:52.435Z"
   },
   {
    "duration": 91,
    "start_time": "2023-08-03T20:21:52.519Z"
   },
   {
    "duration": 3,
    "start_time": "2023-08-03T20:21:52.619Z"
   },
   {
    "duration": 37,
    "start_time": "2023-08-03T20:21:52.623Z"
   },
   {
    "duration": 468,
    "start_time": "2023-08-03T20:21:52.662Z"
   },
   {
    "duration": 351,
    "start_time": "2023-08-03T20:21:53.132Z"
   },
   {
    "duration": 223,
    "start_time": "2023-08-03T20:21:53.485Z"
   },
   {
    "duration": 3,
    "start_time": "2023-08-03T20:21:53.709Z"
   },
   {
    "duration": 33749,
    "start_time": "2023-08-03T20:21:53.714Z"
   },
   {
    "duration": 158,
    "start_time": "2023-08-03T20:22:27.465Z"
   },
   {
    "duration": 5,
    "start_time": "2023-08-03T20:22:27.627Z"
   },
   {
    "duration": 97958,
    "start_time": "2023-08-03T20:22:27.633Z"
   },
   {
    "duration": 402,
    "start_time": "2023-08-03T20:24:05.592Z"
   },
   {
    "duration": 2,
    "start_time": "2023-08-03T20:24:05.999Z"
   },
   {
    "duration": 5301,
    "start_time": "2023-08-03T20:24:06.003Z"
   },
   {
    "duration": 137,
    "start_time": "2023-08-03T20:24:11.305Z"
   },
   {
    "duration": 552803,
    "start_time": "2023-08-03T20:24:11.445Z"
   },
   {
    "duration": 1654,
    "start_time": "2023-08-03T20:34:18.737Z"
   },
   {
    "duration": 3,
    "start_time": "2023-08-03T20:34:20.392Z"
   },
   {
    "duration": 930,
    "start_time": "2023-08-03T20:34:20.397Z"
   },
   {
    "duration": 230,
    "start_time": "2023-08-03T20:34:21.329Z"
   },
   {
    "duration": 392,
    "start_time": "2023-08-03T20:34:21.561Z"
   },
   {
    "duration": 791,
    "start_time": "2023-08-03T20:34:21.955Z"
   },
   {
    "duration": 24,
    "start_time": "2023-08-03T20:34:22.747Z"
   },
   {
    "duration": 9,
    "start_time": "2023-08-03T20:34:22.772Z"
   },
   {
    "duration": 269,
    "start_time": "2023-08-03T20:34:22.783Z"
   },
   {
    "duration": 18,
    "start_time": "2023-08-03T20:34:23.053Z"
   },
   {
    "duration": 1826,
    "start_time": "2023-08-03T20:34:23.073Z"
   },
   {
    "duration": 24,
    "start_time": "2023-08-03T20:34:24.901Z"
   },
   {
    "duration": 21,
    "start_time": "2023-08-03T20:34:24.927Z"
   },
   {
    "duration": 298,
    "start_time": "2023-08-03T20:34:24.952Z"
   },
   {
    "duration": 22,
    "start_time": "2023-08-03T20:34:25.251Z"
   },
   {
    "duration": 17,
    "start_time": "2023-08-03T20:34:25.275Z"
   },
   {
    "duration": 85,
    "start_time": "2023-08-03T20:34:25.294Z"
   },
   {
    "duration": 1937,
    "start_time": "2023-08-03T20:34:25.381Z"
   },
   {
    "duration": 34,
    "start_time": "2023-08-03T20:34:27.322Z"
   },
   {
    "duration": 14,
    "start_time": "2023-08-03T20:34:27.358Z"
   },
   {
    "duration": 8,
    "start_time": "2023-08-03T20:34:27.373Z"
   },
   {
    "duration": 91,
    "start_time": "2023-08-03T20:34:27.383Z"
   },
   {
    "duration": 16,
    "start_time": "2023-08-03T20:34:27.475Z"
   },
   {
    "duration": 33,
    "start_time": "2023-08-03T20:34:27.492Z"
   },
   {
    "duration": 80,
    "start_time": "2023-08-03T20:34:27.526Z"
   },
   {
    "duration": 122,
    "start_time": "2023-08-03T20:34:27.608Z"
   },
   {
    "duration": 89,
    "start_time": "2023-08-03T20:34:27.732Z"
   },
   {
    "duration": 75,
    "start_time": "2023-08-03T20:34:27.823Z"
   },
   {
    "duration": 104,
    "start_time": "2023-08-03T20:34:27.899Z"
   },
   {
    "duration": 2,
    "start_time": "2023-08-03T20:34:28.005Z"
   },
   {
    "duration": 28,
    "start_time": "2023-08-03T20:34:28.009Z"
   },
   {
    "duration": 550,
    "start_time": "2023-08-03T20:34:28.039Z"
   },
   {
    "duration": 400,
    "start_time": "2023-08-03T20:34:28.591Z"
   },
   {
    "duration": 234,
    "start_time": "2023-08-03T20:34:28.993Z"
   },
   {
    "duration": 3,
    "start_time": "2023-08-03T20:34:29.228Z"
   },
   {
    "duration": 26389,
    "start_time": "2023-08-03T20:34:29.232Z"
   },
   {
    "duration": 201,
    "start_time": "2023-08-03T20:34:55.622Z"
   },
   {
    "duration": 8,
    "start_time": "2023-08-03T20:34:55.826Z"
   },
   {
    "duration": 95495,
    "start_time": "2023-08-03T20:34:55.836Z"
   },
   {
    "duration": 349,
    "start_time": "2023-08-03T20:36:31.332Z"
   },
   {
    "duration": 3,
    "start_time": "2023-08-03T20:36:31.684Z"
   },
   {
    "duration": 4913,
    "start_time": "2023-08-03T20:36:31.688Z"
   },
   {
    "duration": 130,
    "start_time": "2023-08-03T20:36:36.602Z"
   },
   {
    "duration": 2,
    "start_time": "2023-08-03T20:36:36.733Z"
   },
   {
    "duration": 1268,
    "start_time": "2023-08-03T20:40:50.800Z"
   },
   {
    "duration": 2,
    "start_time": "2023-08-03T20:40:52.070Z"
   },
   {
    "duration": 718,
    "start_time": "2023-08-03T20:40:52.073Z"
   },
   {
    "duration": 211,
    "start_time": "2023-08-03T20:40:52.792Z"
   },
   {
    "duration": 380,
    "start_time": "2023-08-03T20:40:53.005Z"
   },
   {
    "duration": 737,
    "start_time": "2023-08-03T20:40:53.387Z"
   },
   {
    "duration": 22,
    "start_time": "2023-08-03T20:40:54.125Z"
   },
   {
    "duration": 9,
    "start_time": "2023-08-03T20:40:54.148Z"
   },
   {
    "duration": 251,
    "start_time": "2023-08-03T20:40:54.159Z"
   },
   {
    "duration": 24,
    "start_time": "2023-08-03T20:40:54.411Z"
   },
   {
    "duration": 1854,
    "start_time": "2023-08-03T20:40:54.436Z"
   },
   {
    "duration": 16,
    "start_time": "2023-08-03T20:40:56.291Z"
   },
   {
    "duration": 25,
    "start_time": "2023-08-03T20:40:56.308Z"
   },
   {
    "duration": 232,
    "start_time": "2023-08-03T20:40:56.335Z"
   },
   {
    "duration": 16,
    "start_time": "2023-08-03T20:40:56.568Z"
   },
   {
    "duration": 13,
    "start_time": "2023-08-03T20:40:56.585Z"
   },
   {
    "duration": 47,
    "start_time": "2023-08-03T20:40:56.600Z"
   },
   {
    "duration": 1862,
    "start_time": "2023-08-03T20:40:56.648Z"
   },
   {
    "duration": 32,
    "start_time": "2023-08-03T20:40:58.512Z"
   },
   {
    "duration": 14,
    "start_time": "2023-08-03T20:40:58.545Z"
   },
   {
    "duration": 13,
    "start_time": "2023-08-03T20:40:58.560Z"
   },
   {
    "duration": 79,
    "start_time": "2023-08-03T20:40:58.575Z"
   },
   {
    "duration": 17,
    "start_time": "2023-08-03T20:40:58.656Z"
   },
   {
    "duration": 25,
    "start_time": "2023-08-03T20:40:58.674Z"
   },
   {
    "duration": 88,
    "start_time": "2023-08-03T20:40:58.700Z"
   },
   {
    "duration": 115,
    "start_time": "2023-08-03T20:40:58.789Z"
   },
   {
    "duration": 73,
    "start_time": "2023-08-03T20:40:58.905Z"
   },
   {
    "duration": 80,
    "start_time": "2023-08-03T20:40:58.980Z"
   },
   {
    "duration": 106,
    "start_time": "2023-08-03T20:40:59.061Z"
   },
   {
    "duration": 3,
    "start_time": "2023-08-03T20:40:59.168Z"
   },
   {
    "duration": 19,
    "start_time": "2023-08-03T20:40:59.173Z"
   },
   {
    "duration": 501,
    "start_time": "2023-08-03T20:40:59.193Z"
   },
   {
    "duration": 362,
    "start_time": "2023-08-03T20:40:59.696Z"
   },
   {
    "duration": 229,
    "start_time": "2023-08-03T20:41:00.059Z"
   },
   {
    "duration": 3,
    "start_time": "2023-08-03T20:41:00.289Z"
   },
   {
    "duration": 29337,
    "start_time": "2023-08-03T20:41:00.294Z"
   },
   {
    "duration": 117,
    "start_time": "2023-08-03T20:41:29.721Z"
   },
   {
    "duration": 83,
    "start_time": "2023-08-03T20:41:29.839Z"
   },
   {
    "duration": 96057,
    "start_time": "2023-08-03T20:41:29.924Z"
   },
   {
    "duration": 355,
    "start_time": "2023-08-03T20:43:05.982Z"
   },
   {
    "duration": 3,
    "start_time": "2023-08-03T20:43:06.340Z"
   },
   {
    "duration": 4960,
    "start_time": "2023-08-03T20:43:06.344Z"
   },
   {
    "duration": 138,
    "start_time": "2023-08-03T20:43:11.305Z"
   },
   {
    "duration": 2,
    "start_time": "2023-08-03T20:43:11.445Z"
   },
   {
    "duration": 216879,
    "start_time": "2023-08-03T20:43:11.448Z"
   },
   {
    "duration": 1390,
    "start_time": "2023-08-03T20:46:48.330Z"
   },
   {
    "duration": 3,
    "start_time": "2023-08-03T20:46:49.722Z"
   },
   {
    "duration": 3772,
    "start_time": "2023-08-03T20:46:49.727Z"
   },
   {
    "duration": 59,
    "start_time": "2023-08-03T20:46:53.500Z"
   },
   {
    "duration": 10,
    "start_time": "2023-08-03T20:46:53.560Z"
   },
   {
    "duration": 8,
    "start_time": "2023-08-03T20:51:11.740Z"
   },
   {
    "duration": 1290,
    "start_time": "2023-08-03T21:35:12.498Z"
   },
   {
    "duration": 0,
    "start_time": "2023-08-03T21:35:13.791Z"
   },
   {
    "duration": 0,
    "start_time": "2023-08-03T21:35:13.793Z"
   },
   {
    "duration": 0,
    "start_time": "2023-08-03T21:35:13.794Z"
   },
   {
    "duration": 0,
    "start_time": "2023-08-03T21:35:13.795Z"
   },
   {
    "duration": 0,
    "start_time": "2023-08-03T21:35:13.797Z"
   },
   {
    "duration": 0,
    "start_time": "2023-08-03T21:35:13.798Z"
   },
   {
    "duration": 0,
    "start_time": "2023-08-03T21:35:13.799Z"
   },
   {
    "duration": 0,
    "start_time": "2023-08-03T21:35:13.800Z"
   },
   {
    "duration": 0,
    "start_time": "2023-08-03T21:35:13.801Z"
   },
   {
    "duration": 0,
    "start_time": "2023-08-03T21:35:13.802Z"
   },
   {
    "duration": 0,
    "start_time": "2023-08-03T21:35:13.803Z"
   },
   {
    "duration": 0,
    "start_time": "2023-08-03T21:35:13.804Z"
   },
   {
    "duration": 0,
    "start_time": "2023-08-03T21:35:13.820Z"
   },
   {
    "duration": 0,
    "start_time": "2023-08-03T21:35:13.821Z"
   },
   {
    "duration": 0,
    "start_time": "2023-08-03T21:35:13.822Z"
   },
   {
    "duration": 0,
    "start_time": "2023-08-03T21:35:13.823Z"
   },
   {
    "duration": 0,
    "start_time": "2023-08-03T21:35:13.824Z"
   },
   {
    "duration": 0,
    "start_time": "2023-08-03T21:35:13.826Z"
   },
   {
    "duration": 0,
    "start_time": "2023-08-03T21:35:13.827Z"
   },
   {
    "duration": 0,
    "start_time": "2023-08-03T21:35:13.828Z"
   },
   {
    "duration": 0,
    "start_time": "2023-08-03T21:35:13.829Z"
   },
   {
    "duration": 0,
    "start_time": "2023-08-03T21:35:13.830Z"
   },
   {
    "duration": 0,
    "start_time": "2023-08-03T21:35:13.831Z"
   },
   {
    "duration": 0,
    "start_time": "2023-08-03T21:35:13.833Z"
   },
   {
    "duration": 0,
    "start_time": "2023-08-03T21:35:13.833Z"
   },
   {
    "duration": 0,
    "start_time": "2023-08-03T21:35:13.835Z"
   },
   {
    "duration": 0,
    "start_time": "2023-08-03T21:35:13.836Z"
   },
   {
    "duration": 0,
    "start_time": "2023-08-03T21:35:13.837Z"
   },
   {
    "duration": 4,
    "start_time": "2023-08-03T21:35:27.903Z"
   },
   {
    "duration": 4,
    "start_time": "2023-08-03T21:35:28.736Z"
   },
   {
    "duration": 3,
    "start_time": "2023-08-03T21:35:29.442Z"
   },
   {
    "duration": 711,
    "start_time": "2023-08-03T21:35:29.519Z"
   },
   {
    "duration": 272,
    "start_time": "2023-08-03T21:35:30.231Z"
   },
   {
    "duration": 381,
    "start_time": "2023-08-03T21:35:30.504Z"
   },
   {
    "duration": 819,
    "start_time": "2023-08-03T21:35:30.887Z"
   },
   {
    "duration": 34,
    "start_time": "2023-08-03T21:35:31.708Z"
   },
   {
    "duration": 44,
    "start_time": "2023-08-03T21:35:31.743Z"
   },
   {
    "duration": 301,
    "start_time": "2023-08-03T21:35:31.788Z"
   },
   {
    "duration": 19,
    "start_time": "2023-08-03T21:35:32.090Z"
   },
   {
    "duration": 1750,
    "start_time": "2023-08-03T21:35:32.110Z"
   },
   {
    "duration": 16,
    "start_time": "2023-08-03T21:35:33.862Z"
   },
   {
    "duration": 39,
    "start_time": "2023-08-03T21:35:33.879Z"
   },
   {
    "duration": 295,
    "start_time": "2023-08-03T21:35:33.920Z"
   },
   {
    "duration": 15,
    "start_time": "2023-08-03T21:35:34.219Z"
   },
   {
    "duration": 11,
    "start_time": "2023-08-03T21:35:34.236Z"
   },
   {
    "duration": 94,
    "start_time": "2023-08-03T21:35:34.248Z"
   },
   {
    "duration": 1931,
    "start_time": "2023-08-03T21:35:34.343Z"
   },
   {
    "duration": 28,
    "start_time": "2023-08-03T21:35:36.275Z"
   },
   {
    "duration": 29,
    "start_time": "2023-08-03T21:35:36.304Z"
   },
   {
    "duration": 27,
    "start_time": "2023-08-03T21:35:36.335Z"
   },
   {
    "duration": 111,
    "start_time": "2023-08-03T21:35:36.364Z"
   },
   {
    "duration": 11,
    "start_time": "2023-08-03T21:35:36.476Z"
   },
   {
    "duration": 73,
    "start_time": "2023-08-03T21:35:36.489Z"
   },
   {
    "duration": 98,
    "start_time": "2023-08-03T21:35:36.563Z"
   },
   {
    "duration": 128,
    "start_time": "2023-08-03T21:35:36.663Z"
   },
   {
    "duration": 86,
    "start_time": "2023-08-03T21:35:36.792Z"
   },
   {
    "duration": 161,
    "start_time": "2023-08-03T21:35:36.879Z"
   },
   {
    "duration": 118,
    "start_time": "2023-08-03T21:35:37.044Z"
   },
   {
    "duration": 22,
    "start_time": "2023-08-03T21:35:40.065Z"
   },
   {
    "duration": 38,
    "start_time": "2023-08-03T21:35:44.299Z"
   },
   {
    "duration": 47,
    "start_time": "2023-08-04T14:43:26.490Z"
   },
   {
    "duration": 1738,
    "start_time": "2023-08-04T14:46:04.011Z"
   },
   {
    "duration": 4,
    "start_time": "2023-08-04T14:46:05.751Z"
   },
   {
    "duration": 3112,
    "start_time": "2023-08-04T14:46:05.756Z"
   },
   {
    "duration": 282,
    "start_time": "2023-08-04T14:46:08.871Z"
   },
   {
    "duration": 514,
    "start_time": "2023-08-04T14:46:09.154Z"
   },
   {
    "duration": 1098,
    "start_time": "2023-08-04T14:46:09.670Z"
   },
   {
    "duration": 30,
    "start_time": "2023-08-04T14:46:10.769Z"
   },
   {
    "duration": 13,
    "start_time": "2023-08-04T14:46:10.801Z"
   },
   {
    "duration": 343,
    "start_time": "2023-08-04T14:46:10.817Z"
   },
   {
    "duration": 30,
    "start_time": "2023-08-04T14:46:11.162Z"
   },
   {
    "duration": 2220,
    "start_time": "2023-08-04T14:46:11.193Z"
   },
   {
    "duration": 24,
    "start_time": "2023-08-04T14:46:13.415Z"
   },
   {
    "duration": 24,
    "start_time": "2023-08-04T14:46:13.441Z"
   },
   {
    "duration": 322,
    "start_time": "2023-08-04T14:46:13.475Z"
   },
   {
    "duration": 26,
    "start_time": "2023-08-04T14:46:13.798Z"
   },
   {
    "duration": 22,
    "start_time": "2023-08-04T14:46:13.827Z"
   },
   {
    "duration": 65,
    "start_time": "2023-08-04T14:46:13.851Z"
   },
   {
    "duration": 2333,
    "start_time": "2023-08-04T14:46:13.918Z"
   },
   {
    "duration": 40,
    "start_time": "2023-08-04T14:46:16.253Z"
   },
   {
    "duration": 26,
    "start_time": "2023-08-04T14:46:16.294Z"
   },
   {
    "duration": 25,
    "start_time": "2023-08-04T14:46:16.321Z"
   },
   {
    "duration": 86,
    "start_time": "2023-08-04T14:46:16.347Z"
   },
   {
    "duration": 19,
    "start_time": "2023-08-04T14:46:16.435Z"
   },
   {
    "duration": 52,
    "start_time": "2023-08-04T14:46:16.455Z"
   },
   {
    "duration": 99,
    "start_time": "2023-08-04T14:46:16.509Z"
   },
   {
    "duration": 161,
    "start_time": "2023-08-04T14:46:16.610Z"
   },
   {
    "duration": 117,
    "start_time": "2023-08-04T14:46:16.774Z"
   },
   {
    "duration": 325,
    "start_time": "2023-08-04T14:46:16.896Z"
   },
   {
    "duration": 114,
    "start_time": "2023-08-04T14:46:17.223Z"
   },
   {
    "duration": 143,
    "start_time": "2023-08-04T14:46:17.339Z"
   },
   {
    "duration": 4,
    "start_time": "2023-08-04T14:46:17.484Z"
   },
   {
    "duration": 19,
    "start_time": "2023-08-04T14:46:17.489Z"
   },
   {
    "duration": 857,
    "start_time": "2023-08-04T14:46:17.509Z"
   },
   {
    "duration": 523,
    "start_time": "2023-08-04T14:46:18.368Z"
   },
   {
    "duration": 346,
    "start_time": "2023-08-04T14:46:18.893Z"
   },
   {
    "duration": 4,
    "start_time": "2023-08-04T14:46:19.241Z"
   },
   {
    "duration": 27828,
    "start_time": "2023-08-04T14:46:19.247Z"
   },
   {
    "duration": 200,
    "start_time": "2023-08-04T14:46:47.077Z"
   },
   {
    "duration": 3,
    "start_time": "2023-08-04T14:46:47.279Z"
   },
   {
    "duration": 142706,
    "start_time": "2023-08-04T14:46:47.284Z"
   },
   {
    "duration": 617,
    "start_time": "2023-08-04T14:49:09.993Z"
   },
   {
    "duration": 3,
    "start_time": "2023-08-04T14:49:10.612Z"
   },
   {
    "duration": 7487,
    "start_time": "2023-08-04T14:49:10.617Z"
   },
   {
    "duration": 171,
    "start_time": "2023-08-04T14:49:18.106Z"
   },
   {
    "duration": 3,
    "start_time": "2023-08-04T14:49:18.278Z"
   },
   {
    "duration": 736606,
    "start_time": "2023-08-04T14:49:18.283Z"
   },
   {
    "duration": 1317,
    "start_time": "2023-08-04T15:01:34.891Z"
   },
   {
    "duration": 5,
    "start_time": "2023-08-04T15:01:36.277Z"
   },
   {
    "duration": 4465,
    "start_time": "2023-08-04T15:01:36.284Z"
   },
   {
    "duration": 74,
    "start_time": "2023-08-04T15:01:40.751Z"
   },
   {
    "duration": 10,
    "start_time": "2023-08-04T15:01:40.827Z"
   },
   {
    "duration": 9,
    "start_time": "2023-08-04T15:02:30.791Z"
   },
   {
    "duration": 268,
    "start_time": "2023-08-04T15:03:55.298Z"
   },
   {
    "duration": 7,
    "start_time": "2023-08-04T15:04:31.793Z"
   },
   {
    "duration": 10,
    "start_time": "2023-08-04T15:05:49.335Z"
   },
   {
    "duration": 21,
    "start_time": "2023-08-04T15:06:32.570Z"
   },
   {
    "duration": 50,
    "start_time": "2023-08-04T15:07:37.055Z"
   },
   {
    "duration": 24,
    "start_time": "2023-08-04T15:08:37.469Z"
   },
   {
    "duration": 140,
    "start_time": "2023-08-04T15:10:15.199Z"
   },
   {
    "duration": 249,
    "start_time": "2023-08-04T15:11:09.021Z"
   },
   {
    "duration": 149,
    "start_time": "2023-08-04T15:11:14.397Z"
   },
   {
    "duration": 17,
    "start_time": "2023-08-04T15:11:29.626Z"
   },
   {
    "duration": 23,
    "start_time": "2023-08-04T15:12:05.866Z"
   },
   {
    "duration": 21,
    "start_time": "2023-08-04T15:12:14.390Z"
   },
   {
    "duration": 4,
    "start_time": "2023-08-04T15:13:01.913Z"
   },
   {
    "duration": 117,
    "start_time": "2023-08-04T15:13:07.523Z"
   },
   {
    "duration": 19,
    "start_time": "2023-08-04T15:13:12.329Z"
   },
   {
    "duration": 26,
    "start_time": "2023-08-04T15:13:22.675Z"
   },
   {
    "duration": 25,
    "start_time": "2023-08-04T15:21:08.096Z"
   },
   {
    "duration": 97,
    "start_time": "2023-08-04T15:21:10.646Z"
   },
   {
    "duration": 114,
    "start_time": "2023-08-04T15:37:37.848Z"
   },
   {
    "duration": 119,
    "start_time": "2023-08-04T15:59:37.095Z"
   },
   {
    "duration": 4,
    "start_time": "2023-08-04T15:59:43.331Z"
   },
   {
    "duration": 17,
    "start_time": "2023-08-04T16:00:09.831Z"
   },
   {
    "duration": 12,
    "start_time": "2023-08-04T16:00:12.658Z"
   },
   {
    "duration": 62,
    "start_time": "2023-08-04T16:00:59.693Z"
   },
   {
    "duration": 42,
    "start_time": "2023-08-04T16:01:12.597Z"
   },
   {
    "duration": 4,
    "start_time": "2023-08-04T16:05:52.620Z"
   },
   {
    "duration": 48,
    "start_time": "2023-08-04T16:06:02.891Z"
   },
   {
    "duration": 131,
    "start_time": "2023-08-04T16:12:27.360Z"
   },
   {
    "duration": 127,
    "start_time": "2023-08-04T16:12:52.398Z"
   },
   {
    "duration": 1411,
    "start_time": "2023-08-04T16:16:48.961Z"
   },
   {
    "duration": 7,
    "start_time": "2023-08-04T16:18:41.263Z"
   },
   {
    "duration": 1402,
    "start_time": "2023-08-04T16:18:51.121Z"
   },
   {
    "duration": 9,
    "start_time": "2023-08-04T16:21:33.948Z"
   },
   {
    "duration": 1353,
    "start_time": "2023-08-04T16:21:45.663Z"
   },
   {
    "duration": 4,
    "start_time": "2023-08-04T16:22:58.416Z"
   },
   {
    "duration": 1337,
    "start_time": "2023-08-04T16:23:06.199Z"
   },
   {
    "duration": 5,
    "start_time": "2023-08-04T16:23:52.912Z"
   },
   {
    "duration": 1378,
    "start_time": "2023-08-04T16:24:01.219Z"
   },
   {
    "duration": 1407,
    "start_time": "2023-08-04T16:25:03.632Z"
   },
   {
    "duration": 57,
    "start_time": "2023-08-04T16:25:40.415Z"
   },
   {
    "duration": 1643,
    "start_time": "2023-08-04T16:26:07.853Z"
   },
   {
    "duration": 4,
    "start_time": "2023-08-04T16:26:09.497Z"
   },
   {
    "duration": 3434,
    "start_time": "2023-08-04T16:26:09.502Z"
   },
   {
    "duration": 278,
    "start_time": "2023-08-04T16:26:12.938Z"
   },
   {
    "duration": 537,
    "start_time": "2023-08-04T16:26:13.217Z"
   },
   {
    "duration": 1107,
    "start_time": "2023-08-04T16:26:13.756Z"
   },
   {
    "duration": 34,
    "start_time": "2023-08-04T16:26:14.864Z"
   },
   {
    "duration": 13,
    "start_time": "2023-08-04T16:26:14.900Z"
   },
   {
    "duration": 398,
    "start_time": "2023-08-04T16:26:14.915Z"
   },
   {
    "duration": 23,
    "start_time": "2023-08-04T16:26:15.316Z"
   },
   {
    "duration": 2376,
    "start_time": "2023-08-04T16:26:15.340Z"
   },
   {
    "duration": 22,
    "start_time": "2023-08-04T16:26:17.718Z"
   },
   {
    "duration": 40,
    "start_time": "2023-08-04T16:26:17.742Z"
   },
   {
    "duration": 322,
    "start_time": "2023-08-04T16:26:17.788Z"
   },
   {
    "duration": 23,
    "start_time": "2023-08-04T16:26:18.112Z"
   },
   {
    "duration": 17,
    "start_time": "2023-08-04T16:26:18.136Z"
   },
   {
    "duration": 65,
    "start_time": "2023-08-04T16:26:18.154Z"
   },
   {
    "duration": 2620,
    "start_time": "2023-08-04T16:26:18.220Z"
   },
   {
    "duration": 55,
    "start_time": "2023-08-04T16:26:20.841Z"
   },
   {
    "duration": 39,
    "start_time": "2023-08-04T16:26:20.898Z"
   },
   {
    "duration": 40,
    "start_time": "2023-08-04T16:26:20.939Z"
   },
   {
    "duration": 109,
    "start_time": "2023-08-04T16:26:20.981Z"
   },
   {
    "duration": 21,
    "start_time": "2023-08-04T16:26:21.092Z"
   },
   {
    "duration": 31,
    "start_time": "2023-08-04T16:26:21.116Z"
   },
   {
    "duration": 124,
    "start_time": "2023-08-04T16:26:21.148Z"
   },
   {
    "duration": 170,
    "start_time": "2023-08-04T16:26:21.274Z"
   },
   {
    "duration": 106,
    "start_time": "2023-08-04T16:26:21.446Z"
   },
   {
    "duration": 6,
    "start_time": "2023-08-04T16:26:21.555Z"
   },
   {
    "duration": 36,
    "start_time": "2023-08-04T16:26:21.575Z"
   },
   {
    "duration": 16,
    "start_time": "2023-08-04T16:26:21.613Z"
   },
   {
    "duration": 18,
    "start_time": "2023-08-04T16:26:21.630Z"
   },
   {
    "duration": 49,
    "start_time": "2023-08-04T16:26:21.649Z"
   },
   {
    "duration": 116,
    "start_time": "2023-08-04T16:26:21.700Z"
   },
   {
    "duration": 3,
    "start_time": "2023-08-04T16:26:21.818Z"
   },
   {
    "duration": 28,
    "start_time": "2023-08-04T16:26:21.822Z"
   },
   {
    "duration": 348,
    "start_time": "2023-08-04T16:26:21.852Z"
   },
   {
    "duration": 0,
    "start_time": "2023-08-04T16:26:22.203Z"
   },
   {
    "duration": 1,
    "start_time": "2023-08-04T16:26:22.203Z"
   },
   {
    "duration": 0,
    "start_time": "2023-08-04T16:26:22.205Z"
   },
   {
    "duration": 0,
    "start_time": "2023-08-04T16:26:22.206Z"
   },
   {
    "duration": 0,
    "start_time": "2023-08-04T16:26:22.207Z"
   },
   {
    "duration": 0,
    "start_time": "2023-08-04T16:26:22.208Z"
   },
   {
    "duration": 0,
    "start_time": "2023-08-04T16:26:22.209Z"
   },
   {
    "duration": 0,
    "start_time": "2023-08-04T16:26:22.210Z"
   },
   {
    "duration": 0,
    "start_time": "2023-08-04T16:26:22.211Z"
   },
   {
    "duration": 0,
    "start_time": "2023-08-04T16:26:22.212Z"
   },
   {
    "duration": 0,
    "start_time": "2023-08-04T16:26:22.213Z"
   },
   {
    "duration": 0,
    "start_time": "2023-08-04T16:26:22.214Z"
   },
   {
    "duration": 0,
    "start_time": "2023-08-04T16:26:22.215Z"
   },
   {
    "duration": 0,
    "start_time": "2023-08-04T16:26:22.216Z"
   },
   {
    "duration": 0,
    "start_time": "2023-08-04T16:26:22.217Z"
   },
   {
    "duration": 0,
    "start_time": "2023-08-04T16:26:22.218Z"
   },
   {
    "duration": 567,
    "start_time": "2023-08-04T16:29:36.412Z"
   },
   {
    "duration": 496,
    "start_time": "2023-08-04T16:29:48.836Z"
   },
   {
    "duration": 529,
    "start_time": "2023-08-04T16:30:34.030Z"
   },
   {
    "duration": 5,
    "start_time": "2023-08-04T16:30:55.650Z"
   },
   {
    "duration": 3,
    "start_time": "2023-08-04T16:30:58.819Z"
   },
   {
    "duration": 884,
    "start_time": "2023-08-04T16:31:03.778Z"
   },
   {
    "duration": 239,
    "start_time": "2023-08-04T16:31:06.906Z"
   },
   {
    "duration": 466,
    "start_time": "2023-08-04T16:31:13.194Z"
   },
   {
    "duration": 963,
    "start_time": "2023-08-04T16:31:15.991Z"
   },
   {
    "duration": 38,
    "start_time": "2023-08-04T16:31:18.763Z"
   },
   {
    "duration": 11,
    "start_time": "2023-08-04T16:31:27.058Z"
   },
   {
    "duration": 385,
    "start_time": "2023-08-04T16:31:30.110Z"
   },
   {
    "duration": 20,
    "start_time": "2023-08-04T16:31:35.930Z"
   },
   {
    "duration": 2258,
    "start_time": "2023-08-04T16:31:42.956Z"
   },
   {
    "duration": 23,
    "start_time": "2023-08-04T16:31:47.624Z"
   },
   {
    "duration": 19,
    "start_time": "2023-08-04T16:31:53.323Z"
   },
   {
    "duration": 318,
    "start_time": "2023-08-04T16:31:56.363Z"
   },
   {
    "duration": 21,
    "start_time": "2023-08-04T16:32:03.495Z"
   },
   {
    "duration": 19,
    "start_time": "2023-08-04T16:32:06.672Z"
   },
   {
    "duration": 32,
    "start_time": "2023-08-04T16:32:13.119Z"
   },
   {
    "duration": 2441,
    "start_time": "2023-08-04T16:32:18.040Z"
   },
   {
    "duration": 35,
    "start_time": "2023-08-04T16:32:23.501Z"
   },
   {
    "duration": 15,
    "start_time": "2023-08-04T16:32:33.450Z"
   },
   {
    "duration": 16,
    "start_time": "2023-08-04T16:32:35.674Z"
   },
   {
    "duration": 117,
    "start_time": "2023-08-04T16:33:25.004Z"
   },
   {
    "duration": 8,
    "start_time": "2023-08-04T16:33:54.236Z"
   },
   {
    "duration": 90,
    "start_time": "2023-08-04T16:34:05.256Z"
   },
   {
    "duration": 108,
    "start_time": "2023-08-04T16:34:10.360Z"
   },
   {
    "duration": 95,
    "start_time": "2023-08-04T16:34:15.157Z"
   },
   {
    "duration": 6,
    "start_time": "2023-08-04T16:34:17.314Z"
   },
   {
    "duration": 23,
    "start_time": "2023-08-04T16:34:22.558Z"
   },
   {
    "duration": 19,
    "start_time": "2023-08-04T16:34:27.137Z"
   },
   {
    "duration": 19,
    "start_time": "2023-08-04T16:34:29.537Z"
   },
   {
    "duration": 31,
    "start_time": "2023-08-04T16:34:34.710Z"
   },
   {
    "duration": 91,
    "start_time": "2023-08-04T16:34:37.300Z"
   },
   {
    "duration": 1659,
    "start_time": "2023-08-04T16:37:03.840Z"
   },
   {
    "duration": 2,
    "start_time": "2023-08-04T16:37:05.502Z"
   },
   {
    "duration": 3361,
    "start_time": "2023-08-04T16:37:05.506Z"
   },
   {
    "duration": 263,
    "start_time": "2023-08-04T16:37:08.869Z"
   },
   {
    "duration": 517,
    "start_time": "2023-08-04T16:37:09.135Z"
   },
   {
    "duration": 1103,
    "start_time": "2023-08-04T16:37:09.654Z"
   },
   {
    "duration": 40,
    "start_time": "2023-08-04T16:37:10.759Z"
   },
   {
    "duration": 12,
    "start_time": "2023-08-04T16:37:10.802Z"
   },
   {
    "duration": 363,
    "start_time": "2023-08-04T16:37:10.815Z"
   },
   {
    "duration": 36,
    "start_time": "2023-08-04T16:37:11.189Z"
   },
   {
    "duration": 2298,
    "start_time": "2023-08-04T16:37:11.227Z"
   },
   {
    "duration": 21,
    "start_time": "2023-08-04T16:37:13.527Z"
   },
   {
    "duration": 30,
    "start_time": "2023-08-04T16:37:13.549Z"
   },
   {
    "duration": 351,
    "start_time": "2023-08-04T16:37:13.585Z"
   },
   {
    "duration": 19,
    "start_time": "2023-08-04T16:37:13.938Z"
   },
   {
    "duration": 60,
    "start_time": "2023-08-04T16:37:13.959Z"
   },
   {
    "duration": 35,
    "start_time": "2023-08-04T16:37:14.021Z"
   },
   {
    "duration": 2481,
    "start_time": "2023-08-04T16:37:14.058Z"
   },
   {
    "duration": 42,
    "start_time": "2023-08-04T16:37:16.540Z"
   },
   {
    "duration": 27,
    "start_time": "2023-08-04T16:37:16.584Z"
   },
   {
    "duration": 9,
    "start_time": "2023-08-04T16:37:16.613Z"
   },
   {
    "duration": 141,
    "start_time": "2023-08-04T16:37:16.623Z"
   },
   {
    "duration": 10,
    "start_time": "2023-08-04T16:37:16.765Z"
   },
   {
    "duration": 129,
    "start_time": "2023-08-04T16:37:16.777Z"
   },
   {
    "duration": 114,
    "start_time": "2023-08-04T16:37:16.908Z"
   },
   {
    "duration": 97,
    "start_time": "2023-08-04T16:37:17.023Z"
   },
   {
    "duration": 10,
    "start_time": "2023-08-04T16:37:17.122Z"
   },
   {
    "duration": 19,
    "start_time": "2023-08-04T16:37:17.134Z"
   },
   {
    "duration": 27,
    "start_time": "2023-08-04T16:37:17.175Z"
   },
   {
    "duration": 17,
    "start_time": "2023-08-04T16:37:17.204Z"
   },
   {
    "duration": 41,
    "start_time": "2023-08-04T16:37:17.223Z"
   },
   {
    "duration": 126,
    "start_time": "2023-08-04T16:37:17.273Z"
   },
   {
    "duration": 6,
    "start_time": "2023-08-04T16:37:17.402Z"
   },
   {
    "duration": 8,
    "start_time": "2023-08-04T16:37:17.410Z"
   },
   {
    "duration": 132,
    "start_time": "2023-08-04T16:37:17.419Z"
   },
   {
    "duration": 1681,
    "start_time": "2023-08-04T16:38:31.998Z"
   },
   {
    "duration": 6,
    "start_time": "2023-08-04T16:38:33.684Z"
   },
   {
    "duration": 3378,
    "start_time": "2023-08-04T16:38:33.692Z"
   },
   {
    "duration": 307,
    "start_time": "2023-08-04T16:38:37.072Z"
   },
   {
    "duration": 503,
    "start_time": "2023-08-04T16:38:37.383Z"
   },
   {
    "duration": 1056,
    "start_time": "2023-08-04T16:38:37.891Z"
   },
   {
    "duration": 42,
    "start_time": "2023-08-04T16:38:38.948Z"
   },
   {
    "duration": 13,
    "start_time": "2023-08-04T16:38:38.993Z"
   },
   {
    "duration": 325,
    "start_time": "2023-08-04T16:38:39.008Z"
   },
   {
    "duration": 21,
    "start_time": "2023-08-04T16:38:39.336Z"
   },
   {
    "duration": 2381,
    "start_time": "2023-08-04T16:38:39.359Z"
   },
   {
    "duration": 19,
    "start_time": "2023-08-04T16:38:41.741Z"
   },
   {
    "duration": 41,
    "start_time": "2023-08-04T16:38:41.762Z"
   },
   {
    "duration": 351,
    "start_time": "2023-08-04T16:38:41.806Z"
   },
   {
    "duration": 34,
    "start_time": "2023-08-04T16:38:42.158Z"
   },
   {
    "duration": 13,
    "start_time": "2023-08-04T16:38:42.204Z"
   },
   {
    "duration": 39,
    "start_time": "2023-08-04T16:38:42.219Z"
   },
   {
    "duration": 2672,
    "start_time": "2023-08-04T16:38:42.260Z"
   },
   {
    "duration": 31,
    "start_time": "2023-08-04T16:38:44.934Z"
   },
   {
    "duration": 45,
    "start_time": "2023-08-04T16:38:44.966Z"
   },
   {
    "duration": 44,
    "start_time": "2023-08-04T16:38:45.013Z"
   },
   {
    "duration": 155,
    "start_time": "2023-08-04T16:38:45.059Z"
   },
   {
    "duration": 8,
    "start_time": "2023-08-04T16:38:45.216Z"
   },
   {
    "duration": 102,
    "start_time": "2023-08-04T16:38:45.226Z"
   },
   {
    "duration": 106,
    "start_time": "2023-08-04T16:38:45.330Z"
   },
   {
    "duration": 90,
    "start_time": "2023-08-04T16:38:45.438Z"
   },
   {
    "duration": 43,
    "start_time": "2023-08-04T16:38:45.529Z"
   },
   {
    "duration": 34,
    "start_time": "2023-08-04T16:38:45.576Z"
   },
   {
    "duration": 40,
    "start_time": "2023-08-04T16:38:45.612Z"
   },
   {
    "duration": 16,
    "start_time": "2023-08-04T16:38:45.654Z"
   },
   {
    "duration": 50,
    "start_time": "2023-08-04T16:38:45.671Z"
   },
   {
    "duration": 94,
    "start_time": "2023-08-04T16:38:45.723Z"
   },
   {
    "duration": 14,
    "start_time": "2023-08-04T16:38:45.819Z"
   },
   {
    "duration": 12,
    "start_time": "2023-08-04T16:38:45.835Z"
   },
   {
    "duration": 126,
    "start_time": "2023-08-04T16:38:45.848Z"
   },
   {
    "duration": 1352,
    "start_time": "2023-08-04T16:38:45.975Z"
   },
   {
    "duration": 0,
    "start_time": "2023-08-04T16:38:47.328Z"
   },
   {
    "duration": 0,
    "start_time": "2023-08-04T16:38:47.329Z"
   },
   {
    "duration": 0,
    "start_time": "2023-08-04T16:38:47.330Z"
   },
   {
    "duration": 0,
    "start_time": "2023-08-04T16:38:47.332Z"
   },
   {
    "duration": 0,
    "start_time": "2023-08-04T16:38:47.332Z"
   },
   {
    "duration": 0,
    "start_time": "2023-08-04T16:38:47.334Z"
   },
   {
    "duration": 0,
    "start_time": "2023-08-04T16:38:47.335Z"
   },
   {
    "duration": 0,
    "start_time": "2023-08-04T16:38:47.336Z"
   },
   {
    "duration": 0,
    "start_time": "2023-08-04T16:38:47.336Z"
   },
   {
    "duration": 0,
    "start_time": "2023-08-04T16:38:47.337Z"
   },
   {
    "duration": 1,
    "start_time": "2023-08-04T16:38:47.338Z"
   },
   {
    "duration": 0,
    "start_time": "2023-08-04T16:38:47.340Z"
   },
   {
    "duration": 0,
    "start_time": "2023-08-04T16:38:47.341Z"
   },
   {
    "duration": 0,
    "start_time": "2023-08-04T16:38:47.342Z"
   },
   {
    "duration": 0,
    "start_time": "2023-08-04T16:38:47.343Z"
   },
   {
    "duration": 0,
    "start_time": "2023-08-04T16:38:47.344Z"
   },
   {
    "duration": 0,
    "start_time": "2023-08-04T16:38:47.345Z"
   },
   {
    "duration": 0,
    "start_time": "2023-08-04T16:38:47.374Z"
   },
   {
    "duration": 7,
    "start_time": "2023-08-04T16:40:34.215Z"
   },
   {
    "duration": 1271,
    "start_time": "2023-08-04T16:40:45.931Z"
   },
   {
    "duration": 9,
    "start_time": "2023-08-04T16:43:09.928Z"
   },
   {
    "duration": 1281,
    "start_time": "2023-08-04T16:43:24.250Z"
   },
   {
    "duration": 4,
    "start_time": "2023-08-04T16:44:09.902Z"
   },
   {
    "duration": 1342,
    "start_time": "2023-08-04T16:44:27.593Z"
   },
   {
    "duration": 1251,
    "start_time": "2023-08-04T16:45:03.621Z"
   },
   {
    "duration": 7,
    "start_time": "2023-08-04T16:51:55.435Z"
   },
   {
    "duration": 1253,
    "start_time": "2023-08-04T16:52:06.459Z"
   },
   {
    "duration": 9,
    "start_time": "2023-08-04T16:54:12.469Z"
   },
   {
    "duration": 16,
    "start_time": "2023-08-04T16:54:23.776Z"
   },
   {
    "duration": 8,
    "start_time": "2023-08-04T16:54:29.796Z"
   },
   {
    "duration": 23,
    "start_time": "2023-08-04T16:56:50.565Z"
   },
   {
    "duration": 25,
    "start_time": "2023-08-04T16:57:06.065Z"
   },
   {
    "duration": 25,
    "start_time": "2023-08-04T16:57:12.442Z"
   },
   {
    "duration": 1350,
    "start_time": "2023-08-04T16:57:27.810Z"
   },
   {
    "duration": 25,
    "start_time": "2023-08-04T17:02:35.436Z"
   },
   {
    "duration": 65,
    "start_time": "2023-08-04T17:02:37.805Z"
   },
   {
    "duration": 5,
    "start_time": "2023-08-04T17:21:10.023Z"
   },
   {
    "duration": 14,
    "start_time": "2023-08-04T17:36:13.621Z"
   },
   {
    "duration": 648,
    "start_time": "2023-08-04T17:36:27.889Z"
   },
   {
    "duration": 86,
    "start_time": "2023-08-04T17:36:31.530Z"
   },
   {
    "duration": 805,
    "start_time": "2023-08-04T17:36:34.301Z"
   },
   {
    "duration": 321,
    "start_time": "2023-08-04T17:36:37.707Z"
   },
   {
    "duration": 346,
    "start_time": "2023-08-04T17:36:51.302Z"
   },
   {
    "duration": 4,
    "start_time": "2023-08-04T17:37:29.125Z"
   },
   {
    "duration": 4,
    "start_time": "2023-08-04T17:38:04.241Z"
   },
   {
    "duration": 227,
    "start_time": "2023-08-04T17:58:45.007Z"
   },
   {
    "duration": 15,
    "start_time": "2023-08-04T17:59:13.159Z"
   },
   {
    "duration": 22,
    "start_time": "2023-08-04T18:00:27.192Z"
   },
   {
    "duration": 58,
    "start_time": "2023-08-04T18:06:51.507Z"
   },
   {
    "duration": 59,
    "start_time": "2023-08-04T18:07:17.107Z"
   },
   {
    "duration": 74,
    "start_time": "2023-08-04T18:07:30.577Z"
   },
   {
    "duration": 55,
    "start_time": "2023-08-04T18:07:36.504Z"
   },
   {
    "duration": 207973,
    "start_time": "2023-08-04T18:08:16.771Z"
   },
   {
    "duration": 187938,
    "start_time": "2023-08-04T18:12:24.940Z"
   },
   {
    "duration": 83,
    "start_time": "2023-08-04T18:20:24.427Z"
   },
   {
    "duration": 58,
    "start_time": "2023-08-04T18:20:30.297Z"
   },
   {
    "duration": 603,
    "start_time": "2023-08-04T18:20:33.048Z"
   },
   {
    "duration": 75,
    "start_time": "2023-08-04T18:21:17.765Z"
   },
   {
    "duration": 846,
    "start_time": "2023-08-04T18:21:23.234Z"
   },
   {
    "duration": 478,
    "start_time": "2023-08-04T18:21:56.509Z"
   },
   {
    "duration": 219,
    "start_time": "2023-08-04T18:22:48.242Z"
   },
   {
    "duration": 3,
    "start_time": "2023-08-04T18:22:57.795Z"
   },
   {
    "duration": 25692,
    "start_time": "2023-08-04T18:25:28.799Z"
   },
   {
    "duration": 177,
    "start_time": "2023-08-04T18:26:03.501Z"
   },
   {
    "duration": 73197,
    "start_time": "2023-08-04T18:26:26.602Z"
   },
   {
    "duration": 659,
    "start_time": "2023-08-04T18:27:54.966Z"
   },
   {
    "duration": 3711,
    "start_time": "2023-08-04T18:28:29.930Z"
   },
   {
    "duration": 190,
    "start_time": "2023-08-04T18:28:36.891Z"
   },
   {
    "duration": 771555,
    "start_time": "2023-08-04T18:29:49.639Z"
   },
   {
    "duration": 1208,
    "start_time": "2023-08-04T18:44:16.974Z"
   },
   {
    "duration": 2193,
    "start_time": "2023-08-04T18:45:37.174Z"
   },
   {
    "duration": 27,
    "start_time": "2023-08-04T18:45:49.845Z"
   },
   {
    "duration": 9,
    "start_time": "2023-08-04T18:46:47.438Z"
   },
   {
    "duration": 2164,
    "start_time": "2023-08-04T18:49:31.302Z"
   },
   {
    "duration": 2298,
    "start_time": "2023-08-04T18:50:39.654Z"
   },
   {
    "duration": 26,
    "start_time": "2023-08-04T18:50:49.032Z"
   },
   {
    "duration": 42,
    "start_time": "2023-08-04T18:51:08.087Z"
   },
   {
    "duration": 1699,
    "start_time": "2023-08-04T23:39:28.110Z"
   },
   {
    "duration": 4,
    "start_time": "2023-08-04T23:39:29.811Z"
   },
   {
    "duration": 1308,
    "start_time": "2023-08-04T23:39:29.816Z"
   },
   {
    "duration": 273,
    "start_time": "2023-08-04T23:39:31.125Z"
   },
   {
    "duration": 516,
    "start_time": "2023-08-04T23:39:31.411Z"
   },
   {
    "duration": 1111,
    "start_time": "2023-08-04T23:39:31.929Z"
   },
   {
    "duration": 27,
    "start_time": "2023-08-04T23:39:33.041Z"
   },
   {
    "duration": 10,
    "start_time": "2023-08-04T23:39:33.070Z"
   },
   {
    "duration": 290,
    "start_time": "2023-08-04T23:39:33.095Z"
   },
   {
    "duration": 31,
    "start_time": "2023-08-04T23:39:33.387Z"
   },
   {
    "duration": 2346,
    "start_time": "2023-08-04T23:39:33.420Z"
   },
   {
    "duration": 21,
    "start_time": "2023-08-04T23:39:35.767Z"
   },
   {
    "duration": 25,
    "start_time": "2023-08-04T23:39:35.795Z"
   },
   {
    "duration": 318,
    "start_time": "2023-08-04T23:39:35.824Z"
   },
   {
    "duration": 19,
    "start_time": "2023-08-04T23:39:36.144Z"
   },
   {
    "duration": 14,
    "start_time": "2023-08-04T23:39:36.164Z"
   },
   {
    "duration": 54,
    "start_time": "2023-08-04T23:39:36.194Z"
   },
   {
    "duration": 2438,
    "start_time": "2023-08-04T23:39:36.250Z"
   },
   {
    "duration": 40,
    "start_time": "2023-08-04T23:39:38.690Z"
   },
   {
    "duration": 20,
    "start_time": "2023-08-04T23:39:38.731Z"
   },
   {
    "duration": 14,
    "start_time": "2023-08-04T23:39:38.752Z"
   },
   {
    "duration": 124,
    "start_time": "2023-08-04T23:39:38.767Z"
   },
   {
    "duration": 19,
    "start_time": "2023-08-04T23:39:38.892Z"
   },
   {
    "duration": 86,
    "start_time": "2023-08-04T23:39:38.913Z"
   },
   {
    "duration": 88,
    "start_time": "2023-08-04T23:39:39.004Z"
   },
   {
    "duration": 81,
    "start_time": "2023-08-04T23:39:39.093Z"
   },
   {
    "duration": 27,
    "start_time": "2023-08-04T23:39:39.176Z"
   },
   {
    "duration": 19,
    "start_time": "2023-08-04T23:39:39.205Z"
   },
   {
    "duration": 16,
    "start_time": "2023-08-04T23:39:39.226Z"
   },
   {
    "duration": 17,
    "start_time": "2023-08-04T23:39:39.244Z"
   },
   {
    "duration": 43,
    "start_time": "2023-08-04T23:39:39.262Z"
   },
   {
    "duration": 78,
    "start_time": "2023-08-04T23:39:39.307Z"
   },
   {
    "duration": 25,
    "start_time": "2023-08-04T23:39:39.387Z"
   },
   {
    "duration": 99,
    "start_time": "2023-08-04T23:39:39.415Z"
   },
   {
    "duration": 47,
    "start_time": "2023-08-04T23:39:39.516Z"
   },
   {
    "duration": 227,
    "start_time": "2023-08-04T23:39:39.564Z"
   },
   {
    "duration": 154,
    "start_time": "2023-08-04T23:39:39.793Z"
   },
   {
    "duration": 0,
    "start_time": "2023-08-04T23:39:39.949Z"
   },
   {
    "duration": 0,
    "start_time": "2023-08-04T23:39:39.950Z"
   },
   {
    "duration": 0,
    "start_time": "2023-08-04T23:39:39.951Z"
   },
   {
    "duration": 0,
    "start_time": "2023-08-04T23:39:39.952Z"
   },
   {
    "duration": 0,
    "start_time": "2023-08-04T23:39:39.953Z"
   },
   {
    "duration": 0,
    "start_time": "2023-08-04T23:39:39.954Z"
   },
   {
    "duration": 0,
    "start_time": "2023-08-04T23:39:39.955Z"
   },
   {
    "duration": 0,
    "start_time": "2023-08-04T23:39:39.956Z"
   },
   {
    "duration": 0,
    "start_time": "2023-08-04T23:39:39.957Z"
   },
   {
    "duration": 0,
    "start_time": "2023-08-04T23:39:39.958Z"
   },
   {
    "duration": 0,
    "start_time": "2023-08-04T23:39:39.960Z"
   },
   {
    "duration": 0,
    "start_time": "2023-08-04T23:39:39.961Z"
   },
   {
    "duration": 0,
    "start_time": "2023-08-04T23:39:39.962Z"
   },
   {
    "duration": 0,
    "start_time": "2023-08-04T23:39:39.963Z"
   },
   {
    "duration": 0,
    "start_time": "2023-08-04T23:39:39.995Z"
   },
   {
    "duration": 0,
    "start_time": "2023-08-04T23:39:39.996Z"
   },
   {
    "duration": 0,
    "start_time": "2023-08-04T23:39:39.996Z"
   },
   {
    "duration": 0,
    "start_time": "2023-08-04T23:39:39.997Z"
   },
   {
    "duration": 0,
    "start_time": "2023-08-04T23:39:39.998Z"
   },
   {
    "duration": 0,
    "start_time": "2023-08-04T23:39:39.999Z"
   },
   {
    "duration": 0,
    "start_time": "2023-08-04T23:39:40.000Z"
   },
   {
    "duration": 365,
    "start_time": "2023-08-04T23:43:21.626Z"
   },
   {
    "duration": 70,
    "start_time": "2023-08-04T23:43:25.611Z"
   },
   {
    "duration": 1545,
    "start_time": "2023-08-04T23:43:34.625Z"
   },
   {
    "duration": 3,
    "start_time": "2023-08-04T23:43:36.172Z"
   },
   {
    "duration": 981,
    "start_time": "2023-08-04T23:43:36.177Z"
   },
   {
    "duration": 277,
    "start_time": "2023-08-04T23:43:37.161Z"
   },
   {
    "duration": 510,
    "start_time": "2023-08-04T23:43:37.440Z"
   },
   {
    "duration": 1059,
    "start_time": "2023-08-04T23:43:37.952Z"
   },
   {
    "duration": 26,
    "start_time": "2023-08-04T23:43:39.013Z"
   },
   {
    "duration": 10,
    "start_time": "2023-08-04T23:43:39.041Z"
   },
   {
    "duration": 303,
    "start_time": "2023-08-04T23:43:39.053Z"
   },
   {
    "duration": 22,
    "start_time": "2023-08-04T23:43:39.360Z"
   },
   {
    "duration": 2296,
    "start_time": "2023-08-04T23:43:39.384Z"
   },
   {
    "duration": 36,
    "start_time": "2023-08-04T23:43:41.682Z"
   },
   {
    "duration": 24,
    "start_time": "2023-08-04T23:43:41.720Z"
   },
   {
    "duration": 363,
    "start_time": "2023-08-04T23:43:41.746Z"
   },
   {
    "duration": 21,
    "start_time": "2023-08-04T23:43:42.111Z"
   },
   {
    "duration": 13,
    "start_time": "2023-08-04T23:43:42.134Z"
   },
   {
    "duration": 36,
    "start_time": "2023-08-04T23:43:42.149Z"
   },
   {
    "duration": 2337,
    "start_time": "2023-08-04T23:43:42.196Z"
   },
   {
    "duration": 35,
    "start_time": "2023-08-04T23:43:44.535Z"
   },
   {
    "duration": 43,
    "start_time": "2023-08-04T23:43:44.572Z"
   },
   {
    "duration": 9,
    "start_time": "2023-08-04T23:43:44.616Z"
   },
   {
    "duration": 134,
    "start_time": "2023-08-04T23:43:44.627Z"
   },
   {
    "duration": 8,
    "start_time": "2023-08-04T23:43:44.763Z"
   },
   {
    "duration": 107,
    "start_time": "2023-08-04T23:43:44.773Z"
   },
   {
    "duration": 105,
    "start_time": "2023-08-04T23:43:44.882Z"
   },
   {
    "duration": 97,
    "start_time": "2023-08-04T23:43:44.998Z"
   },
   {
    "duration": 22,
    "start_time": "2023-08-04T23:43:45.100Z"
   },
   {
    "duration": 31,
    "start_time": "2023-08-04T23:43:45.128Z"
   },
   {
    "duration": 17,
    "start_time": "2023-08-04T23:43:45.161Z"
   },
   {
    "duration": 38,
    "start_time": "2023-08-04T23:43:45.180Z"
   },
   {
    "duration": 30,
    "start_time": "2023-08-04T23:43:45.220Z"
   },
   {
    "duration": 107,
    "start_time": "2023-08-04T23:43:45.252Z"
   },
   {
    "duration": 16,
    "start_time": "2023-08-04T23:43:45.361Z"
   },
   {
    "duration": 102,
    "start_time": "2023-08-04T23:43:45.379Z"
   },
   {
    "duration": 59,
    "start_time": "2023-08-04T23:43:45.483Z"
   },
   {
    "duration": 387,
    "start_time": "2023-08-04T23:43:45.544Z"
   },
   {
    "duration": 78,
    "start_time": "2023-08-04T23:43:45.933Z"
   },
   {
    "duration": 777,
    "start_time": "2023-08-04T23:43:46.013Z"
   },
   {
    "duration": 472,
    "start_time": "2023-08-04T23:43:46.793Z"
   },
   {
    "duration": 216,
    "start_time": "2023-08-04T23:43:47.267Z"
   },
   {
    "duration": 3,
    "start_time": "2023-08-04T23:43:47.485Z"
   },
   {
    "duration": 30916,
    "start_time": "2023-08-04T23:43:47.489Z"
   },
   {
    "duration": 296,
    "start_time": "2023-08-04T23:44:18.408Z"
   },
   {
    "duration": 3,
    "start_time": "2023-08-04T23:44:18.708Z"
   },
   {
    "duration": 67705,
    "start_time": "2023-08-04T23:44:18.713Z"
   },
   {
    "duration": 666,
    "start_time": "2023-08-04T23:45:26.420Z"
   },
   {
    "duration": 9,
    "start_time": "2023-08-04T23:45:27.088Z"
   },
   {
    "duration": 3420,
    "start_time": "2023-08-04T23:45:27.107Z"
   },
   {
    "duration": 203,
    "start_time": "2023-08-04T23:45:30.529Z"
   },
   {
    "duration": 2,
    "start_time": "2023-08-04T23:45:30.734Z"
   },
   {
    "duration": 1408564,
    "start_time": "2023-08-04T23:45:30.737Z"
   },
   {
    "duration": 817,
    "start_time": "2023-08-05T00:08:59.303Z"
   },
   {
    "duration": 2,
    "start_time": "2023-08-05T00:09:00.121Z"
   },
   {
    "duration": 2938,
    "start_time": "2023-08-05T00:09:00.125Z"
   },
   {
    "duration": 29,
    "start_time": "2023-08-05T00:09:03.065Z"
   },
   {
    "duration": 12,
    "start_time": "2023-08-05T00:09:03.107Z"
   },
   {
    "duration": 2393,
    "start_time": "2023-08-05T00:09:03.120Z"
   },
   {
    "duration": 28,
    "start_time": "2023-08-05T00:09:05.514Z"
   },
   {
    "duration": 224,
    "start_time": "2023-08-05T00:34:41.546Z"
   },
   {
    "duration": 139,
    "start_time": "2023-08-05T00:34:44.437Z"
   },
   {
    "duration": 203,
    "start_time": "2023-08-05T00:52:13.808Z"
   },
   {
    "duration": 208,
    "start_time": "2023-08-05T00:53:22.660Z"
   },
   {
    "duration": 89,
    "start_time": "2023-08-05T00:53:38.359Z"
   },
   {
    "duration": 67,
    "start_time": "2023-08-05T00:53:45.434Z"
   },
   {
    "duration": 208,
    "start_time": "2023-08-05T00:53:48.562Z"
   },
   {
    "duration": 71,
    "start_time": "2023-08-05T00:54:20.522Z"
   },
   {
    "duration": 205,
    "start_time": "2023-08-05T00:56:33.247Z"
   },
   {
    "duration": 47,
    "start_time": "2023-08-05T00:56:45.347Z"
   },
   {
    "duration": 332,
    "start_time": "2023-08-05T00:57:36.593Z"
   },
   {
    "duration": 25,
    "start_time": "2023-08-05T00:57:40.308Z"
   },
   {
    "duration": 303,
    "start_time": "2023-08-05T00:58:25.672Z"
   },
   {
    "duration": 99,
    "start_time": "2023-08-05T00:58:33.090Z"
   },
   {
    "duration": 371,
    "start_time": "2023-08-05T00:59:14.750Z"
   },
   {
    "duration": 541,
    "start_time": "2023-08-05T01:12:29.136Z"
   },
   {
    "duration": 2216,
    "start_time": "2023-08-05T01:14:17.548Z"
   },
   {
    "duration": 30,
    "start_time": "2023-08-05T01:14:30.425Z"
   },
   {
    "duration": 12,
    "start_time": "2023-08-05T01:16:07.444Z"
   },
   {
    "duration": 11,
    "start_time": "2023-08-05T01:16:38.383Z"
   },
   {
    "duration": 376,
    "start_time": "2023-08-05T01:23:51.011Z"
   },
   {
    "duration": 68,
    "start_time": "2023-08-05T01:24:01.526Z"
   },
   {
    "duration": 20,
    "start_time": "2023-08-05T01:24:14.481Z"
   },
   {
    "duration": 12,
    "start_time": "2023-08-05T01:24:34.081Z"
   },
   {
    "duration": 12,
    "start_time": "2023-08-05T01:25:10.240Z"
   },
   {
    "duration": 14,
    "start_time": "2023-08-05T01:25:31.348Z"
   },
   {
    "duration": 351,
    "start_time": "2023-08-05T01:28:00.019Z"
   },
   {
    "duration": 59,
    "start_time": "2023-08-05T01:28:09.484Z"
   },
   {
    "duration": 16,
    "start_time": "2023-08-05T01:28:13.315Z"
   },
   {
    "duration": 10,
    "start_time": "2023-08-05T01:28:19.840Z"
   },
   {
    "duration": 388,
    "start_time": "2023-08-05T01:31:05.094Z"
   },
   {
    "duration": 64,
    "start_time": "2023-08-05T01:31:09.598Z"
   },
   {
    "duration": 12,
    "start_time": "2023-08-05T01:31:12.933Z"
   },
   {
    "duration": 689,
    "start_time": "2023-08-05T01:31:22.183Z"
   },
   {
    "duration": 71,
    "start_time": "2023-08-05T01:31:28.416Z"
   },
   {
    "duration": 17,
    "start_time": "2023-08-05T01:31:33.711Z"
   },
   {
    "duration": 330,
    "start_time": "2023-08-05T01:32:09.216Z"
   },
   {
    "duration": 53,
    "start_time": "2023-08-05T01:32:13.625Z"
   },
   {
    "duration": 17,
    "start_time": "2023-08-05T01:32:17.794Z"
   },
   {
    "duration": 1614,
    "start_time": "2023-08-05T06:12:29.277Z"
   },
   {
    "duration": 4,
    "start_time": "2023-08-05T06:12:30.893Z"
   },
   {
    "duration": 1103,
    "start_time": "2023-08-05T06:12:30.898Z"
   },
   {
    "duration": 262,
    "start_time": "2023-08-05T06:12:32.003Z"
   },
   {
    "duration": 422,
    "start_time": "2023-08-05T06:12:32.268Z"
   },
   {
    "duration": 881,
    "start_time": "2023-08-05T06:12:32.691Z"
   },
   {
    "duration": 24,
    "start_time": "2023-08-05T06:12:33.574Z"
   },
   {
    "duration": 15,
    "start_time": "2023-08-05T06:12:33.600Z"
   },
   {
    "duration": 303,
    "start_time": "2023-08-05T06:12:33.616Z"
   },
   {
    "duration": 32,
    "start_time": "2023-08-05T06:12:33.922Z"
   },
   {
    "duration": 2056,
    "start_time": "2023-08-05T06:12:33.956Z"
   },
   {
    "duration": 17,
    "start_time": "2023-08-05T06:12:36.013Z"
   },
   {
    "duration": 28,
    "start_time": "2023-08-05T06:12:36.039Z"
   },
   {
    "duration": 296,
    "start_time": "2023-08-05T06:12:36.069Z"
   },
   {
    "duration": 22,
    "start_time": "2023-08-05T06:12:36.367Z"
   },
   {
    "duration": 21,
    "start_time": "2023-08-05T06:12:36.390Z"
   },
   {
    "duration": 58,
    "start_time": "2023-08-05T06:12:36.413Z"
   },
   {
    "duration": 2221,
    "start_time": "2023-08-05T06:12:36.472Z"
   },
   {
    "duration": 27,
    "start_time": "2023-08-05T06:12:38.695Z"
   },
   {
    "duration": 29,
    "start_time": "2023-08-05T06:12:38.723Z"
   },
   {
    "duration": 24,
    "start_time": "2023-08-05T06:12:38.756Z"
   },
   {
    "duration": 110,
    "start_time": "2023-08-05T06:12:38.781Z"
   },
   {
    "duration": 9,
    "start_time": "2023-08-05T06:12:38.892Z"
   },
   {
    "duration": 92,
    "start_time": "2023-08-05T06:12:38.902Z"
   },
   {
    "duration": 84,
    "start_time": "2023-08-05T06:12:38.995Z"
   },
   {
    "duration": 70,
    "start_time": "2023-08-05T06:12:39.081Z"
   },
   {
    "duration": 20,
    "start_time": "2023-08-05T06:12:39.153Z"
   },
   {
    "duration": 19,
    "start_time": "2023-08-05T06:12:39.179Z"
   },
   {
    "duration": 16,
    "start_time": "2023-08-05T06:12:39.200Z"
   },
   {
    "duration": 42,
    "start_time": "2023-08-05T06:12:39.218Z"
   },
   {
    "duration": 31,
    "start_time": "2023-08-05T06:12:39.262Z"
   },
   {
    "duration": 83,
    "start_time": "2023-08-05T06:12:39.294Z"
   },
   {
    "duration": 25,
    "start_time": "2023-08-05T06:12:39.378Z"
   },
   {
    "duration": 67,
    "start_time": "2023-08-05T06:12:39.404Z"
   },
   {
    "duration": 37,
    "start_time": "2023-08-05T06:12:39.472Z"
   },
   {
    "duration": 213,
    "start_time": "2023-08-05T06:12:39.510Z"
   },
   {
    "duration": 0,
    "start_time": "2023-08-05T06:12:39.724Z"
   },
   {
    "duration": 0,
    "start_time": "2023-08-05T06:12:39.726Z"
   },
   {
    "duration": 0,
    "start_time": "2023-08-05T06:12:39.727Z"
   },
   {
    "duration": 0,
    "start_time": "2023-08-05T06:12:39.737Z"
   },
   {
    "duration": 0,
    "start_time": "2023-08-05T06:12:39.738Z"
   },
   {
    "duration": 0,
    "start_time": "2023-08-05T06:12:39.739Z"
   },
   {
    "duration": 0,
    "start_time": "2023-08-05T06:12:39.740Z"
   },
   {
    "duration": 0,
    "start_time": "2023-08-05T06:12:39.742Z"
   },
   {
    "duration": 0,
    "start_time": "2023-08-05T06:12:39.743Z"
   },
   {
    "duration": 0,
    "start_time": "2023-08-05T06:12:39.743Z"
   },
   {
    "duration": 0,
    "start_time": "2023-08-05T06:12:39.745Z"
   },
   {
    "duration": 0,
    "start_time": "2023-08-05T06:12:39.747Z"
   },
   {
    "duration": 0,
    "start_time": "2023-08-05T06:12:39.747Z"
   },
   {
    "duration": 0,
    "start_time": "2023-08-05T06:12:39.750Z"
   },
   {
    "duration": 0,
    "start_time": "2023-08-05T06:12:39.751Z"
   },
   {
    "duration": 0,
    "start_time": "2023-08-05T06:12:39.752Z"
   },
   {
    "duration": 0,
    "start_time": "2023-08-05T06:12:39.753Z"
   },
   {
    "duration": 0,
    "start_time": "2023-08-05T06:12:39.754Z"
   },
   {
    "duration": 0,
    "start_time": "2023-08-05T06:12:39.756Z"
   },
   {
    "duration": 0,
    "start_time": "2023-08-05T06:12:39.757Z"
   },
   {
    "duration": 0,
    "start_time": "2023-08-05T06:12:39.758Z"
   },
   {
    "duration": 0,
    "start_time": "2023-08-05T06:12:39.759Z"
   },
   {
    "duration": 0,
    "start_time": "2023-08-05T06:12:39.760Z"
   },
   {
    "duration": 252,
    "start_time": "2023-08-05T06:13:41.764Z"
   },
   {
    "duration": 468,
    "start_time": "2023-08-05T06:14:45.713Z"
   },
   {
    "duration": 9,
    "start_time": "2023-08-05T06:15:11.436Z"
   },
   {
    "duration": 258,
    "start_time": "2023-08-05T06:18:07.662Z"
   },
   {
    "duration": 561,
    "start_time": "2023-08-05T06:20:29.367Z"
   },
   {
    "duration": 12,
    "start_time": "2023-08-05T06:20:42.568Z"
   },
   {
    "duration": 17,
    "start_time": "2023-08-05T06:20:52.330Z"
   },
   {
    "duration": 13,
    "start_time": "2023-08-05T06:21:02.371Z"
   },
   {
    "duration": 1419,
    "start_time": "2023-08-05T06:23:44.942Z"
   },
   {
    "duration": 3,
    "start_time": "2023-08-05T06:23:46.362Z"
   },
   {
    "duration": 708,
    "start_time": "2023-08-05T06:23:46.366Z"
   },
   {
    "duration": 243,
    "start_time": "2023-08-05T06:23:47.076Z"
   },
   {
    "duration": 384,
    "start_time": "2023-08-05T06:23:47.321Z"
   },
   {
    "duration": 783,
    "start_time": "2023-08-05T06:23:47.707Z"
   },
   {
    "duration": 25,
    "start_time": "2023-08-05T06:23:48.492Z"
   },
   {
    "duration": 20,
    "start_time": "2023-08-05T06:23:48.519Z"
   },
   {
    "duration": 263,
    "start_time": "2023-08-05T06:23:48.540Z"
   },
   {
    "duration": 19,
    "start_time": "2023-08-05T06:23:48.806Z"
   },
   {
    "duration": 1877,
    "start_time": "2023-08-05T06:23:48.827Z"
   },
   {
    "duration": 17,
    "start_time": "2023-08-05T06:23:50.706Z"
   },
   {
    "duration": 28,
    "start_time": "2023-08-05T06:23:50.724Z"
   },
   {
    "duration": 251,
    "start_time": "2023-08-05T06:23:50.753Z"
   },
   {
    "duration": 17,
    "start_time": "2023-08-05T06:23:51.005Z"
   },
   {
    "duration": 21,
    "start_time": "2023-08-05T06:23:51.024Z"
   },
   {
    "duration": 35,
    "start_time": "2023-08-05T06:23:51.046Z"
   },
   {
    "duration": 1949,
    "start_time": "2023-08-05T06:23:51.083Z"
   },
   {
    "duration": 29,
    "start_time": "2023-08-05T06:23:53.034Z"
   },
   {
    "duration": 14,
    "start_time": "2023-08-05T06:23:53.064Z"
   },
   {
    "duration": 8,
    "start_time": "2023-08-05T06:23:53.080Z"
   },
   {
    "duration": 129,
    "start_time": "2023-08-05T06:23:53.089Z"
   },
   {
    "duration": 9,
    "start_time": "2023-08-05T06:23:53.219Z"
   },
   {
    "duration": 67,
    "start_time": "2023-08-05T06:23:53.229Z"
   },
   {
    "duration": 82,
    "start_time": "2023-08-05T06:23:53.298Z"
   },
   {
    "duration": 65,
    "start_time": "2023-08-05T06:23:53.382Z"
   },
   {
    "duration": 6,
    "start_time": "2023-08-05T06:23:53.448Z"
   },
   {
    "duration": 19,
    "start_time": "2023-08-05T06:23:53.457Z"
   },
   {
    "duration": 16,
    "start_time": "2023-08-05T06:23:53.478Z"
   },
   {
    "duration": 49,
    "start_time": "2023-08-05T06:23:53.495Z"
   },
   {
    "duration": 26,
    "start_time": "2023-08-05T06:23:53.545Z"
   },
   {
    "duration": 78,
    "start_time": "2023-08-05T06:23:53.573Z"
   },
   {
    "duration": 13,
    "start_time": "2023-08-05T06:23:53.653Z"
   },
   {
    "duration": 52,
    "start_time": "2023-08-05T06:23:53.668Z"
   },
   {
    "duration": 37,
    "start_time": "2023-08-05T06:23:53.737Z"
   },
   {
    "duration": 497,
    "start_time": "2023-08-05T06:23:53.776Z"
   },
   {
    "duration": 551,
    "start_time": "2023-08-05T06:23:54.274Z"
   },
   {
    "duration": 299,
    "start_time": "2023-08-05T06:23:54.826Z"
   },
   {
    "duration": 156,
    "start_time": "2023-08-05T06:23:55.126Z"
   },
   {
    "duration": 3,
    "start_time": "2023-08-05T06:23:55.284Z"
   },
   {
    "duration": 17152,
    "start_time": "2023-08-05T06:23:55.288Z"
   },
   {
    "duration": 200,
    "start_time": "2023-08-05T06:24:12.441Z"
   },
   {
    "duration": 2,
    "start_time": "2023-08-05T06:24:12.643Z"
   },
   {
    "duration": 49413,
    "start_time": "2023-08-05T06:24:12.647Z"
   },
   {
    "duration": 584,
    "start_time": "2023-08-05T06:25:02.065Z"
   },
   {
    "duration": 9,
    "start_time": "2023-08-05T06:25:02.652Z"
   },
   {
    "duration": 3269,
    "start_time": "2023-08-05T06:25:02.662Z"
   },
   {
    "duration": 180,
    "start_time": "2023-08-05T06:25:05.934Z"
   },
   {
    "duration": 3,
    "start_time": "2023-08-05T06:25:06.116Z"
   },
   {
    "duration": 1576,
    "start_time": "2023-08-05T14:54:09.183Z"
   },
   {
    "duration": 3,
    "start_time": "2023-08-05T14:54:10.760Z"
   },
   {
    "duration": 1114,
    "start_time": "2023-08-05T14:54:10.764Z"
   },
   {
    "duration": 272,
    "start_time": "2023-08-05T14:54:11.880Z"
   },
   {
    "duration": 445,
    "start_time": "2023-08-05T14:54:12.154Z"
   },
   {
    "duration": 872,
    "start_time": "2023-08-05T14:54:12.600Z"
   },
   {
    "duration": 36,
    "start_time": "2023-08-05T14:54:13.474Z"
   },
   {
    "duration": 11,
    "start_time": "2023-08-05T14:54:13.512Z"
   },
   {
    "duration": 330,
    "start_time": "2023-08-05T14:54:13.524Z"
   },
   {
    "duration": 22,
    "start_time": "2023-08-05T14:54:13.856Z"
   },
   {
    "duration": 2174,
    "start_time": "2023-08-05T14:54:13.880Z"
   },
   {
    "duration": 18,
    "start_time": "2023-08-05T14:54:16.055Z"
   },
   {
    "duration": 111,
    "start_time": "2023-08-05T14:54:16.075Z"
   },
   {
    "duration": 314,
    "start_time": "2023-08-05T14:54:16.198Z"
   },
   {
    "duration": 20,
    "start_time": "2023-08-05T14:54:16.514Z"
   },
   {
    "duration": 116,
    "start_time": "2023-08-05T14:54:16.535Z"
   },
   {
    "duration": 169,
    "start_time": "2023-08-05T14:54:16.653Z"
   },
   {
    "duration": 2197,
    "start_time": "2023-08-05T14:54:16.824Z"
   },
   {
    "duration": 30,
    "start_time": "2023-08-05T14:54:19.023Z"
   },
   {
    "duration": 73,
    "start_time": "2023-08-05T14:54:19.054Z"
   },
   {
    "duration": 35,
    "start_time": "2023-08-05T14:54:19.128Z"
   },
   {
    "duration": 143,
    "start_time": "2023-08-05T14:54:19.165Z"
   },
   {
    "duration": 7,
    "start_time": "2023-08-05T14:54:19.310Z"
   },
   {
    "duration": 84,
    "start_time": "2023-08-05T14:54:19.319Z"
   },
   {
    "duration": 94,
    "start_time": "2023-08-05T14:54:19.404Z"
   },
   {
    "duration": 80,
    "start_time": "2023-08-05T14:54:19.500Z"
   },
   {
    "duration": 12,
    "start_time": "2023-08-05T14:54:19.582Z"
   },
   {
    "duration": 16,
    "start_time": "2023-08-05T14:54:19.601Z"
   },
   {
    "duration": 26,
    "start_time": "2023-08-05T14:54:19.618Z"
   },
   {
    "duration": 40,
    "start_time": "2023-08-05T14:54:19.645Z"
   },
   {
    "duration": 34,
    "start_time": "2023-08-05T14:54:19.687Z"
   },
   {
    "duration": 98,
    "start_time": "2023-08-05T14:54:19.723Z"
   },
   {
    "duration": 13,
    "start_time": "2023-08-05T14:54:19.822Z"
   },
   {
    "duration": 85,
    "start_time": "2023-08-05T14:54:19.837Z"
   },
   {
    "duration": 52,
    "start_time": "2023-08-05T14:54:19.924Z"
   },
   {
    "duration": 577,
    "start_time": "2023-08-05T14:54:19.978Z"
   },
   {
    "duration": 731,
    "start_time": "2023-08-05T14:54:20.556Z"
   },
   {
    "duration": 440,
    "start_time": "2023-08-05T14:54:21.299Z"
   },
   {
    "duration": 191,
    "start_time": "2023-08-05T14:54:21.741Z"
   },
   {
    "duration": 3,
    "start_time": "2023-08-05T14:54:21.934Z"
   },
   {
    "duration": 20056,
    "start_time": "2023-08-05T14:54:21.938Z"
   },
   {
    "duration": 201,
    "start_time": "2023-08-05T14:54:41.995Z"
   },
   {
    "duration": 2,
    "start_time": "2023-08-05T14:54:42.198Z"
   },
   {
    "duration": 60719,
    "start_time": "2023-08-05T14:54:42.202Z"
   },
   {
    "duration": 522,
    "start_time": "2023-08-05T14:55:42.923Z"
   },
   {
    "duration": 3,
    "start_time": "2023-08-05T14:55:43.447Z"
   },
   {
    "duration": 3101,
    "start_time": "2023-08-05T14:55:43.452Z"
   },
   {
    "duration": 199,
    "start_time": "2023-08-05T14:55:46.555Z"
   },
   {
    "duration": 2,
    "start_time": "2023-08-05T14:55:46.756Z"
   },
   {
    "duration": 81046,
    "start_time": "2023-08-05T14:55:46.760Z"
   },
   {
    "duration": 1100,
    "start_time": "2023-08-05T14:57:07.808Z"
   },
   {
    "duration": 2,
    "start_time": "2023-08-05T14:57:08.910Z"
   },
   {
    "duration": 1864,
    "start_time": "2023-08-05T14:57:08.913Z"
   },
   {
    "duration": 34,
    "start_time": "2023-08-05T14:57:10.779Z"
   },
   {
    "duration": 9,
    "start_time": "2023-08-05T14:57:10.814Z"
   },
   {
    "duration": 1660,
    "start_time": "2023-08-05T14:57:10.826Z"
   },
   {
    "duration": 39,
    "start_time": "2023-08-05T14:57:12.488Z"
   },
   {
    "duration": 14,
    "start_time": "2023-08-05T15:03:45.999Z"
   },
   {
    "duration": 56,
    "start_time": "2023-08-07T20:13:05.700Z"
   },
   {
    "duration": 6,
    "start_time": "2023-08-07T20:13:11.997Z"
   }
  ],
  "kernelspec": {
   "display_name": "Python 3 (ipykernel)",
   "language": "python",
   "name": "python3"
  },
  "language_info": {
   "codemirror_mode": {
    "name": "ipython",
    "version": 3
   },
   "file_extension": ".py",
   "mimetype": "text/x-python",
   "name": "python",
   "nbconvert_exporter": "python",
   "pygments_lexer": "ipython3",
   "version": "3.9.5"
  },
  "toc": {
   "base_numbering": 1,
   "nav_menu": {},
   "number_sections": true,
   "sideBar": true,
   "skip_h1_title": true,
   "title_cell": "Table of Contents",
   "title_sidebar": "Contents",
   "toc_cell": false,
   "toc_position": {},
   "toc_section_display": true,
   "toc_window_display": false
  }
 },
 "nbformat": 4,
 "nbformat_minor": 2
}
